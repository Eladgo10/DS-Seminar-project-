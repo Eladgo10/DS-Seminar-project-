{
 "cells": [
  {
   "cell_type": "markdown",
   "metadata": {},
   "source": [
    "# Welcome\n",
    "### Seminar in data sceince, project notebook\n",
    "* Tel Aviv university, department of economics\n",
    "* Authors: Elad Golan & Dov Tuch\n",
    "* Fraud Detection in car insurance  "
   ]
  },
  {
   "cell_type": "markdown",
   "metadata": {},
   "source": [
    "# **Part 0 - Load packages and dataset**"
   ]
  },
  {
   "cell_type": "markdown",
   "metadata": {},
   "source": [
    "### 0.a - Packages "
   ]
  },
  {
   "cell_type": "code",
   "execution_count": 1,
   "metadata": {
    "execution": {
     "iopub.execute_input": "2022-04-12T13:32:47.850421Z",
     "iopub.status.busy": "2022-04-12T13:32:47.850123Z",
     "iopub.status.idle": "2022-04-12T13:32:47.856689Z",
     "shell.execute_reply": "2022-04-12T13:32:47.855997Z",
     "shell.execute_reply.started": "2022-04-12T13:32:47.850387Z"
    }
   },
   "outputs": [],
   "source": [
    "#imort packages\n",
    "import numpy as np # linear algebra\n",
    "import pandas as pd # Data frames\n",
    "import seaborn as sns # plots \n",
    "import matplotlib.pyplot as plt #plots\n",
    "import sklearn # Data science package\n",
    "from sklearn.impute import SimpleImputer # for replace NA with avarge\n",
    "from sklearn.model_selection import train_test_split  # for spliting the data\n",
    "from sklearn.ensemble import RandomForestClassifier # RF classifier\n",
    "from sklearn.tree import plot_tree \n",
    "from sklearn.inspection import permutation_importance  #feature importance\n",
    "from sklearn.pipeline import make_pipeline \n",
    "from sklearn.svm import SVC # SVM classifier\n",
    "from sklearn.feature_selection import SelectKBest, chi2,mutual_info_classif #feature selection\n",
    "from sklearn.preprocessing import StandardScaler # normlize features\n",
    "from sklearn.naive_bayes import BernoulliNB , ComplementNB, CategoricalNB #NB classifiers \n",
    "# for evaluating preformance\n",
    "from sklearn import metrics \n",
    "from sklearn.metrics import confusion_matrix\n",
    "from sklearn.metrics import classification_report\n",
    "from sklearn.metrics import roc_auc_score, accuracy_score, confusion_matrix, ConfusionMatrixDisplay, f1_score,fbeta_score, precision_recall_curve,auc\n",
    "from sklearn.metrics import precision_score\n",
    "from sklearn.metrics import recall_score\n",
    "##\n",
    "from collections import Counter\n",
    "import researchpy as rp #for crosstab\n",
    "import scipy.stats as stats # chi^2 test\n",
    "from scipy.stats import pearsonr #correlation\n",
    "import random #  for comuting random seed\n",
    " #preprocessing\n",
    "from category_encoders.ordinal import OrdinalEncoder\n",
    "from category_encoders.binary import BinaryEncoder\n",
    "from category_encoders.one_hot import OneHotEncoder\n",
    "##\n",
    "import imblearn\n",
    "from imblearn.over_sampling import SMOTE #oversampling\n",
    "from imblearn.metrics import geometric_mean_score #metric\n",
    "from imblearn.under_sampling import NearMiss #undersampling\n"
   ]
  },
  {
   "cell_type": "code",
   "execution_count": 2,
   "metadata": {},
   "outputs": [],
   "source": [
    "np.random.seed(2020)"
   ]
  },
  {
   "cell_type": "markdown",
   "metadata": {},
   "source": [
    "### 0.b - Load Vechicle Insures Dataset "
   ]
  },
  {
   "cell_type": "code",
   "execution_count": 3,
   "metadata": {
    "execution": {
     "iopub.execute_input": "2022-04-12T13:32:51.895470Z",
     "iopub.status.busy": "2022-04-12T13:32:51.895014Z",
     "iopub.status.idle": "2022-04-12T13:32:52.103608Z",
     "shell.execute_reply": "2022-04-12T13:32:52.102493Z",
     "shell.execute_reply.started": "2022-04-12T13:32:51.895417Z"
    }
   },
   "outputs": [
    {
     "data": {
      "text/html": [
       "<div>\n",
       "<style scoped>\n",
       "    .dataframe tbody tr th:only-of-type {\n",
       "        vertical-align: middle;\n",
       "    }\n",
       "\n",
       "    .dataframe tbody tr th {\n",
       "        vertical-align: top;\n",
       "    }\n",
       "\n",
       "    .dataframe thead th {\n",
       "        text-align: right;\n",
       "    }\n",
       "</style>\n",
       "<table border=\"1\" class=\"dataframe\">\n",
       "  <thead>\n",
       "    <tr style=\"text-align: right;\">\n",
       "      <th></th>\n",
       "      <th>Month</th>\n",
       "      <th>WeekOfMonth</th>\n",
       "      <th>DayOfWeek</th>\n",
       "      <th>Make</th>\n",
       "      <th>AccidentArea</th>\n",
       "      <th>DayOfWeekClaimed</th>\n",
       "      <th>MonthClaimed</th>\n",
       "      <th>WeekOfMonthClaimed</th>\n",
       "      <th>Sex</th>\n",
       "      <th>MaritalStatus</th>\n",
       "      <th>...</th>\n",
       "      <th>AgeOfVehicle</th>\n",
       "      <th>AgeOfPolicyHolder</th>\n",
       "      <th>PoliceReportFiled</th>\n",
       "      <th>WitnessPresent</th>\n",
       "      <th>AgentType</th>\n",
       "      <th>NumberOfSuppliments</th>\n",
       "      <th>AddressChange_Claim</th>\n",
       "      <th>NumberOfCars</th>\n",
       "      <th>Year</th>\n",
       "      <th>BasePolicy</th>\n",
       "    </tr>\n",
       "  </thead>\n",
       "  <tbody>\n",
       "    <tr>\n",
       "      <th>0</th>\n",
       "      <td>Dec</td>\n",
       "      <td>5</td>\n",
       "      <td>Wednesday</td>\n",
       "      <td>Honda</td>\n",
       "      <td>Urban</td>\n",
       "      <td>Tuesday</td>\n",
       "      <td>Jan</td>\n",
       "      <td>1</td>\n",
       "      <td>Female</td>\n",
       "      <td>Single</td>\n",
       "      <td>...</td>\n",
       "      <td>3 years</td>\n",
       "      <td>26 to 30</td>\n",
       "      <td>No</td>\n",
       "      <td>No</td>\n",
       "      <td>External</td>\n",
       "      <td>none</td>\n",
       "      <td>1 year</td>\n",
       "      <td>3 to 4</td>\n",
       "      <td>1994</td>\n",
       "      <td>Liability</td>\n",
       "    </tr>\n",
       "    <tr>\n",
       "      <th>1</th>\n",
       "      <td>Jan</td>\n",
       "      <td>3</td>\n",
       "      <td>Wednesday</td>\n",
       "      <td>Honda</td>\n",
       "      <td>Urban</td>\n",
       "      <td>Monday</td>\n",
       "      <td>Jan</td>\n",
       "      <td>4</td>\n",
       "      <td>Male</td>\n",
       "      <td>Single</td>\n",
       "      <td>...</td>\n",
       "      <td>6 years</td>\n",
       "      <td>31 to 35</td>\n",
       "      <td>Yes</td>\n",
       "      <td>No</td>\n",
       "      <td>External</td>\n",
       "      <td>none</td>\n",
       "      <td>no change</td>\n",
       "      <td>1 vehicle</td>\n",
       "      <td>1994</td>\n",
       "      <td>Collision</td>\n",
       "    </tr>\n",
       "    <tr>\n",
       "      <th>2</th>\n",
       "      <td>Oct</td>\n",
       "      <td>5</td>\n",
       "      <td>Friday</td>\n",
       "      <td>Honda</td>\n",
       "      <td>Urban</td>\n",
       "      <td>Thursday</td>\n",
       "      <td>Nov</td>\n",
       "      <td>2</td>\n",
       "      <td>Male</td>\n",
       "      <td>Married</td>\n",
       "      <td>...</td>\n",
       "      <td>7 years</td>\n",
       "      <td>41 to 50</td>\n",
       "      <td>No</td>\n",
       "      <td>No</td>\n",
       "      <td>External</td>\n",
       "      <td>none</td>\n",
       "      <td>no change</td>\n",
       "      <td>1 vehicle</td>\n",
       "      <td>1994</td>\n",
       "      <td>Collision</td>\n",
       "    </tr>\n",
       "    <tr>\n",
       "      <th>3</th>\n",
       "      <td>Jun</td>\n",
       "      <td>2</td>\n",
       "      <td>Saturday</td>\n",
       "      <td>Toyota</td>\n",
       "      <td>Rural</td>\n",
       "      <td>Friday</td>\n",
       "      <td>Jul</td>\n",
       "      <td>1</td>\n",
       "      <td>Male</td>\n",
       "      <td>Married</td>\n",
       "      <td>...</td>\n",
       "      <td>more than 7</td>\n",
       "      <td>51 to 65</td>\n",
       "      <td>Yes</td>\n",
       "      <td>No</td>\n",
       "      <td>External</td>\n",
       "      <td>more than 5</td>\n",
       "      <td>no change</td>\n",
       "      <td>1 vehicle</td>\n",
       "      <td>1994</td>\n",
       "      <td>Liability</td>\n",
       "    </tr>\n",
       "    <tr>\n",
       "      <th>4</th>\n",
       "      <td>Jan</td>\n",
       "      <td>5</td>\n",
       "      <td>Monday</td>\n",
       "      <td>Honda</td>\n",
       "      <td>Urban</td>\n",
       "      <td>Tuesday</td>\n",
       "      <td>Feb</td>\n",
       "      <td>2</td>\n",
       "      <td>Female</td>\n",
       "      <td>Single</td>\n",
       "      <td>...</td>\n",
       "      <td>5 years</td>\n",
       "      <td>31 to 35</td>\n",
       "      <td>No</td>\n",
       "      <td>No</td>\n",
       "      <td>External</td>\n",
       "      <td>none</td>\n",
       "      <td>no change</td>\n",
       "      <td>1 vehicle</td>\n",
       "      <td>1994</td>\n",
       "      <td>Collision</td>\n",
       "    </tr>\n",
       "    <tr>\n",
       "      <th>...</th>\n",
       "      <td>...</td>\n",
       "      <td>...</td>\n",
       "      <td>...</td>\n",
       "      <td>...</td>\n",
       "      <td>...</td>\n",
       "      <td>...</td>\n",
       "      <td>...</td>\n",
       "      <td>...</td>\n",
       "      <td>...</td>\n",
       "      <td>...</td>\n",
       "      <td>...</td>\n",
       "      <td>...</td>\n",
       "      <td>...</td>\n",
       "      <td>...</td>\n",
       "      <td>...</td>\n",
       "      <td>...</td>\n",
       "      <td>...</td>\n",
       "      <td>...</td>\n",
       "      <td>...</td>\n",
       "      <td>...</td>\n",
       "      <td>...</td>\n",
       "    </tr>\n",
       "    <tr>\n",
       "      <th>15415</th>\n",
       "      <td>Nov</td>\n",
       "      <td>4</td>\n",
       "      <td>Friday</td>\n",
       "      <td>Toyota</td>\n",
       "      <td>Urban</td>\n",
       "      <td>Tuesday</td>\n",
       "      <td>Nov</td>\n",
       "      <td>5</td>\n",
       "      <td>Male</td>\n",
       "      <td>Married</td>\n",
       "      <td>...</td>\n",
       "      <td>6 years</td>\n",
       "      <td>31 to 35</td>\n",
       "      <td>No</td>\n",
       "      <td>No</td>\n",
       "      <td>External</td>\n",
       "      <td>none</td>\n",
       "      <td>no change</td>\n",
       "      <td>1 vehicle</td>\n",
       "      <td>1996</td>\n",
       "      <td>Collision</td>\n",
       "    </tr>\n",
       "    <tr>\n",
       "      <th>15416</th>\n",
       "      <td>Nov</td>\n",
       "      <td>5</td>\n",
       "      <td>Thursday</td>\n",
       "      <td>Pontiac</td>\n",
       "      <td>Urban</td>\n",
       "      <td>Friday</td>\n",
       "      <td>Dec</td>\n",
       "      <td>1</td>\n",
       "      <td>Male</td>\n",
       "      <td>Married</td>\n",
       "      <td>...</td>\n",
       "      <td>6 years</td>\n",
       "      <td>31 to 35</td>\n",
       "      <td>No</td>\n",
       "      <td>No</td>\n",
       "      <td>External</td>\n",
       "      <td>more than 5</td>\n",
       "      <td>no change</td>\n",
       "      <td>3 to 4</td>\n",
       "      <td>1996</td>\n",
       "      <td>Liability</td>\n",
       "    </tr>\n",
       "    <tr>\n",
       "      <th>15417</th>\n",
       "      <td>Nov</td>\n",
       "      <td>5</td>\n",
       "      <td>Thursday</td>\n",
       "      <td>Toyota</td>\n",
       "      <td>Rural</td>\n",
       "      <td>Friday</td>\n",
       "      <td>Dec</td>\n",
       "      <td>1</td>\n",
       "      <td>Male</td>\n",
       "      <td>Single</td>\n",
       "      <td>...</td>\n",
       "      <td>5 years</td>\n",
       "      <td>26 to 30</td>\n",
       "      <td>No</td>\n",
       "      <td>No</td>\n",
       "      <td>External</td>\n",
       "      <td>1 to 2</td>\n",
       "      <td>no change</td>\n",
       "      <td>1 vehicle</td>\n",
       "      <td>1996</td>\n",
       "      <td>Collision</td>\n",
       "    </tr>\n",
       "    <tr>\n",
       "      <th>15418</th>\n",
       "      <td>Dec</td>\n",
       "      <td>1</td>\n",
       "      <td>Monday</td>\n",
       "      <td>Toyota</td>\n",
       "      <td>Urban</td>\n",
       "      <td>Thursday</td>\n",
       "      <td>Dec</td>\n",
       "      <td>2</td>\n",
       "      <td>Female</td>\n",
       "      <td>Married</td>\n",
       "      <td>...</td>\n",
       "      <td>2 years</td>\n",
       "      <td>31 to 35</td>\n",
       "      <td>No</td>\n",
       "      <td>No</td>\n",
       "      <td>External</td>\n",
       "      <td>more than 5</td>\n",
       "      <td>no change</td>\n",
       "      <td>1 vehicle</td>\n",
       "      <td>1996</td>\n",
       "      <td>All Perils</td>\n",
       "    </tr>\n",
       "    <tr>\n",
       "      <th>15419</th>\n",
       "      <td>Dec</td>\n",
       "      <td>2</td>\n",
       "      <td>Wednesday</td>\n",
       "      <td>Toyota</td>\n",
       "      <td>Urban</td>\n",
       "      <td>Thursday</td>\n",
       "      <td>Dec</td>\n",
       "      <td>3</td>\n",
       "      <td>Male</td>\n",
       "      <td>Single</td>\n",
       "      <td>...</td>\n",
       "      <td>5 years</td>\n",
       "      <td>26 to 30</td>\n",
       "      <td>No</td>\n",
       "      <td>No</td>\n",
       "      <td>External</td>\n",
       "      <td>1 to 2</td>\n",
       "      <td>no change</td>\n",
       "      <td>1 vehicle</td>\n",
       "      <td>1996</td>\n",
       "      <td>Collision</td>\n",
       "    </tr>\n",
       "  </tbody>\n",
       "</table>\n",
       "<p>15420 rows × 33 columns</p>\n",
       "</div>"
      ],
      "text/plain": [
       "      Month  WeekOfMonth  DayOfWeek     Make AccidentArea DayOfWeekClaimed  \\\n",
       "0       Dec            5  Wednesday    Honda        Urban          Tuesday   \n",
       "1       Jan            3  Wednesday    Honda        Urban           Monday   \n",
       "2       Oct            5     Friday    Honda        Urban         Thursday   \n",
       "3       Jun            2   Saturday   Toyota        Rural           Friday   \n",
       "4       Jan            5     Monday    Honda        Urban          Tuesday   \n",
       "...     ...          ...        ...      ...          ...              ...   \n",
       "15415   Nov            4     Friday   Toyota        Urban          Tuesday   \n",
       "15416   Nov            5   Thursday  Pontiac        Urban           Friday   \n",
       "15417   Nov            5   Thursday   Toyota        Rural           Friday   \n",
       "15418   Dec            1     Monday   Toyota        Urban         Thursday   \n",
       "15419   Dec            2  Wednesday   Toyota        Urban         Thursday   \n",
       "\n",
       "      MonthClaimed  WeekOfMonthClaimed     Sex MaritalStatus  ...  \\\n",
       "0              Jan                   1  Female        Single  ...   \n",
       "1              Jan                   4    Male        Single  ...   \n",
       "2              Nov                   2    Male       Married  ...   \n",
       "3              Jul                   1    Male       Married  ...   \n",
       "4              Feb                   2  Female        Single  ...   \n",
       "...            ...                 ...     ...           ...  ...   \n",
       "15415          Nov                   5    Male       Married  ...   \n",
       "15416          Dec                   1    Male       Married  ...   \n",
       "15417          Dec                   1    Male        Single  ...   \n",
       "15418          Dec                   2  Female       Married  ...   \n",
       "15419          Dec                   3    Male        Single  ...   \n",
       "\n",
       "       AgeOfVehicle AgeOfPolicyHolder PoliceReportFiled WitnessPresent  \\\n",
       "0           3 years          26 to 30                No             No   \n",
       "1           6 years          31 to 35               Yes             No   \n",
       "2           7 years          41 to 50                No             No   \n",
       "3       more than 7          51 to 65               Yes             No   \n",
       "4           5 years          31 to 35                No             No   \n",
       "...             ...               ...               ...            ...   \n",
       "15415       6 years          31 to 35                No             No   \n",
       "15416       6 years          31 to 35                No             No   \n",
       "15417       5 years          26 to 30                No             No   \n",
       "15418       2 years          31 to 35                No             No   \n",
       "15419       5 years          26 to 30                No             No   \n",
       "\n",
       "      AgentType  NumberOfSuppliments  AddressChange_Claim  NumberOfCars  Year  \\\n",
       "0      External                 none               1 year        3 to 4  1994   \n",
       "1      External                 none            no change     1 vehicle  1994   \n",
       "2      External                 none            no change     1 vehicle  1994   \n",
       "3      External          more than 5            no change     1 vehicle  1994   \n",
       "4      External                 none            no change     1 vehicle  1994   \n",
       "...         ...                  ...                  ...           ...   ...   \n",
       "15415  External                 none            no change     1 vehicle  1996   \n",
       "15416  External          more than 5            no change        3 to 4  1996   \n",
       "15417  External               1 to 2            no change     1 vehicle  1996   \n",
       "15418  External          more than 5            no change     1 vehicle  1996   \n",
       "15419  External               1 to 2            no change     1 vehicle  1996   \n",
       "\n",
       "       BasePolicy  \n",
       "0       Liability  \n",
       "1       Collision  \n",
       "2       Collision  \n",
       "3       Liability  \n",
       "4       Collision  \n",
       "...           ...  \n",
       "15415   Collision  \n",
       "15416   Liability  \n",
       "15417   Collision  \n",
       "15418  All Perils  \n",
       "15419   Collision  \n",
       "\n",
       "[15420 rows x 33 columns]"
      ]
     },
     "execution_count": 3,
     "metadata": {},
     "output_type": "execute_result"
    }
   ],
   "source": [
    "url = \"https://raw.githubusercontent.com/Eladgo10/DS-Seminar-project-/main/fraud_oracle.csv\" #github link\n",
    "dataset = pd.read_csv(url)\n",
    "dataset"
   ]
  },
  {
   "cell_type": "code",
   "execution_count": null,
   "metadata": {},
   "outputs": [],
   "source": [
    "dataset.columns"
   ]
  },
  {
   "cell_type": "markdown",
   "metadata": {},
   "source": [
    "# **Part 1 - Desprective Statistics**"
   ]
  },
  {
   "cell_type": "markdown",
   "metadata": {},
   "source": [
    "### 1.a Describe numeric variables"
   ]
  },
  {
   "cell_type": "code",
   "execution_count": null,
   "metadata": {
    "execution": {
     "iopub.execute_input": "2022-04-12T12:56:11.511821Z",
     "iopub.status.busy": "2022-04-12T12:56:11.511395Z",
     "iopub.status.idle": "2022-04-12T12:56:11.564141Z",
     "shell.execute_reply": "2022-04-12T12:56:11.563150Z",
     "shell.execute_reply.started": "2022-04-12T12:56:11.511788Z"
    }
   },
   "outputs": [],
   "source": [
    "dataset.describe()\n"
   ]
  },
  {
   "cell_type": "markdown",
   "metadata": {},
   "source": [
    "### 1.b Describe qualtive features"
   ]
  },
  {
   "cell_type": "code",
   "execution_count": null,
   "metadata": {
    "execution": {
     "iopub.execute_input": "2022-04-12T12:56:11.565835Z",
     "iopub.status.busy": "2022-04-12T12:56:11.565564Z",
     "iopub.status.idle": "2022-04-12T12:56:11.710908Z",
     "shell.execute_reply": "2022-04-12T12:56:11.709822Z",
     "shell.execute_reply.started": "2022-04-12T12:56:11.565803Z"
    }
   },
   "outputs": [],
   "source": [
    "dataset.describe(include=['object'])"
   ]
  },
  {
   "cell_type": "markdown",
   "metadata": {},
   "source": [
    "### 1.c intresting variablas distrabution - bar plots, chi^2 test, common distrabution"
   ]
  },
  {
   "cell_type": "code",
   "execution_count": null,
   "metadata": {
    "execution": {
     "iopub.execute_input": "2022-04-12T12:56:11.712900Z",
     "iopub.status.busy": "2022-04-12T12:56:11.712632Z",
     "iopub.status.idle": "2022-04-12T12:56:11.731579Z",
     "shell.execute_reply": "2022-04-12T12:56:11.730461Z",
     "shell.execute_reply.started": "2022-04-12T12:56:11.712867Z"
    }
   },
   "outputs": [],
   "source": [
    "print(dataset['FraudFound_P'].value_counts(),'\\n') # 923 frauds and 14497 not fraud - outcome\n",
    "print(dataset['AgeOfPolicyHolder'].value_counts(),'\\n')\n",
    "print(dataset['WitnessPresent'].value_counts(), '\\n')\n",
    "print(dataset['PoliceReportFiled'].value_counts())\n"
   ]
  },
  {
   "cell_type": "markdown",
   "metadata": {},
   "source": [
    "#### bar plots"
   ]
  },
  {
   "cell_type": "code",
   "execution_count": null,
   "metadata": {
    "execution": {
     "iopub.execute_input": "2022-04-12T12:56:11.733595Z",
     "iopub.status.busy": "2022-04-12T12:56:11.733213Z",
     "iopub.status.idle": "2022-04-12T12:56:11.980708Z",
     "shell.execute_reply": "2022-04-12T12:56:11.979819Z",
     "shell.execute_reply.started": "2022-04-12T12:56:11.733546Z"
    }
   },
   "outputs": [],
   "source": [
    "# creating data for the plot\n",
    "data_FraudFound_P = pd.DataFrame({'category':['Not Fraud', 'Fraud'],\n",
    "                     'counts': dataset['FraudFound_P'].value_counts().values,\n",
    "                     'percentage': [round(sum(dataset.FraudFound_P == 0)/len(dataset), 3)*100 ,\n",
    "                                    round(sum(dataset.FraudFound_P == 1)/len(dataset), 3)*100]\n",
    "                    })\n",
    " \n",
    "\n",
    "plt.figure(figsize=(8,8))\n",
    "colors_list = ['tab:blue', 'tab:red']\n",
    "graph = plt.bar(data_FraudFound_P.category,data_FraudFound_P.counts, color = colors_list)\n",
    "plt.title(\"Figure 1: Percentage of Fraud and not fraud\")\n",
    "\n",
    "i = 0\n",
    "for p in graph:\n",
    "    width = p.get_width()\n",
    "    height = p.get_height()\n",
    "    x, y = p.get_xy()\n",
    "    plt.text(x+width/2,\n",
    "             y+height*1.01,\n",
    "             str(data_FraudFound_P.percentage[i])+'%',\n",
    "             ha='center',\n",
    "             weight='bold')\n",
    "    i+=1\n",
    "plt.show()"
   ]
  },
  {
   "cell_type": "code",
   "execution_count": null,
   "metadata": {
    "execution": {
     "iopub.execute_input": "2022-04-12T12:56:11.991346Z",
     "iopub.status.busy": "2022-04-12T12:56:11.990563Z",
     "iopub.status.idle": "2022-04-12T12:56:12.631662Z",
     "shell.execute_reply": "2022-04-12T12:56:12.630794Z",
     "shell.execute_reply.started": "2022-04-12T12:56:11.991295Z"
    }
   },
   "outputs": [],
   "source": [
    "sns.catplot(y=\"Make\", hue=\"FraudFound_P\", kind=\"count\",\n",
    "            palette=\"pastel\", edgecolor=\".6\",\n",
    "            data=dataset).set(title = \"Make and Fraud\")\n",
    "plt.show()\n"
   ]
  },
  {
   "cell_type": "code",
   "execution_count": null,
   "metadata": {
    "execution": {
     "iopub.execute_input": "2022-04-12T12:56:12.634949Z",
     "iopub.status.busy": "2022-04-12T12:56:12.634686Z",
     "iopub.status.idle": "2022-04-12T12:56:13.024116Z",
     "shell.execute_reply": "2022-04-12T12:56:13.023230Z",
     "shell.execute_reply.started": "2022-04-12T12:56:12.634916Z"
    }
   },
   "outputs": [],
   "source": [
    "sns.catplot(x=\"AccidentArea\", hue=\"FraudFound_P\", kind=\"count\",\n",
    "            palette=\"pastel\", edgecolor=\".6\",\n",
    "            data=dataset).set(title = \"AccidentArea and Fraud\")\n",
    "plt.show()\n"
   ]
  },
  {
   "cell_type": "code",
   "execution_count": null,
   "metadata": {
    "execution": {
     "iopub.execute_input": "2022-04-12T12:56:13.026674Z",
     "iopub.status.busy": "2022-04-12T12:56:13.025647Z",
     "iopub.status.idle": "2022-04-12T12:56:13.396077Z",
     "shell.execute_reply": "2022-04-12T12:56:13.395150Z",
     "shell.execute_reply.started": "2022-04-12T12:56:13.026553Z"
    }
   },
   "outputs": [],
   "source": [
    "sns.catplot(x=\"Sex\", hue=\"FraudFound_P\", kind=\"count\",\n",
    "            palette=\"pastel\", edgecolor=\".6\",\n",
    "            data=dataset).set(title = \"Sex and Fraud\")\n",
    "plt.show()\n"
   ]
  },
  {
   "cell_type": "code",
   "execution_count": null,
   "metadata": {
    "execution": {
     "iopub.execute_input": "2022-04-12T12:56:13.398233Z",
     "iopub.status.busy": "2022-04-12T12:56:13.397696Z",
     "iopub.status.idle": "2022-04-12T12:56:14.036488Z",
     "shell.execute_reply": "2022-04-12T12:56:14.035434Z",
     "shell.execute_reply.started": "2022-04-12T12:56:13.398185Z"
    }
   },
   "outputs": [],
   "source": [
    "sns.catplot(x=\"Month\", hue=\"FraudFound_P\", kind=\"count\",\n",
    "            palette=\"pastel\", edgecolor=\".6\",\n",
    "            data=dataset).set(title = \"Month and Fraud\")\n",
    "plt.show()\n"
   ]
  },
  {
   "cell_type": "code",
   "execution_count": null,
   "metadata": {
    "execution": {
     "iopub.execute_input": "2022-04-12T12:56:14.039011Z",
     "iopub.status.busy": "2022-04-12T12:56:14.037578Z",
     "iopub.status.idle": "2022-04-12T12:56:14.440041Z",
     "shell.execute_reply": "2022-04-12T12:56:14.438909Z",
     "shell.execute_reply.started": "2022-04-12T12:56:14.038956Z"
    }
   },
   "outputs": [],
   "source": [
    "sns.catplot(x=\"MaritalStatus\", hue=\"FraudFound_P\", kind=\"count\",\n",
    "            palette=\"pastel\", edgecolor=\".6\",\n",
    "            data=dataset).set(title = \"Sex and Fraud\")\n",
    "plt.show()\n"
   ]
  },
  {
   "cell_type": "code",
   "execution_count": null,
   "metadata": {
    "execution": {
     "iopub.execute_input": "2022-04-12T12:56:14.441866Z",
     "iopub.status.busy": "2022-04-12T12:56:14.441563Z",
     "iopub.status.idle": "2022-04-12T12:56:14.830546Z",
     "shell.execute_reply": "2022-04-12T12:56:14.829491Z",
     "shell.execute_reply.started": "2022-04-12T12:56:14.441832Z"
    }
   },
   "outputs": [],
   "source": [
    "sns.catplot(x=\"DriverRating\", hue=\"FraudFound_P\", kind=\"count\",\n",
    "            palette=\"pastel\", edgecolor=\".6\",\n",
    "            data=dataset).set(title = \"DriverRating and Fraud\")\n",
    "plt.show()\n"
   ]
  },
  {
   "cell_type": "code",
   "execution_count": null,
   "metadata": {
    "execution": {
     "iopub.execute_input": "2022-04-12T12:56:14.832052Z",
     "iopub.status.busy": "2022-04-12T12:56:14.831817Z",
     "iopub.status.idle": "2022-04-12T12:56:15.226478Z",
     "shell.execute_reply": "2022-04-12T12:56:15.225469Z",
     "shell.execute_reply.started": "2022-04-12T12:56:14.832022Z"
    }
   },
   "outputs": [],
   "source": [
    "sns.catplot(x=\"Deductible\", hue=\"FraudFound_P\", kind=\"count\",\n",
    "            palette=\"pastel\", edgecolor=\".6\",\n",
    "            data=dataset).set(title = \"deductible and Fraud\")\n",
    "plt.show()"
   ]
  },
  {
   "cell_type": "code",
   "execution_count": null,
   "metadata": {
    "execution": {
     "iopub.execute_input": "2022-04-12T12:56:15.228430Z",
     "iopub.status.busy": "2022-04-12T12:56:15.228098Z",
     "iopub.status.idle": "2022-04-12T12:56:15.691944Z",
     "shell.execute_reply": "2022-04-12T12:56:15.691033Z",
     "shell.execute_reply.started": "2022-04-12T12:56:15.228395Z"
    }
   },
   "outputs": [],
   "source": [
    "sns.catplot(y=\"AgeOfVehicle\", hue=\"FraudFound_P\", kind=\"count\",\n",
    "            palette=\"pastel\", edgecolor=\".6\",\n",
    "            data=dataset).set(title = \"AgeOfVehicle and Fraud\")\n",
    "plt.show()"
   ]
  },
  {
   "cell_type": "code",
   "execution_count": null,
   "metadata": {
    "execution": {
     "iopub.execute_input": "2022-04-12T12:56:15.694129Z",
     "iopub.status.busy": "2022-04-12T12:56:15.693730Z",
     "iopub.status.idle": "2022-04-12T12:56:16.099223Z",
     "shell.execute_reply": "2022-04-12T12:56:16.097294Z",
     "shell.execute_reply.started": "2022-04-12T12:56:15.694075Z"
    }
   },
   "outputs": [],
   "source": [
    "sns.catplot(x=\"WitnessPresent\", hue=\"FraudFound_P\", kind=\"count\",\n",
    "            palette=\"pastel\", edgecolor=\".6\",\n",
    "            data=dataset).set(title = \"WitnessPresent and Fraud\")\n",
    "plt.show()"
   ]
  },
  {
   "cell_type": "code",
   "execution_count": null,
   "metadata": {
    "execution": {
     "iopub.execute_input": "2022-04-12T12:56:16.101073Z",
     "iopub.status.busy": "2022-04-12T12:56:16.100771Z",
     "iopub.status.idle": "2022-04-12T12:56:16.513601Z",
     "shell.execute_reply": "2022-04-12T12:56:16.512449Z",
     "shell.execute_reply.started": "2022-04-12T12:56:16.101037Z"
    }
   },
   "outputs": [],
   "source": [
    "sns.catplot(x=\"AgentType\", hue=\"FraudFound_P\", kind=\"count\",\n",
    "            palette=\"pastel\", edgecolor=\".6\",\n",
    "            data=dataset).set(title = \"AgentType and Fraud\")\n",
    "plt.show()"
   ]
  },
  {
   "cell_type": "code",
   "execution_count": null,
   "metadata": {
    "execution": {
     "iopub.execute_input": "2022-04-12T12:56:16.515384Z",
     "iopub.status.busy": "2022-04-12T12:56:16.515058Z",
     "iopub.status.idle": "2022-04-12T12:56:16.934185Z",
     "shell.execute_reply": "2022-04-12T12:56:16.932946Z",
     "shell.execute_reply.started": "2022-04-12T12:56:16.515347Z"
    }
   },
   "outputs": [],
   "source": [
    "sns.catplot(x=\"PastNumberOfClaims\", hue=\"FraudFound_P\", kind=\"count\",\n",
    "            palette=\"pastel\", edgecolor=\".6\",\n",
    "            data=dataset).set(title = \"PastNumberOfClaims and Fraud\")\n",
    "plt.show()"
   ]
  },
  {
   "cell_type": "code",
   "execution_count": null,
   "metadata": {
    "execution": {
     "iopub.execute_input": "2022-04-12T12:56:16.936174Z",
     "iopub.status.busy": "2022-04-12T12:56:16.935685Z",
     "iopub.status.idle": "2022-04-12T12:56:17.345108Z",
     "shell.execute_reply": "2022-04-12T12:56:17.343990Z",
     "shell.execute_reply.started": "2022-04-12T12:56:16.936115Z"
    }
   },
   "outputs": [],
   "source": [
    "sns.catplot(x=\"PoliceReportFiled\", hue=\"FraudFound_P\", kind=\"count\",\n",
    "            palette=\"pastel\", edgecolor=\".6\",\n",
    "            data=dataset).set(title = \"PoliceReportFiled and Fraud\")\n",
    "plt.show()"
   ]
  },
  {
   "cell_type": "code",
   "execution_count": null,
   "metadata": {
    "execution": {
     "iopub.execute_input": "2022-04-12T12:56:17.347285Z",
     "iopub.status.busy": "2022-04-12T12:56:17.347017Z",
     "iopub.status.idle": "2022-04-12T12:56:17.355953Z",
     "shell.execute_reply": "2022-04-12T12:56:17.354914Z",
     "shell.execute_reply.started": "2022-04-12T12:56:17.347252Z"
    }
   },
   "outputs": [],
   "source": [
    "dataset.columns[~dataset.columns.isin([\"Age\", 'Month'])]"
   ]
  },
  {
   "cell_type": "markdown",
   "metadata": {},
   "source": [
    "#### χ^2 test"
   ]
  },
  {
   "cell_type": "code",
   "execution_count": null,
   "metadata": {
    "execution": {
     "iopub.execute_input": "2022-04-12T12:56:17.357422Z",
     "iopub.status.busy": "2022-04-12T12:56:17.357189Z",
     "iopub.status.idle": "2022-04-12T13:01:57.259667Z",
     "shell.execute_reply": "2022-04-12T13:01:57.258705Z",
     "shell.execute_reply.started": "2022-04-12T12:56:17.357392Z"
    }
   },
   "outputs": [],
   "source": [
    "col_names = dataset.columns[~dataset.columns.isin(['Age', 'FraudFound_P'])]\n",
    "for i in dataset.columns[~dataset.columns.isin(['Age', 'FraudFound_P'])]:\n",
    "    col_names = col_names[col_names != i]\n",
    "    for j in col_names:\n",
    "        crosstab, test_results, expected = rp.crosstab(dataset[i], dataset[j],\n",
    "                                               test= \"chi-square\",\n",
    "                                               expected_freqs= True,\n",
    "                                               prop= \"cell\")\n",
    "        if test_results['results'][1] < 0.05:\n",
    "            print(i + ' ' + j + ':')\n",
    "            print(test_results)\n",
    "            print('\\n')\n",
    "    print('****** new ******')\n",
    "    "
   ]
  },
  {
   "cell_type": "code",
   "execution_count": null,
   "metadata": {
    "execution": {
     "iopub.execute_input": "2022-04-12T13:01:57.261437Z",
     "iopub.status.busy": "2022-04-12T13:01:57.261097Z",
     "iopub.status.idle": "2022-04-12T13:01:59.414245Z",
     "shell.execute_reply": "2022-04-12T13:01:59.413226Z",
     "shell.execute_reply.started": "2022-04-12T13:01:57.261388Z"
    }
   },
   "outputs": [],
   "source": [
    "for i in dataset.columns[~dataset.columns.isin(['Age', 'FraudFound_P'])]:\n",
    "    crosstab, test_results, expected = rp.crosstab(dataset[i], dataset['FraudFound_P'],\n",
    "                                               test= \"chi-square\",\n",
    "                                               expected_freqs= True,\n",
    "                                               prop= \"cell\")\n",
    "    if test_results['results'][1] < 0.05:\n",
    "        print(i + ':')\n",
    "        print(test_results)\n",
    "        print('\\n')\n",
    "\n",
    "    "
   ]
  },
  {
   "cell_type": "code",
   "execution_count": null,
   "metadata": {
    "execution": {
     "iopub.execute_input": "2022-04-12T13:01:59.416142Z",
     "iopub.status.busy": "2022-04-12T13:01:59.415546Z",
     "iopub.status.idle": "2022-04-12T13:02:01.524274Z",
     "shell.execute_reply": "2022-04-12T13:02:01.523231Z",
     "shell.execute_reply.started": "2022-04-12T13:01:59.416108Z"
    }
   },
   "outputs": [],
   "source": [
    "for i in dataset.columns[~dataset.columns.isin(['Age', 'FraudFound_P'])]:\n",
    "    crosstab, test_results, expected = rp.crosstab(dataset[i], dataset['FraudFound_P'],\n",
    "                                               test= \"chi-square\",\n",
    "                                               expected_freqs= True,\n",
    "                                               prop= \"cell\")\n",
    "    if test_results['results'][1] > 0.05:\n",
    "        print(i + ':')\n",
    "        print(test_results)\n",
    "        print('\\n')\n"
   ]
  },
  {
   "cell_type": "markdown",
   "metadata": {},
   "source": [
    "#### common distrabution"
   ]
  },
  {
   "cell_type": "code",
   "execution_count": null,
   "metadata": {
    "execution": {
     "iopub.execute_input": "2022-04-12T13:41:24.410005Z",
     "iopub.status.busy": "2022-04-12T13:41:24.409474Z",
     "iopub.status.idle": "2022-04-12T13:41:24.436994Z",
     "shell.execute_reply": "2022-04-12T13:41:24.436326Z",
     "shell.execute_reply.started": "2022-04-12T13:41:24.409963Z"
    }
   },
   "outputs": [],
   "source": [
    "pd.crosstab(dataset.Sex, dataset.FraudFound_P)\n"
   ]
  },
  {
   "cell_type": "code",
   "execution_count": null,
   "metadata": {
    "execution": {
     "iopub.execute_input": "2022-04-12T13:35:56.152215Z",
     "iopub.status.busy": "2022-04-12T13:35:56.151225Z",
     "iopub.status.idle": "2022-04-12T13:35:56.177736Z",
     "shell.execute_reply": "2022-04-12T13:35:56.176766Z",
     "shell.execute_reply.started": "2022-04-12T13:35:56.152167Z"
    }
   },
   "outputs": [],
   "source": [
    "pd.crosstab(dataset.Sex, dataset.FraudFound_P, normalize = 'columns')"
   ]
  },
  {
   "cell_type": "code",
   "execution_count": null,
   "metadata": {
    "execution": {
     "iopub.execute_input": "2022-04-12T13:53:58.434344Z",
     "iopub.status.busy": "2022-04-12T13:53:58.434010Z",
     "iopub.status.idle": "2022-04-12T13:53:58.458069Z",
     "shell.execute_reply": "2022-04-12T13:53:58.456981Z",
     "shell.execute_reply.started": "2022-04-12T13:53:58.434309Z"
    }
   },
   "outputs": [],
   "source": [
    "pd.crosstab(dataset.AccidentArea, dataset.FraudFound_P)"
   ]
  },
  {
   "cell_type": "code",
   "execution_count": null,
   "metadata": {
    "execution": {
     "iopub.execute_input": "2022-04-12T13:54:40.106676Z",
     "iopub.status.busy": "2022-04-12T13:54:40.106414Z",
     "iopub.status.idle": "2022-04-12T13:54:40.130409Z",
     "shell.execute_reply": "2022-04-12T13:54:40.129564Z",
     "shell.execute_reply.started": "2022-04-12T13:54:40.106649Z"
    }
   },
   "outputs": [],
   "source": [
    "pd.crosstab(dataset.AccidentArea, dataset.FraudFound_P, normalize = 'columns')"
   ]
  },
  {
   "cell_type": "code",
   "execution_count": null,
   "metadata": {
    "execution": {
     "iopub.execute_input": "2022-04-12T14:20:44.962473Z",
     "iopub.status.busy": "2022-04-12T14:20:44.962082Z",
     "iopub.status.idle": "2022-04-12T14:20:44.991312Z",
     "shell.execute_reply": "2022-04-12T14:20:44.989744Z",
     "shell.execute_reply.started": "2022-04-12T14:20:44.962443Z"
    }
   },
   "outputs": [],
   "source": [
    "pd.crosstab(dataset.VehicleCategory, dataset.FraudFound_P)"
   ]
  },
  {
   "cell_type": "code",
   "execution_count": null,
   "metadata": {
    "execution": {
     "iopub.execute_input": "2022-04-12T14:20:51.185550Z",
     "iopub.status.busy": "2022-04-12T14:20:51.185284Z",
     "iopub.status.idle": "2022-04-12T14:20:51.211462Z",
     "shell.execute_reply": "2022-04-12T14:20:51.210831Z",
     "shell.execute_reply.started": "2022-04-12T14:20:51.185523Z"
    }
   },
   "outputs": [],
   "source": [
    "pd.crosstab(dataset.VehicleCategory, dataset.FraudFound_P, normalize = 'columns')"
   ]
  },
  {
   "cell_type": "code",
   "execution_count": null,
   "metadata": {},
   "outputs": [],
   "source": [
    "pd.crosstab(dataset.VehicleCategory, dataset.FraudFound_P, normalize = 'columns')"
   ]
  },
  {
   "cell_type": "code",
   "execution_count": null,
   "metadata": {
    "execution": {
     "iopub.execute_input": "2022-04-12T14:40:33.409259Z",
     "iopub.status.busy": "2022-04-12T14:40:33.408920Z",
     "iopub.status.idle": "2022-04-12T14:40:34.521489Z",
     "shell.execute_reply": "2022-04-12T14:40:34.520412Z",
     "shell.execute_reply.started": "2022-04-12T14:40:33.409224Z"
    }
   },
   "outputs": [],
   "source": [
    "for i in dataset.columns[~dataset.columns.isin(['Age', 'FraudFound_P'])]:\n",
    "    print(pd.crosstab(dataset[i], dataset.FraudFound_P))\n",
    "    print(pd.crosstab(dataset[i], dataset.FraudFound_P, normalize = 'columns'))\n",
    "   "
   ]
  },
  {
   "cell_type": "markdown",
   "metadata": {},
   "source": [
    "# **Part 2 - Data preproccesing** "
   ]
  },
  {
   "cell_type": "markdown",
   "metadata": {},
   "source": [
    "### 2.a drop irrelevant colmuns\n"
   ]
  },
  {
   "cell_type": "markdown",
   "metadata": {},
   "source": [
    " Function for dropping Irrelevant_colmuns - PolicyType, PolicyNumber\n"
   ]
  },
  {
   "cell_type": "code",
   "execution_count": 4,
   "metadata": {
    "execution": {
     "iopub.execute_input": "2022-04-12T13:02:01.573729Z",
     "iopub.status.busy": "2022-04-12T13:02:01.573485Z",
     "iopub.status.idle": "2022-04-12T13:02:01.631675Z",
     "shell.execute_reply": "2022-04-12T13:02:01.630819Z",
     "shell.execute_reply.started": "2022-04-12T13:02:01.573699Z"
    }
   },
   "outputs": [
    {
     "data": {
      "text/html": [
       "<div>\n",
       "<style scoped>\n",
       "    .dataframe tbody tr th:only-of-type {\n",
       "        vertical-align: middle;\n",
       "    }\n",
       "\n",
       "    .dataframe tbody tr th {\n",
       "        vertical-align: top;\n",
       "    }\n",
       "\n",
       "    .dataframe thead th {\n",
       "        text-align: right;\n",
       "    }\n",
       "</style>\n",
       "<table border=\"1\" class=\"dataframe\">\n",
       "  <thead>\n",
       "    <tr style=\"text-align: right;\">\n",
       "      <th></th>\n",
       "      <th>Month</th>\n",
       "      <th>WeekOfMonth</th>\n",
       "      <th>DayOfWeek</th>\n",
       "      <th>Make</th>\n",
       "      <th>AccidentArea</th>\n",
       "      <th>DayOfWeekClaimed</th>\n",
       "      <th>MonthClaimed</th>\n",
       "      <th>WeekOfMonthClaimed</th>\n",
       "      <th>Sex</th>\n",
       "      <th>MaritalStatus</th>\n",
       "      <th>...</th>\n",
       "      <th>AgeOfVehicle</th>\n",
       "      <th>AgeOfPolicyHolder</th>\n",
       "      <th>PoliceReportFiled</th>\n",
       "      <th>WitnessPresent</th>\n",
       "      <th>AgentType</th>\n",
       "      <th>NumberOfSuppliments</th>\n",
       "      <th>AddressChange_Claim</th>\n",
       "      <th>NumberOfCars</th>\n",
       "      <th>Year</th>\n",
       "      <th>BasePolicy</th>\n",
       "    </tr>\n",
       "  </thead>\n",
       "  <tbody>\n",
       "    <tr>\n",
       "      <th>0</th>\n",
       "      <td>Dec</td>\n",
       "      <td>5</td>\n",
       "      <td>Wednesday</td>\n",
       "      <td>Honda</td>\n",
       "      <td>Urban</td>\n",
       "      <td>Tuesday</td>\n",
       "      <td>Jan</td>\n",
       "      <td>1</td>\n",
       "      <td>Female</td>\n",
       "      <td>Single</td>\n",
       "      <td>...</td>\n",
       "      <td>3 years</td>\n",
       "      <td>26 to 30</td>\n",
       "      <td>No</td>\n",
       "      <td>No</td>\n",
       "      <td>External</td>\n",
       "      <td>none</td>\n",
       "      <td>1 year</td>\n",
       "      <td>3 to 4</td>\n",
       "      <td>1994</td>\n",
       "      <td>Liability</td>\n",
       "    </tr>\n",
       "    <tr>\n",
       "      <th>1</th>\n",
       "      <td>Jan</td>\n",
       "      <td>3</td>\n",
       "      <td>Wednesday</td>\n",
       "      <td>Honda</td>\n",
       "      <td>Urban</td>\n",
       "      <td>Monday</td>\n",
       "      <td>Jan</td>\n",
       "      <td>4</td>\n",
       "      <td>Male</td>\n",
       "      <td>Single</td>\n",
       "      <td>...</td>\n",
       "      <td>6 years</td>\n",
       "      <td>31 to 35</td>\n",
       "      <td>Yes</td>\n",
       "      <td>No</td>\n",
       "      <td>External</td>\n",
       "      <td>none</td>\n",
       "      <td>no change</td>\n",
       "      <td>1 vehicle</td>\n",
       "      <td>1994</td>\n",
       "      <td>Collision</td>\n",
       "    </tr>\n",
       "    <tr>\n",
       "      <th>2</th>\n",
       "      <td>Oct</td>\n",
       "      <td>5</td>\n",
       "      <td>Friday</td>\n",
       "      <td>Honda</td>\n",
       "      <td>Urban</td>\n",
       "      <td>Thursday</td>\n",
       "      <td>Nov</td>\n",
       "      <td>2</td>\n",
       "      <td>Male</td>\n",
       "      <td>Married</td>\n",
       "      <td>...</td>\n",
       "      <td>7 years</td>\n",
       "      <td>41 to 50</td>\n",
       "      <td>No</td>\n",
       "      <td>No</td>\n",
       "      <td>External</td>\n",
       "      <td>none</td>\n",
       "      <td>no change</td>\n",
       "      <td>1 vehicle</td>\n",
       "      <td>1994</td>\n",
       "      <td>Collision</td>\n",
       "    </tr>\n",
       "    <tr>\n",
       "      <th>3</th>\n",
       "      <td>Jun</td>\n",
       "      <td>2</td>\n",
       "      <td>Saturday</td>\n",
       "      <td>Toyota</td>\n",
       "      <td>Rural</td>\n",
       "      <td>Friday</td>\n",
       "      <td>Jul</td>\n",
       "      <td>1</td>\n",
       "      <td>Male</td>\n",
       "      <td>Married</td>\n",
       "      <td>...</td>\n",
       "      <td>more than 7</td>\n",
       "      <td>51 to 65</td>\n",
       "      <td>Yes</td>\n",
       "      <td>No</td>\n",
       "      <td>External</td>\n",
       "      <td>more than 5</td>\n",
       "      <td>no change</td>\n",
       "      <td>1 vehicle</td>\n",
       "      <td>1994</td>\n",
       "      <td>Liability</td>\n",
       "    </tr>\n",
       "    <tr>\n",
       "      <th>4</th>\n",
       "      <td>Jan</td>\n",
       "      <td>5</td>\n",
       "      <td>Monday</td>\n",
       "      <td>Honda</td>\n",
       "      <td>Urban</td>\n",
       "      <td>Tuesday</td>\n",
       "      <td>Feb</td>\n",
       "      <td>2</td>\n",
       "      <td>Female</td>\n",
       "      <td>Single</td>\n",
       "      <td>...</td>\n",
       "      <td>5 years</td>\n",
       "      <td>31 to 35</td>\n",
       "      <td>No</td>\n",
       "      <td>No</td>\n",
       "      <td>External</td>\n",
       "      <td>none</td>\n",
       "      <td>no change</td>\n",
       "      <td>1 vehicle</td>\n",
       "      <td>1994</td>\n",
       "      <td>Collision</td>\n",
       "    </tr>\n",
       "    <tr>\n",
       "      <th>...</th>\n",
       "      <td>...</td>\n",
       "      <td>...</td>\n",
       "      <td>...</td>\n",
       "      <td>...</td>\n",
       "      <td>...</td>\n",
       "      <td>...</td>\n",
       "      <td>...</td>\n",
       "      <td>...</td>\n",
       "      <td>...</td>\n",
       "      <td>...</td>\n",
       "      <td>...</td>\n",
       "      <td>...</td>\n",
       "      <td>...</td>\n",
       "      <td>...</td>\n",
       "      <td>...</td>\n",
       "      <td>...</td>\n",
       "      <td>...</td>\n",
       "      <td>...</td>\n",
       "      <td>...</td>\n",
       "      <td>...</td>\n",
       "      <td>...</td>\n",
       "    </tr>\n",
       "    <tr>\n",
       "      <th>15415</th>\n",
       "      <td>Nov</td>\n",
       "      <td>4</td>\n",
       "      <td>Friday</td>\n",
       "      <td>Toyota</td>\n",
       "      <td>Urban</td>\n",
       "      <td>Tuesday</td>\n",
       "      <td>Nov</td>\n",
       "      <td>5</td>\n",
       "      <td>Male</td>\n",
       "      <td>Married</td>\n",
       "      <td>...</td>\n",
       "      <td>6 years</td>\n",
       "      <td>31 to 35</td>\n",
       "      <td>No</td>\n",
       "      <td>No</td>\n",
       "      <td>External</td>\n",
       "      <td>none</td>\n",
       "      <td>no change</td>\n",
       "      <td>1 vehicle</td>\n",
       "      <td>1996</td>\n",
       "      <td>Collision</td>\n",
       "    </tr>\n",
       "    <tr>\n",
       "      <th>15416</th>\n",
       "      <td>Nov</td>\n",
       "      <td>5</td>\n",
       "      <td>Thursday</td>\n",
       "      <td>Pontiac</td>\n",
       "      <td>Urban</td>\n",
       "      <td>Friday</td>\n",
       "      <td>Dec</td>\n",
       "      <td>1</td>\n",
       "      <td>Male</td>\n",
       "      <td>Married</td>\n",
       "      <td>...</td>\n",
       "      <td>6 years</td>\n",
       "      <td>31 to 35</td>\n",
       "      <td>No</td>\n",
       "      <td>No</td>\n",
       "      <td>External</td>\n",
       "      <td>more than 5</td>\n",
       "      <td>no change</td>\n",
       "      <td>3 to 4</td>\n",
       "      <td>1996</td>\n",
       "      <td>Liability</td>\n",
       "    </tr>\n",
       "    <tr>\n",
       "      <th>15417</th>\n",
       "      <td>Nov</td>\n",
       "      <td>5</td>\n",
       "      <td>Thursday</td>\n",
       "      <td>Toyota</td>\n",
       "      <td>Rural</td>\n",
       "      <td>Friday</td>\n",
       "      <td>Dec</td>\n",
       "      <td>1</td>\n",
       "      <td>Male</td>\n",
       "      <td>Single</td>\n",
       "      <td>...</td>\n",
       "      <td>5 years</td>\n",
       "      <td>26 to 30</td>\n",
       "      <td>No</td>\n",
       "      <td>No</td>\n",
       "      <td>External</td>\n",
       "      <td>1 to 2</td>\n",
       "      <td>no change</td>\n",
       "      <td>1 vehicle</td>\n",
       "      <td>1996</td>\n",
       "      <td>Collision</td>\n",
       "    </tr>\n",
       "    <tr>\n",
       "      <th>15418</th>\n",
       "      <td>Dec</td>\n",
       "      <td>1</td>\n",
       "      <td>Monday</td>\n",
       "      <td>Toyota</td>\n",
       "      <td>Urban</td>\n",
       "      <td>Thursday</td>\n",
       "      <td>Dec</td>\n",
       "      <td>2</td>\n",
       "      <td>Female</td>\n",
       "      <td>Married</td>\n",
       "      <td>...</td>\n",
       "      <td>2 years</td>\n",
       "      <td>31 to 35</td>\n",
       "      <td>No</td>\n",
       "      <td>No</td>\n",
       "      <td>External</td>\n",
       "      <td>more than 5</td>\n",
       "      <td>no change</td>\n",
       "      <td>1 vehicle</td>\n",
       "      <td>1996</td>\n",
       "      <td>All Perils</td>\n",
       "    </tr>\n",
       "    <tr>\n",
       "      <th>15419</th>\n",
       "      <td>Dec</td>\n",
       "      <td>2</td>\n",
       "      <td>Wednesday</td>\n",
       "      <td>Toyota</td>\n",
       "      <td>Urban</td>\n",
       "      <td>Thursday</td>\n",
       "      <td>Dec</td>\n",
       "      <td>3</td>\n",
       "      <td>Male</td>\n",
       "      <td>Single</td>\n",
       "      <td>...</td>\n",
       "      <td>5 years</td>\n",
       "      <td>26 to 30</td>\n",
       "      <td>No</td>\n",
       "      <td>No</td>\n",
       "      <td>External</td>\n",
       "      <td>1 to 2</td>\n",
       "      <td>no change</td>\n",
       "      <td>1 vehicle</td>\n",
       "      <td>1996</td>\n",
       "      <td>Collision</td>\n",
       "    </tr>\n",
       "  </tbody>\n",
       "</table>\n",
       "<p>15420 rows × 31 columns</p>\n",
       "</div>"
      ],
      "text/plain": [
       "      Month  WeekOfMonth  DayOfWeek     Make AccidentArea DayOfWeekClaimed  \\\n",
       "0       Dec            5  Wednesday    Honda        Urban          Tuesday   \n",
       "1       Jan            3  Wednesday    Honda        Urban           Monday   \n",
       "2       Oct            5     Friday    Honda        Urban         Thursday   \n",
       "3       Jun            2   Saturday   Toyota        Rural           Friday   \n",
       "4       Jan            5     Monday    Honda        Urban          Tuesday   \n",
       "...     ...          ...        ...      ...          ...              ...   \n",
       "15415   Nov            4     Friday   Toyota        Urban          Tuesday   \n",
       "15416   Nov            5   Thursday  Pontiac        Urban           Friday   \n",
       "15417   Nov            5   Thursday   Toyota        Rural           Friday   \n",
       "15418   Dec            1     Monday   Toyota        Urban         Thursday   \n",
       "15419   Dec            2  Wednesday   Toyota        Urban         Thursday   \n",
       "\n",
       "      MonthClaimed  WeekOfMonthClaimed     Sex MaritalStatus  ...  \\\n",
       "0              Jan                   1  Female        Single  ...   \n",
       "1              Jan                   4    Male        Single  ...   \n",
       "2              Nov                   2    Male       Married  ...   \n",
       "3              Jul                   1    Male       Married  ...   \n",
       "4              Feb                   2  Female        Single  ...   \n",
       "...            ...                 ...     ...           ...  ...   \n",
       "15415          Nov                   5    Male       Married  ...   \n",
       "15416          Dec                   1    Male       Married  ...   \n",
       "15417          Dec                   1    Male        Single  ...   \n",
       "15418          Dec                   2  Female       Married  ...   \n",
       "15419          Dec                   3    Male        Single  ...   \n",
       "\n",
       "       AgeOfVehicle AgeOfPolicyHolder PoliceReportFiled WitnessPresent  \\\n",
       "0           3 years          26 to 30                No             No   \n",
       "1           6 years          31 to 35               Yes             No   \n",
       "2           7 years          41 to 50                No             No   \n",
       "3       more than 7          51 to 65               Yes             No   \n",
       "4           5 years          31 to 35                No             No   \n",
       "...             ...               ...               ...            ...   \n",
       "15415       6 years          31 to 35                No             No   \n",
       "15416       6 years          31 to 35                No             No   \n",
       "15417       5 years          26 to 30                No             No   \n",
       "15418       2 years          31 to 35                No             No   \n",
       "15419       5 years          26 to 30                No             No   \n",
       "\n",
       "       AgentType  NumberOfSuppliments  AddressChange_Claim  NumberOfCars  \\\n",
       "0       External                 none               1 year        3 to 4   \n",
       "1       External                 none            no change     1 vehicle   \n",
       "2       External                 none            no change     1 vehicle   \n",
       "3       External          more than 5            no change     1 vehicle   \n",
       "4       External                 none            no change     1 vehicle   \n",
       "...          ...                  ...                  ...           ...   \n",
       "15415   External                 none            no change     1 vehicle   \n",
       "15416   External          more than 5            no change        3 to 4   \n",
       "15417   External               1 to 2            no change     1 vehicle   \n",
       "15418   External          more than 5            no change     1 vehicle   \n",
       "15419   External               1 to 2            no change     1 vehicle   \n",
       "\n",
       "       Year  BasePolicy  \n",
       "0      1994   Liability  \n",
       "1      1994   Collision  \n",
       "2      1994   Collision  \n",
       "3      1994   Liability  \n",
       "4      1994   Collision  \n",
       "...     ...         ...  \n",
       "15415  1996   Collision  \n",
       "15416  1996   Liability  \n",
       "15417  1996   Collision  \n",
       "15418  1996  All Perils  \n",
       "15419  1996   Collision  \n",
       "\n",
       "[15420 rows x 31 columns]"
      ]
     },
     "execution_count": 4,
     "metadata": {},
     "output_type": "execute_result"
    }
   ],
   "source": [
    "def Irrelevant_col(df , drop):\n",
    "    df.drop(drop, axis=1, inplace=True)\n",
    "\n",
    "\n",
    "#drop in my data set    \n",
    "drop = [\"PolicyType\",\"PolicyNumber\"] \n",
    "dataset_new = dataset\n",
    "Irrelevant_col(dataset_new, drop)\n",
    "\n",
    "dataset_new"
   ]
  },
  {
   "cell_type": "markdown",
   "metadata": {},
   "source": [
    "#### 2.b dealing non available values\n",
    " "
   ]
  },
  {
   "cell_type": "markdown",
   "metadata": {},
   "source": [
    "changing the zero values to nan values in columns: Age, DayOfWeekClaimed, weekclaimed"
   ]
  },
  {
   "cell_type": "code",
   "execution_count": 5,
   "metadata": {
    "execution": {
     "iopub.execute_input": "2022-04-12T13:02:01.525912Z",
     "iopub.status.busy": "2022-04-12T13:02:01.525637Z",
     "iopub.status.idle": "2022-04-12T13:02:01.555007Z",
     "shell.execute_reply": "2022-04-12T13:02:01.553947Z",
     "shell.execute_reply.started": "2022-04-12T13:02:01.525881Z"
    }
   },
   "outputs": [
    {
     "name": "stdout",
     "output_type": "stream",
     "text": [
      "320\n",
      "['Tuesday' 'Monday' 'Thursday' 'Friday' 'Wednesday' 'Saturday' 'Sunday'\n",
      " '0']\n",
      "1\n"
     ]
    }
   ],
   "source": [
    "#Age\n",
    "print(sum(dataset['Age']  == 0))\n",
    "dataset.loc[dataset['Age'] == 0, 'Age'] = np.nan\n",
    "\n",
    "#DayOfWeekClaimed\n",
    "print(dataset['DayOfWeekClaimed'].unique())\n",
    "dataset[dataset['DayOfWeekClaimed'] == '0'] # obs 1516 has a \n",
    "dataset.loc[dataset['DayOfWeekClaimed'] == 0, 'DayOfWeekClaimed'] = np.nan\n",
    "\n",
    "#MonthClaimed\n",
    "print(sum(dataset['MonthClaimed']  == '0'))\n",
    "dataset.loc[dataset['MonthClaimed'] == '0', 'DayOfWeekClaimed'] = np.nan"
   ]
  },
  {
   "cell_type": "markdown",
   "metadata": {},
   "source": [
    "Null values of age, day of week - replacing with mean"
   ]
  },
  {
   "cell_type": "code",
   "execution_count": 6,
   "metadata": {
    "execution": {
     "iopub.execute_input": "2022-04-12T13:02:01.637663Z",
     "iopub.status.busy": "2022-04-12T13:02:01.637401Z",
     "iopub.status.idle": "2022-04-12T13:02:01.685079Z",
     "shell.execute_reply": "2022-04-12T13:02:01.684245Z",
     "shell.execute_reply.started": "2022-04-12T13:02:01.637631Z"
    }
   },
   "outputs": [],
   "source": [
    "# removing rows\n",
    "dataset_new_rem = dataset_new.dropna(subset = ['Age'])\n",
    "dataset_new_rem = dataset_new_rem.dropna(subset =['MonthClaimed' ,'DayOfWeekClaimed'])\n",
    "#print(dataset_new_rem.isnull().sum())\n",
    "\n",
    "# avereging\n",
    "imputer = SimpleImputer(missing_values=np.NaN, strategy='mean') \n",
    "# We instantiated a SimpleImputer object looking for missing values that are represented\n",
    "#by np.NaN and asking Scikit-Learn to use the 'mean' as its strategy. \n",
    "#This means that any np.NaN values will be imputed by the columns mean.\n",
    "\n",
    "dataset_new_avg = dataset_new\n",
    "imputer=imputer.fit(dataset_new_avg[['Age']])\n",
    "dataset_new_avg[['Age']]=imputer.transform(dataset_new_avg[['Age']])\n",
    "dataset_new_avg = dataset_new_avg.dropna(subset =['MonthClaimed' ,'DayOfWeekClaimed'])\n",
    "#print(dataset_new_avg.isnull().sum())"
   ]
  },
  {
   "cell_type": "markdown",
   "metadata": {},
   "source": [
    "### 2.c Dealing with categorials features"
   ]
  },
  {
   "cell_type": "code",
   "execution_count": 7,
   "metadata": {
    "execution": {
     "iopub.execute_input": "2022-04-12T13:02:01.686871Z",
     "iopub.status.busy": "2022-04-12T13:02:01.686242Z",
     "iopub.status.idle": "2022-04-12T13:02:01.694757Z",
     "shell.execute_reply": "2022-04-12T13:02:01.693614Z",
     "shell.execute_reply.started": "2022-04-12T13:02:01.686834Z"
    }
   },
   "outputs": [
    {
     "data": {
      "text/plain": [
       "Month                    object\n",
       "WeekOfMonth               int64\n",
       "DayOfWeek                object\n",
       "Make                     object\n",
       "AccidentArea             object\n",
       "DayOfWeekClaimed         object\n",
       "MonthClaimed             object\n",
       "WeekOfMonthClaimed        int64\n",
       "Sex                      object\n",
       "MaritalStatus            object\n",
       "Age                     float64\n",
       "Fault                    object\n",
       "VehicleCategory          object\n",
       "VehiclePrice             object\n",
       "FraudFound_P              int64\n",
       "RepNumber                 int64\n",
       "Deductible                int64\n",
       "DriverRating              int64\n",
       "Days_Policy_Accident     object\n",
       "Days_Policy_Claim        object\n",
       "PastNumberOfClaims       object\n",
       "AgeOfVehicle             object\n",
       "AgeOfPolicyHolder        object\n",
       "PoliceReportFiled        object\n",
       "WitnessPresent           object\n",
       "AgentType                object\n",
       "NumberOfSuppliments      object\n",
       "AddressChange_Claim      object\n",
       "NumberOfCars             object\n",
       "Year                      int64\n",
       "BasePolicy               object\n",
       "dtype: object"
      ]
     },
     "execution_count": 7,
     "metadata": {},
     "output_type": "execute_result"
    }
   ],
   "source": [
    "dataset_new.dtypes # can we see most of the variabales are categorial"
   ]
  },
  {
   "cell_type": "code",
   "execution_count": 8,
   "metadata": {
    "execution": {
     "iopub.execute_input": "2022-04-12T13:02:01.696567Z",
     "iopub.status.busy": "2022-04-12T13:02:01.696136Z",
     "iopub.status.idle": "2022-04-12T13:02:01.717601Z",
     "shell.execute_reply": "2022-04-12T13:02:01.716820Z",
     "shell.execute_reply.started": "2022-04-12T13:02:01.696529Z"
    }
   },
   "outputs": [],
   "source": [
    "#make a copy of the data for making changes\n",
    "y =  dataset_new.FraudFound_P.copy()\n",
    "X = dataset_new.drop('FraudFound_P', axis = 1, inplace=False ).copy()"
   ]
  },
  {
   "cell_type": "markdown",
   "metadata": {},
   "source": [
    "Binary variables zero one coding:"
   ]
  },
  {
   "cell_type": "code",
   "execution_count": 9,
   "metadata": {
    "execution": {
     "iopub.execute_input": "2022-04-12T13:02:01.719301Z",
     "iopub.status.busy": "2022-04-12T13:02:01.718648Z",
     "iopub.status.idle": "2022-04-12T13:02:01.832201Z",
     "shell.execute_reply": "2022-04-12T13:02:01.831473Z",
     "shell.execute_reply.started": "2022-04-12T13:02:01.719260Z"
    }
   },
   "outputs": [
    {
     "data": {
      "text/plain": [
       "Month                    object\n",
       "WeekOfMonth               int64\n",
       "DayOfWeek                object\n",
       "Make                     object\n",
       "AccidentArea              int64\n",
       "DayOfWeekClaimed         object\n",
       "MonthClaimed             object\n",
       "WeekOfMonthClaimed        int64\n",
       "Sex                       int64\n",
       "MaritalStatus            object\n",
       "Age                     float64\n",
       "Fault                     int64\n",
       "VehicleCategory          object\n",
       "VehiclePrice             object\n",
       "RepNumber                 int64\n",
       "Deductible                int64\n",
       "DriverRating              int64\n",
       "Days_Policy_Accident     object\n",
       "Days_Policy_Claim        object\n",
       "PastNumberOfClaims       object\n",
       "AgeOfVehicle             object\n",
       "AgeOfPolicyHolder        object\n",
       "PoliceReportFiled         int64\n",
       "WitnessPresent            int64\n",
       "AgentType                 int64\n",
       "NumberOfSuppliments      object\n",
       "AddressChange_Claim      object\n",
       "NumberOfCars             object\n",
       "Year                      int64\n",
       "BasePolicy               object\n",
       "dtype: object"
      ]
     },
     "execution_count": 9,
     "metadata": {},
     "output_type": "execute_result"
    }
   ],
   "source": [
    "cols = ['AccidentArea', 'Sex', 'Fault', 'PoliceReportFiled', 'WitnessPresent', 'AgentType']\n",
    "y_val = ['Urban','Female','Policy Holder', 'Yes', 'Yes','External']\n",
    "x_val = ['Rural', 'Male', 'Third Party', 'No', 'No', 'Internal']\n",
    "\n",
    "for i in range(len(cols)):\n",
    "    X_idx1 = X[cols[i]]==y_val[i]\n",
    "    X_idx2 = X[cols[i]]==x_val[i]\n",
    "\n",
    "    X.loc[list(X_idx1),cols[i]]=1\n",
    "    X.loc[list(X_idx2),cols[i]]=0\n",
    "\n",
    "for i in range(len(cols)):\n",
    "    X[cols[i]] = X[cols[i]].astype('int')\n",
    "    \n",
    "X.dtypes"
   ]
  },
  {
   "cell_type": "markdown",
   "metadata": {},
   "source": [
    "Ordianal categorial featurs:"
   ]
  },
  {
   "cell_type": "code",
   "execution_count": 10,
   "metadata": {
    "execution": {
     "iopub.execute_input": "2022-04-12T13:02:01.834439Z",
     "iopub.status.busy": "2022-04-12T13:02:01.834142Z",
     "iopub.status.idle": "2022-04-12T13:02:02.121329Z",
     "shell.execute_reply": "2022-04-12T13:02:02.120539Z",
     "shell.execute_reply.started": "2022-04-12T13:02:01.834399Z"
    }
   },
   "outputs": [],
   "source": [
    "col_ordering = [{'col':'Month','mapping':{'Jan':1,'Feb':2,'Mar':3,'Apr':4,'May':5,'Jun':6,'Jul':7,'Aug':8,'Sep':9,'Oct':10,'Nov':11,'Dec':12}},\n",
    "    {'col':'DayOfWeek','mapping':{'Monday':1,'Tuesday':2,'Wednesday':3,'Thursday':4,'Friday':5,'Saturday':6,'Sunday':7}},\n",
    "    {'col':'DayOfWeekClaimed','mapping':{'Monday':1,'Tuesday':2,'Wednesday':3,'Thursday':4,'Friday':5,'Saturday':6,'Sunday':7}},\n",
    "    {'col':'MonthClaimed','mapping':{'Jan':1,'Feb':2,'Mar':3,'Apr':4,'May':5,'Jun':6,'Jul':7,'Aug':8,'Sep':9,'Oct':10,'Nov':11,'Dec':12}},\n",
    "    {'col':'PastNumberOfClaims','mapping':{'none':0 ,'1':1,'2 to 4':2,'more than 4':5 }},\n",
    "    {'col':'NumberOfSuppliments','mapping':{'none':0,'1 to 2':1,'3 to 5':3,'more than 5':6}}, \n",
    "    {'col':'VehiclePrice','mapping':{'more than 69000':69001,'20000 to 29000':24500,'30000 to 39000':34500,'less than 20000':19999,\n",
    "                                     '40000 to 59000':49500,'60000 to 69000':64500}},\n",
    "    {'col':'AgeOfVehicle','mapping':{'3 years':3,'6 years':6,'7 years':7,'more than 7':8,'5 years':5,'new':0,'4 years':4,'2 years':2}},\n",
    "]\n",
    "ord_encoder = OrdinalEncoder(mapping = col_ordering, return_df=True)\n",
    "X2 = ord_encoder.fit_transform(X)\n",
    "X2.loc[X2[\"DayOfWeekClaimed\"] == -1.0,\"DayOfWeekClaimed\"] = 0\n",
    "X2.loc[X2[\"MonthClaimed\"] == -1.0,\"MonthClaimed\"] = 0"
   ]
  },
  {
   "cell_type": "markdown",
   "metadata": {},
   "source": [
    "ordianal categorial featurs - taking the avg for each category \n"
   ]
  },
  {
   "cell_type": "code",
   "execution_count": 11,
   "metadata": {
    "execution": {
     "iopub.execute_input": "2022-04-12T13:02:02.123100Z",
     "iopub.status.busy": "2022-04-12T13:02:02.122436Z",
     "iopub.status.idle": "2022-04-12T13:02:02.213891Z",
     "shell.execute_reply": "2022-04-12T13:02:02.212889Z",
     "shell.execute_reply.started": "2022-04-12T13:02:02.123053Z"
    }
   },
   "outputs": [
    {
     "data": {
      "text/plain": [
       "Month                     int64\n",
       "WeekOfMonth               int64\n",
       "DayOfWeek                 int64\n",
       "Make                     object\n",
       "AccidentArea              int64\n",
       "DayOfWeekClaimed        float64\n",
       "MonthClaimed            float64\n",
       "WeekOfMonthClaimed        int64\n",
       "Sex                       int64\n",
       "MaritalStatus            object\n",
       "Age                     float64\n",
       "Fault                     int64\n",
       "VehicleCategory          object\n",
       "VehiclePrice              int64\n",
       "RepNumber                 int64\n",
       "Deductible                int64\n",
       "DriverRating              int64\n",
       "Days_Policy_Accident    float64\n",
       "Days_Policy_Claim       float64\n",
       "PastNumberOfClaims        int64\n",
       "AgeOfVehicle              int64\n",
       "AgeOfPolicyHolder       float64\n",
       "PoliceReportFiled         int64\n",
       "WitnessPresent            int64\n",
       "AgentType                 int64\n",
       "NumberOfSuppliments       int64\n",
       "AddressChange_Claim     float64\n",
       "NumberOfCars            float64\n",
       "Year                      int64\n",
       "BasePolicy               object\n",
       "dtype: object"
      ]
     },
     "execution_count": 11,
     "metadata": {},
     "output_type": "execute_result"
    }
   ],
   "source": [
    "col_map = [{'Days_Policy_Accident':{'more than 30': 31,'15 to 30': 22.5,'none': 0,'1 to 7': 4,'8 to 15': 11.5}},\n",
    "    {'Days_Policy_Claim':{'more than 30': 31,'15 to 30': 22.5,'8 to 15': 11.5,'none': 0}},\n",
    "    {'AgeOfPolicyHolder':{'26 to 30':28,'31 to 35':33,'41 to 50':45.5,'51 to 65':58,'21 to 25':23,'36 to 40':38,'16 to 17':16.5,\n",
    "                                          'over 65':66,'18 to 20':19}},\n",
    "    {'AddressChange_Claim':{'1 year':1,'no change':0,'4 to 8 years':6,'2 to 3 years':2.5,'under 6 months':0.5}},\n",
    "    {'NumberOfCars':{'3 to 4':3.5,'1 vehicle':1,'2 vehicles':2,'5 to 8':6.5,'more than 8':9}},\n",
    "]\n",
    "\n",
    "X3 = X2.copy()\n",
    "for i in range(len(col_map)):\n",
    "    X3.replace(col_map[i], inplace=True)\n",
    "\n",
    "X3.dtypes"
   ]
  },
  {
   "cell_type": "markdown",
   "metadata": {},
   "source": [
    "One hot encoder for the categorial features"
   ]
  },
  {
   "cell_type": "code",
   "execution_count": 12,
   "metadata": {
    "execution": {
     "iopub.execute_input": "2022-04-12T13:02:02.215464Z",
     "iopub.status.busy": "2022-04-12T13:02:02.215219Z",
     "iopub.status.idle": "2022-04-12T13:02:02.351756Z",
     "shell.execute_reply": "2022-04-12T13:02:02.350991Z",
     "shell.execute_reply.started": "2022-04-12T13:02:02.215432Z"
    }
   },
   "outputs": [
    {
     "data": {
      "text/plain": [
       "Month                        int64\n",
       "WeekOfMonth                  int64\n",
       "DayOfWeek                    int64\n",
       "Make_Honda                   int64\n",
       "Make_Toyota                  int64\n",
       "Make_Ford                    int64\n",
       "Make_Mazda                   int64\n",
       "Make_Chevrolet               int64\n",
       "Make_Pontiac                 int64\n",
       "Make_Accura                  int64\n",
       "Make_Dodge                   int64\n",
       "Make_Mercury                 int64\n",
       "Make_Jaguar                  int64\n",
       "Make_Nisson                  int64\n",
       "Make_VW                      int64\n",
       "Make_Saab                    int64\n",
       "Make_Saturn                  int64\n",
       "Make_Porche                  int64\n",
       "Make_BMW                     int64\n",
       "Make_Mecedes                 int64\n",
       "Make_Ferrari                 int64\n",
       "Make_Lexus                   int64\n",
       "AccidentArea                 int64\n",
       "DayOfWeekClaimed           float64\n",
       "MonthClaimed               float64\n",
       "WeekOfMonthClaimed           int64\n",
       "Sex                          int64\n",
       "MaritalStatus_Single         int64\n",
       "MaritalStatus_Married        int64\n",
       "MaritalStatus_Widow          int64\n",
       "MaritalStatus_Divorced       int64\n",
       "Age                        float64\n",
       "Fault                        int64\n",
       "VehicleCategory_Sport        int64\n",
       "VehicleCategory_Utility      int64\n",
       "VehicleCategory_Sedan        int64\n",
       "VehiclePrice                 int64\n",
       "RepNumber                    int64\n",
       "Deductible                   int64\n",
       "DriverRating                 int64\n",
       "Days_Policy_Accident       float64\n",
       "Days_Policy_Claim          float64\n",
       "PastNumberOfClaims           int64\n",
       "AgeOfVehicle                 int64\n",
       "AgeOfPolicyHolder          float64\n",
       "PoliceReportFiled            int64\n",
       "WitnessPresent               int64\n",
       "AgentType                    int64\n",
       "NumberOfSuppliments          int64\n",
       "AddressChange_Claim        float64\n",
       "NumberOfCars               float64\n",
       "Year                         int64\n",
       "BasePolicy_Liability         int64\n",
       "BasePolicy_Collision         int64\n",
       "BasePolicy_All Perils        int64\n",
       "dtype: object"
      ]
     },
     "execution_count": 12,
     "metadata": {},
     "output_type": "execute_result"
    }
   ],
   "source": [
    "#implementing one-hot encoding\n",
    "one_hot_encoder = OneHotEncoder(cols = ['Make','MaritalStatus','VehicleCategory','BasePolicy'],use_cat_names=True, return_df=True) \n",
    "\n",
    "#implementing label encoding, with random assignment of integers to each label\n",
    "# assumes no natrual underlying order to the feature labels\n",
    "ord_encoder1 = OrdinalEncoder(cols = ['Make','MaritalStatus','VehicleCategory','BasePolicy'],return_df=True)\n",
    "\n",
    "#implementing binary encoding\n",
    "#represents the data \n",
    "bi_encoder = BinaryEncoder(cols = ['Make','MaritalStatus','VehicleCategory','BasePolicy'], return_df=True)\n",
    "\n",
    "#implimented a simple switch to change how I wanted to encode the variables\n",
    "#Allowed for a updating the independet variables quickly and not missing a code box\n",
    "\n",
    "switch_val = 0\n",
    "if switch_val ==0:\n",
    "    X4 = one_hot_encoder.fit_transform(X3)\n",
    "elif switch_val==1:\n",
    "    X4 = ord_encoder1.fit_transform(X3)\n",
    "else:\n",
    "    X4 = bi_encoder.fit_transform(X3)\n",
    "    \n",
    "X4.dtypes\n"
   ]
  },
  {
   "cell_type": "code",
   "execution_count": 13,
   "metadata": {},
   "outputs": [
    {
     "name": "stdout",
     "output_type": "stream",
     "text": [
      "(0.8995052651641743, 0.0)\n",
      "(0.8335242937029943, 0.0)\n",
      "(0.944432189599651, 0.0)\n"
     ]
    }
   ],
   "source": [
    "print(pearsonr(X4.Age, X4.AgeOfPolicyHolder))\n",
    "print(pearsonr(X4.MonthClaimed, X4.Month))\n",
    "print(pearsonr(X4.BasePolicy_Liability,X4.VehicleCategory_Sport))"
   ]
  },
  {
   "cell_type": "code",
   "execution_count": 14,
   "metadata": {},
   "outputs": [
    {
     "data": {
      "text/html": [
       "<div>\n",
       "<style scoped>\n",
       "    .dataframe tbody tr th:only-of-type {\n",
       "        vertical-align: middle;\n",
       "    }\n",
       "\n",
       "    .dataframe tbody tr th {\n",
       "        vertical-align: top;\n",
       "    }\n",
       "\n",
       "    .dataframe thead th {\n",
       "        text-align: right;\n",
       "    }\n",
       "</style>\n",
       "<table border=\"1\" class=\"dataframe\">\n",
       "  <thead>\n",
       "    <tr style=\"text-align: right;\">\n",
       "      <th></th>\n",
       "      <th>Month</th>\n",
       "      <th>WeekOfMonth</th>\n",
       "      <th>DayOfWeek</th>\n",
       "      <th>Make_Honda</th>\n",
       "      <th>Make_Toyota</th>\n",
       "      <th>Make_Ford</th>\n",
       "      <th>Make_Mazda</th>\n",
       "      <th>Make_Chevrolet</th>\n",
       "      <th>Make_Pontiac</th>\n",
       "      <th>Make_Accura</th>\n",
       "      <th>...</th>\n",
       "      <th>PoliceReportFiled</th>\n",
       "      <th>WitnessPresent</th>\n",
       "      <th>AgentType</th>\n",
       "      <th>NumberOfSuppliments</th>\n",
       "      <th>AddressChange_Claim</th>\n",
       "      <th>NumberOfCars</th>\n",
       "      <th>Year</th>\n",
       "      <th>BasePolicy_Liability</th>\n",
       "      <th>BasePolicy_Collision</th>\n",
       "      <th>BasePolicy_All Perils</th>\n",
       "    </tr>\n",
       "  </thead>\n",
       "  <tbody>\n",
       "    <tr>\n",
       "      <th>Month</th>\n",
       "      <td>1.000000</td>\n",
       "      <td>0.031442</td>\n",
       "      <td>0.000968</td>\n",
       "      <td>-0.021027</td>\n",
       "      <td>-0.003369</td>\n",
       "      <td>0.002855</td>\n",
       "      <td>0.005397</td>\n",
       "      <td>-0.002603</td>\n",
       "      <td>0.018575</td>\n",
       "      <td>0.004674</td>\n",
       "      <td>...</td>\n",
       "      <td>0.047896</td>\n",
       "      <td>-0.001515</td>\n",
       "      <td>-0.023576</td>\n",
       "      <td>0.024617</td>\n",
       "      <td>0.001477</td>\n",
       "      <td>-0.015607</td>\n",
       "      <td>0.048852</td>\n",
       "      <td>-0.011205</td>\n",
       "      <td>0.032236</td>\n",
       "      <td>-0.023067</td>\n",
       "    </tr>\n",
       "    <tr>\n",
       "      <th>WeekOfMonth</th>\n",
       "      <td>0.031442</td>\n",
       "      <td>1.000000</td>\n",
       "      <td>-0.013370</td>\n",
       "      <td>0.012041</td>\n",
       "      <td>0.004741</td>\n",
       "      <td>-0.004448</td>\n",
       "      <td>-0.009569</td>\n",
       "      <td>-0.004139</td>\n",
       "      <td>-0.001375</td>\n",
       "      <td>-0.001817</td>\n",
       "      <td>...</td>\n",
       "      <td>0.013026</td>\n",
       "      <td>0.013713</td>\n",
       "      <td>-0.006477</td>\n",
       "      <td>0.000177</td>\n",
       "      <td>0.000147</td>\n",
       "      <td>0.002901</td>\n",
       "      <td>-0.003906</td>\n",
       "      <td>-0.004198</td>\n",
       "      <td>-0.004401</td>\n",
       "      <td>0.009069</td>\n",
       "    </tr>\n",
       "    <tr>\n",
       "      <th>DayOfWeek</th>\n",
       "      <td>0.000968</td>\n",
       "      <td>-0.013370</td>\n",
       "      <td>1.000000</td>\n",
       "      <td>-0.000321</td>\n",
       "      <td>0.002423</td>\n",
       "      <td>0.000286</td>\n",
       "      <td>-0.000881</td>\n",
       "      <td>-0.006622</td>\n",
       "      <td>0.014497</td>\n",
       "      <td>-0.013943</td>\n",
       "      <td>...</td>\n",
       "      <td>0.015406</td>\n",
       "      <td>0.004251</td>\n",
       "      <td>-0.003516</td>\n",
       "      <td>-0.001544</td>\n",
       "      <td>0.006422</td>\n",
       "      <td>-0.010573</td>\n",
       "      <td>0.007275</td>\n",
       "      <td>-0.055095</td>\n",
       "      <td>0.039266</td>\n",
       "      <td>0.014744</td>\n",
       "    </tr>\n",
       "    <tr>\n",
       "      <th>Make_Honda</th>\n",
       "      <td>-0.021027</td>\n",
       "      <td>0.012041</td>\n",
       "      <td>-0.000321</td>\n",
       "      <td>1.000000</td>\n",
       "      <td>-0.237332</td>\n",
       "      <td>-0.081684</td>\n",
       "      <td>-0.199975</td>\n",
       "      <td>-0.164797</td>\n",
       "      <td>-0.271162</td>\n",
       "      <td>-0.083719</td>\n",
       "      <td>...</td>\n",
       "      <td>-0.017145</td>\n",
       "      <td>-0.008541</td>\n",
       "      <td>0.014614</td>\n",
       "      <td>-0.066027</td>\n",
       "      <td>-0.006243</td>\n",
       "      <td>-0.001082</td>\n",
       "      <td>-0.008792</td>\n",
       "      <td>0.023751</td>\n",
       "      <td>0.035583</td>\n",
       "      <td>-0.062796</td>\n",
       "    </tr>\n",
       "    <tr>\n",
       "      <th>Make_Toyota</th>\n",
       "      <td>-0.003369</td>\n",
       "      <td>0.004741</td>\n",
       "      <td>0.002423</td>\n",
       "      <td>-0.237332</td>\n",
       "      <td>1.000000</td>\n",
       "      <td>-0.087339</td>\n",
       "      <td>-0.213818</td>\n",
       "      <td>-0.176205</td>\n",
       "      <td>-0.289933</td>\n",
       "      <td>-0.089514</td>\n",
       "      <td>...</td>\n",
       "      <td>-0.004546</td>\n",
       "      <td>-0.007777</td>\n",
       "      <td>0.008820</td>\n",
       "      <td>-0.004340</td>\n",
       "      <td>0.003370</td>\n",
       "      <td>0.004898</td>\n",
       "      <td>0.000350</td>\n",
       "      <td>-0.015102</td>\n",
       "      <td>-0.019789</td>\n",
       "      <td>0.036880</td>\n",
       "    </tr>\n",
       "    <tr>\n",
       "      <th>Make_Ford</th>\n",
       "      <td>0.002855</td>\n",
       "      <td>-0.004448</td>\n",
       "      <td>0.000286</td>\n",
       "      <td>-0.081684</td>\n",
       "      <td>-0.087339</td>\n",
       "      <td>1.000000</td>\n",
       "      <td>-0.073591</td>\n",
       "      <td>-0.060646</td>\n",
       "      <td>-0.099789</td>\n",
       "      <td>-0.030809</td>\n",
       "      <td>...</td>\n",
       "      <td>0.017613</td>\n",
       "      <td>0.002372</td>\n",
       "      <td>-0.021641</td>\n",
       "      <td>0.024850</td>\n",
       "      <td>-0.008070</td>\n",
       "      <td>-0.010908</td>\n",
       "      <td>0.000522</td>\n",
       "      <td>-0.012486</td>\n",
       "      <td>-0.027682</td>\n",
       "      <td>0.042660</td>\n",
       "    </tr>\n",
       "    <tr>\n",
       "      <th>Make_Mazda</th>\n",
       "      <td>0.005397</td>\n",
       "      <td>-0.009569</td>\n",
       "      <td>-0.000881</td>\n",
       "      <td>-0.199975</td>\n",
       "      <td>-0.213818</td>\n",
       "      <td>-0.073591</td>\n",
       "      <td>1.000000</td>\n",
       "      <td>-0.148470</td>\n",
       "      <td>-0.244297</td>\n",
       "      <td>-0.075424</td>\n",
       "      <td>...</td>\n",
       "      <td>0.010605</td>\n",
       "      <td>-0.007899</td>\n",
       "      <td>0.006964</td>\n",
       "      <td>0.008689</td>\n",
       "      <td>0.007222</td>\n",
       "      <td>0.002509</td>\n",
       "      <td>-0.001274</td>\n",
       "      <td>0.023229</td>\n",
       "      <td>0.065110</td>\n",
       "      <td>-0.093993</td>\n",
       "    </tr>\n",
       "    <tr>\n",
       "      <th>Make_Chevrolet</th>\n",
       "      <td>-0.002603</td>\n",
       "      <td>-0.004139</td>\n",
       "      <td>-0.006622</td>\n",
       "      <td>-0.164797</td>\n",
       "      <td>-0.176205</td>\n",
       "      <td>-0.060646</td>\n",
       "      <td>-0.148470</td>\n",
       "      <td>1.000000</td>\n",
       "      <td>-0.201322</td>\n",
       "      <td>-0.062156</td>\n",
       "      <td>...</td>\n",
       "      <td>0.010567</td>\n",
       "      <td>-0.001345</td>\n",
       "      <td>-0.023030</td>\n",
       "      <td>0.018211</td>\n",
       "      <td>0.012737</td>\n",
       "      <td>-0.003452</td>\n",
       "      <td>-0.003507</td>\n",
       "      <td>0.019971</td>\n",
       "      <td>-0.023050</td>\n",
       "      <td>0.004131</td>\n",
       "    </tr>\n",
       "    <tr>\n",
       "      <th>Make_Pontiac</th>\n",
       "      <td>0.018575</td>\n",
       "      <td>-0.001375</td>\n",
       "      <td>0.014497</td>\n",
       "      <td>-0.271162</td>\n",
       "      <td>-0.289933</td>\n",
       "      <td>-0.099789</td>\n",
       "      <td>-0.244297</td>\n",
       "      <td>-0.201322</td>\n",
       "      <td>1.000000</td>\n",
       "      <td>-0.102274</td>\n",
       "      <td>...</td>\n",
       "      <td>0.000456</td>\n",
       "      <td>0.022733</td>\n",
       "      <td>0.006009</td>\n",
       "      <td>0.028510</td>\n",
       "      <td>-0.009144</td>\n",
       "      <td>-0.008096</td>\n",
       "      <td>0.014070</td>\n",
       "      <td>-0.019347</td>\n",
       "      <td>-0.014644</td>\n",
       "      <td>0.035737</td>\n",
       "    </tr>\n",
       "    <tr>\n",
       "      <th>Make_Accura</th>\n",
       "      <td>0.004674</td>\n",
       "      <td>-0.001817</td>\n",
       "      <td>-0.013943</td>\n",
       "      <td>-0.083719</td>\n",
       "      <td>-0.089514</td>\n",
       "      <td>-0.030809</td>\n",
       "      <td>-0.075424</td>\n",
       "      <td>-0.062156</td>\n",
       "      <td>-0.102274</td>\n",
       "      <td>1.000000</td>\n",
       "      <td>...</td>\n",
       "      <td>0.002061</td>\n",
       "      <td>0.011746</td>\n",
       "      <td>-0.004926</td>\n",
       "      <td>-0.004655</td>\n",
       "      <td>-0.000589</td>\n",
       "      <td>0.004527</td>\n",
       "      <td>-0.011705</td>\n",
       "      <td>-0.043670</td>\n",
       "      <td>-0.044448</td>\n",
       "      <td>0.092914</td>\n",
       "    </tr>\n",
       "    <tr>\n",
       "      <th>Make_Dodge</th>\n",
       "      <td>-0.004390</td>\n",
       "      <td>0.018664</td>\n",
       "      <td>-0.006279</td>\n",
       "      <td>-0.039752</td>\n",
       "      <td>-0.042503</td>\n",
       "      <td>-0.014629</td>\n",
       "      <td>-0.035813</td>\n",
       "      <td>-0.029513</td>\n",
       "      <td>-0.048562</td>\n",
       "      <td>-0.014993</td>\n",
       "      <td>...</td>\n",
       "      <td>0.004592</td>\n",
       "      <td>-0.006356</td>\n",
       "      <td>-0.008091</td>\n",
       "      <td>0.002071</td>\n",
       "      <td>0.003389</td>\n",
       "      <td>0.018415</td>\n",
       "      <td>0.006316</td>\n",
       "      <td>0.010897</td>\n",
       "      <td>0.014077</td>\n",
       "      <td>-0.026394</td>\n",
       "    </tr>\n",
       "    <tr>\n",
       "      <th>Make_Mercury</th>\n",
       "      <td>0.000380</td>\n",
       "      <td>-0.002377</td>\n",
       "      <td>-0.001814</td>\n",
       "      <td>-0.034659</td>\n",
       "      <td>-0.037058</td>\n",
       "      <td>-0.012755</td>\n",
       "      <td>-0.031225</td>\n",
       "      <td>-0.025732</td>\n",
       "      <td>-0.042340</td>\n",
       "      <td>-0.013072</td>\n",
       "      <td>...</td>\n",
       "      <td>-0.007034</td>\n",
       "      <td>-0.005541</td>\n",
       "      <td>0.009269</td>\n",
       "      <td>0.001484</td>\n",
       "      <td>-0.007733</td>\n",
       "      <td>-0.009234</td>\n",
       "      <td>-0.002115</td>\n",
       "      <td>-0.018853</td>\n",
       "      <td>-0.007446</td>\n",
       "      <td>0.027490</td>\n",
       "    </tr>\n",
       "    <tr>\n",
       "      <th>Make_Jaguar</th>\n",
       "      <td>-0.004119</td>\n",
       "      <td>-0.004422</td>\n",
       "      <td>0.001915</td>\n",
       "      <td>-0.009295</td>\n",
       "      <td>-0.009939</td>\n",
       "      <td>-0.003421</td>\n",
       "      <td>-0.008374</td>\n",
       "      <td>-0.006901</td>\n",
       "      <td>-0.011355</td>\n",
       "      <td>-0.003506</td>\n",
       "      <td>...</td>\n",
       "      <td>-0.003334</td>\n",
       "      <td>-0.001486</td>\n",
       "      <td>0.002486</td>\n",
       "      <td>-0.003123</td>\n",
       "      <td>0.011178</td>\n",
       "      <td>0.019147</td>\n",
       "      <td>-0.009001</td>\n",
       "      <td>0.007379</td>\n",
       "      <td>-0.008912</td>\n",
       "      <td>0.001951</td>\n",
       "    </tr>\n",
       "    <tr>\n",
       "      <th>Make_Nisson</th>\n",
       "      <td>-0.003285</td>\n",
       "      <td>0.001534</td>\n",
       "      <td>-0.005380</td>\n",
       "      <td>-0.020801</td>\n",
       "      <td>-0.022241</td>\n",
       "      <td>-0.007655</td>\n",
       "      <td>-0.018740</td>\n",
       "      <td>-0.015444</td>\n",
       "      <td>-0.025411</td>\n",
       "      <td>-0.007846</td>\n",
       "      <td>...</td>\n",
       "      <td>-0.007460</td>\n",
       "      <td>-0.003326</td>\n",
       "      <td>0.005563</td>\n",
       "      <td>0.005496</td>\n",
       "      <td>-0.000738</td>\n",
       "      <td>-0.007452</td>\n",
       "      <td>0.005507</td>\n",
       "      <td>-0.011769</td>\n",
       "      <td>-0.007855</td>\n",
       "      <td>0.020608</td>\n",
       "    </tr>\n",
       "    <tr>\n",
       "      <th>Make_VW</th>\n",
       "      <td>0.004612</td>\n",
       "      <td>-0.005693</td>\n",
       "      <td>-0.015286</td>\n",
       "      <td>-0.064420</td>\n",
       "      <td>-0.068879</td>\n",
       "      <td>-0.023707</td>\n",
       "      <td>-0.058037</td>\n",
       "      <td>-0.047828</td>\n",
       "      <td>-0.078697</td>\n",
       "      <td>-0.024297</td>\n",
       "      <td>...</td>\n",
       "      <td>0.003368</td>\n",
       "      <td>-0.010300</td>\n",
       "      <td>-0.021724</td>\n",
       "      <td>0.018432</td>\n",
       "      <td>0.002166</td>\n",
       "      <td>-0.001995</td>\n",
       "      <td>0.006489</td>\n",
       "      <td>0.026897</td>\n",
       "      <td>-0.028196</td>\n",
       "      <td>0.002504</td>\n",
       "    </tr>\n",
       "    <tr>\n",
       "      <th>Make_Saab</th>\n",
       "      <td>-0.005218</td>\n",
       "      <td>-0.003121</td>\n",
       "      <td>0.006975</td>\n",
       "      <td>-0.039568</td>\n",
       "      <td>-0.042307</td>\n",
       "      <td>-0.014561</td>\n",
       "      <td>-0.035647</td>\n",
       "      <td>-0.029377</td>\n",
       "      <td>-0.048337</td>\n",
       "      <td>-0.014924</td>\n",
       "      <td>...</td>\n",
       "      <td>-0.014190</td>\n",
       "      <td>0.004056</td>\n",
       "      <td>0.010582</td>\n",
       "      <td>0.003355</td>\n",
       "      <td>0.004546</td>\n",
       "      <td>0.025127</td>\n",
       "      <td>-0.012177</td>\n",
       "      <td>-0.013421</td>\n",
       "      <td>0.008372</td>\n",
       "      <td>0.004874</td>\n",
       "    </tr>\n",
       "    <tr>\n",
       "      <th>Make_Saturn</th>\n",
       "      <td>-0.011811</td>\n",
       "      <td>-0.007190</td>\n",
       "      <td>0.001683</td>\n",
       "      <td>-0.028949</td>\n",
       "      <td>-0.030953</td>\n",
       "      <td>-0.010653</td>\n",
       "      <td>-0.026081</td>\n",
       "      <td>-0.021493</td>\n",
       "      <td>-0.035365</td>\n",
       "      <td>-0.010919</td>\n",
       "      <td>...</td>\n",
       "      <td>-0.010382</td>\n",
       "      <td>-0.004628</td>\n",
       "      <td>-0.009340</td>\n",
       "      <td>-0.003591</td>\n",
       "      <td>-0.007866</td>\n",
       "      <td>0.004039</td>\n",
       "      <td>0.000982</td>\n",
       "      <td>-0.019999</td>\n",
       "      <td>-0.007451</td>\n",
       "      <td>0.028680</td>\n",
       "    </tr>\n",
       "    <tr>\n",
       "      <th>Make_Porche</th>\n",
       "      <td>0.006266</td>\n",
       "      <td>-0.008233</td>\n",
       "      <td>-0.016450</td>\n",
       "      <td>-0.008485</td>\n",
       "      <td>-0.009072</td>\n",
       "      <td>-0.003123</td>\n",
       "      <td>-0.007644</td>\n",
       "      <td>-0.006300</td>\n",
       "      <td>-0.010366</td>\n",
       "      <td>-0.003200</td>\n",
       "      <td>...</td>\n",
       "      <td>-0.003043</td>\n",
       "      <td>-0.001357</td>\n",
       "      <td>0.002269</td>\n",
       "      <td>-0.009155</td>\n",
       "      <td>-0.004454</td>\n",
       "      <td>-0.004283</td>\n",
       "      <td>-0.001490</td>\n",
       "      <td>0.002891</td>\n",
       "      <td>0.000494</td>\n",
       "      <td>-0.003519</td>\n",
       "    </tr>\n",
       "    <tr>\n",
       "      <th>Make_BMW</th>\n",
       "      <td>0.003070</td>\n",
       "      <td>0.005124</td>\n",
       "      <td>0.010386</td>\n",
       "      <td>-0.014701</td>\n",
       "      <td>-0.015719</td>\n",
       "      <td>-0.005410</td>\n",
       "      <td>-0.013245</td>\n",
       "      <td>-0.010915</td>\n",
       "      <td>-0.017960</td>\n",
       "      <td>-0.005545</td>\n",
       "      <td>...</td>\n",
       "      <td>-0.005272</td>\n",
       "      <td>-0.002351</td>\n",
       "      <td>-0.012840</td>\n",
       "      <td>0.003464</td>\n",
       "      <td>-0.004330</td>\n",
       "      <td>0.011969</td>\n",
       "      <td>0.010366</td>\n",
       "      <td>0.005008</td>\n",
       "      <td>-0.007688</td>\n",
       "      <td>0.003086</td>\n",
       "    </tr>\n",
       "    <tr>\n",
       "      <th>Make_Mecedes</th>\n",
       "      <td>-0.004136</td>\n",
       "      <td>-0.003610</td>\n",
       "      <td>0.003598</td>\n",
       "      <td>-0.007589</td>\n",
       "      <td>-0.008114</td>\n",
       "      <td>-0.002793</td>\n",
       "      <td>-0.006837</td>\n",
       "      <td>-0.005634</td>\n",
       "      <td>-0.009271</td>\n",
       "      <td>-0.002862</td>\n",
       "      <td>...</td>\n",
       "      <td>-0.002722</td>\n",
       "      <td>-0.001213</td>\n",
       "      <td>0.002030</td>\n",
       "      <td>-0.013393</td>\n",
       "      <td>0.004210</td>\n",
       "      <td>-0.003831</td>\n",
       "      <td>-0.007349</td>\n",
       "      <td>-0.011173</td>\n",
       "      <td>0.003750</td>\n",
       "      <td>0.007519</td>\n",
       "    </tr>\n",
       "    <tr>\n",
       "      <th>Make_Ferrari</th>\n",
       "      <td>0.005274</td>\n",
       "      <td>-0.011399</td>\n",
       "      <td>-0.013280</td>\n",
       "      <td>-0.005366</td>\n",
       "      <td>-0.005737</td>\n",
       "      <td>-0.001975</td>\n",
       "      <td>-0.004834</td>\n",
       "      <td>-0.003984</td>\n",
       "      <td>-0.006555</td>\n",
       "      <td>-0.002024</td>\n",
       "      <td>...</td>\n",
       "      <td>-0.001924</td>\n",
       "      <td>-0.000858</td>\n",
       "      <td>0.001435</td>\n",
       "      <td>-0.000269</td>\n",
       "      <td>-0.002816</td>\n",
       "      <td>-0.002709</td>\n",
       "      <td>0.008982</td>\n",
       "      <td>-0.007900</td>\n",
       "      <td>0.014345</td>\n",
       "      <td>-0.007253</td>\n",
       "    </tr>\n",
       "    <tr>\n",
       "      <th>Make_Lexus</th>\n",
       "      <td>-0.010184</td>\n",
       "      <td>0.013832</td>\n",
       "      <td>-0.011424</td>\n",
       "      <td>-0.003794</td>\n",
       "      <td>-0.004057</td>\n",
       "      <td>-0.001396</td>\n",
       "      <td>-0.003418</td>\n",
       "      <td>-0.002817</td>\n",
       "      <td>-0.004635</td>\n",
       "      <td>-0.001431</td>\n",
       "      <td>...</td>\n",
       "      <td>-0.001361</td>\n",
       "      <td>-0.000607</td>\n",
       "      <td>0.001015</td>\n",
       "      <td>-0.003443</td>\n",
       "      <td>-0.001991</td>\n",
       "      <td>-0.001915</td>\n",
       "      <td>0.001339</td>\n",
       "      <td>-0.005586</td>\n",
       "      <td>0.010143</td>\n",
       "      <td>-0.005128</td>\n",
       "    </tr>\n",
       "    <tr>\n",
       "      <th>AccidentArea</th>\n",
       "      <td>0.002140</td>\n",
       "      <td>0.009116</td>\n",
       "      <td>-0.025699</td>\n",
       "      <td>0.018914</td>\n",
       "      <td>0.003407</td>\n",
       "      <td>-0.016896</td>\n",
       "      <td>0.017126</td>\n",
       "      <td>-0.016928</td>\n",
       "      <td>-0.009039</td>\n",
       "      <td>-0.003812</td>\n",
       "      <td>...</td>\n",
       "      <td>0.001754</td>\n",
       "      <td>-0.028362</td>\n",
       "      <td>0.005189</td>\n",
       "      <td>-0.018695</td>\n",
       "      <td>-0.017305</td>\n",
       "      <td>-0.005518</td>\n",
       "      <td>0.002284</td>\n",
       "      <td>0.056380</td>\n",
       "      <td>-0.038078</td>\n",
       "      <td>-0.017349</td>\n",
       "    </tr>\n",
       "    <tr>\n",
       "      <th>DayOfWeekClaimed</th>\n",
       "      <td>-0.006647</td>\n",
       "      <td>0.010013</td>\n",
       "      <td>-0.056893</td>\n",
       "      <td>-0.006690</td>\n",
       "      <td>0.000462</td>\n",
       "      <td>0.017840</td>\n",
       "      <td>0.002158</td>\n",
       "      <td>-0.004756</td>\n",
       "      <td>-0.009994</td>\n",
       "      <td>0.014267</td>\n",
       "      <td>...</td>\n",
       "      <td>-0.010992</td>\n",
       "      <td>-0.002415</td>\n",
       "      <td>-0.005900</td>\n",
       "      <td>0.003279</td>\n",
       "      <td>-0.001619</td>\n",
       "      <td>0.006807</td>\n",
       "      <td>0.003126</td>\n",
       "      <td>-0.011861</td>\n",
       "      <td>-0.006669</td>\n",
       "      <td>0.019428</td>\n",
       "    </tr>\n",
       "    <tr>\n",
       "      <th>MonthClaimed</th>\n",
       "      <td>0.833524</td>\n",
       "      <td>0.013915</td>\n",
       "      <td>-0.003859</td>\n",
       "      <td>-0.025446</td>\n",
       "      <td>0.003542</td>\n",
       "      <td>0.002124</td>\n",
       "      <td>0.007731</td>\n",
       "      <td>-0.000558</td>\n",
       "      <td>0.009767</td>\n",
       "      <td>0.004594</td>\n",
       "      <td>...</td>\n",
       "      <td>0.056724</td>\n",
       "      <td>0.001021</td>\n",
       "      <td>-0.032042</td>\n",
       "      <td>0.034534</td>\n",
       "      <td>0.001160</td>\n",
       "      <td>-0.009481</td>\n",
       "      <td>0.053457</td>\n",
       "      <td>-0.006066</td>\n",
       "      <td>0.040181</td>\n",
       "      <td>-0.036919</td>\n",
       "    </tr>\n",
       "    <tr>\n",
       "      <th>WeekOfMonthClaimed</th>\n",
       "      <td>0.053917</td>\n",
       "      <td>0.275400</td>\n",
       "      <td>0.004716</td>\n",
       "      <td>0.002430</td>\n",
       "      <td>-0.009855</td>\n",
       "      <td>-0.008962</td>\n",
       "      <td>-0.003094</td>\n",
       "      <td>0.005526</td>\n",
       "      <td>0.008607</td>\n",
       "      <td>0.001928</td>\n",
       "      <td>...</td>\n",
       "      <td>0.023510</td>\n",
       "      <td>0.009369</td>\n",
       "      <td>0.011314</td>\n",
       "      <td>0.011589</td>\n",
       "      <td>0.009449</td>\n",
       "      <td>0.005903</td>\n",
       "      <td>0.012175</td>\n",
       "      <td>0.018027</td>\n",
       "      <td>-0.012527</td>\n",
       "      <td>-0.005169</td>\n",
       "    </tr>\n",
       "    <tr>\n",
       "      <th>Sex</th>\n",
       "      <td>0.007397</td>\n",
       "      <td>-0.005314</td>\n",
       "      <td>-0.000990</td>\n",
       "      <td>-0.025704</td>\n",
       "      <td>0.017835</td>\n",
       "      <td>-0.035614</td>\n",
       "      <td>0.036963</td>\n",
       "      <td>0.009259</td>\n",
       "      <td>0.011474</td>\n",
       "      <td>-0.044583</td>\n",
       "      <td>...</td>\n",
       "      <td>0.007413</td>\n",
       "      <td>0.005585</td>\n",
       "      <td>0.012681</td>\n",
       "      <td>-0.010698</td>\n",
       "      <td>0.001692</td>\n",
       "      <td>0.001159</td>\n",
       "      <td>-0.000413</td>\n",
       "      <td>0.061632</td>\n",
       "      <td>-0.006469</td>\n",
       "      <td>-0.056752</td>\n",
       "    </tr>\n",
       "    <tr>\n",
       "      <th>MaritalStatus_Single</th>\n",
       "      <td>-0.009206</td>\n",
       "      <td>0.017114</td>\n",
       "      <td>0.017814</td>\n",
       "      <td>0.094790</td>\n",
       "      <td>-0.014755</td>\n",
       "      <td>-0.049172</td>\n",
       "      <td>0.019583</td>\n",
       "      <td>-0.022905</td>\n",
       "      <td>-0.020723</td>\n",
       "      <td>-0.046151</td>\n",
       "      <td>...</td>\n",
       "      <td>0.012010</td>\n",
       "      <td>0.010492</td>\n",
       "      <td>-0.003176</td>\n",
       "      <td>-0.026884</td>\n",
       "      <td>0.002666</td>\n",
       "      <td>-0.004618</td>\n",
       "      <td>-0.015370</td>\n",
       "      <td>0.031454</td>\n",
       "      <td>0.016498</td>\n",
       "      <td>-0.050245</td>\n",
       "    </tr>\n",
       "    <tr>\n",
       "      <th>MaritalStatus_Married</th>\n",
       "      <td>0.009206</td>\n",
       "      <td>-0.015966</td>\n",
       "      <td>-0.018147</td>\n",
       "      <td>-0.093388</td>\n",
       "      <td>0.014124</td>\n",
       "      <td>0.048220</td>\n",
       "      <td>-0.018698</td>\n",
       "      <td>0.023701</td>\n",
       "      <td>0.020141</td>\n",
       "      <td>0.047801</td>\n",
       "      <td>...</td>\n",
       "      <td>-0.011863</td>\n",
       "      <td>-0.011123</td>\n",
       "      <td>0.003455</td>\n",
       "      <td>0.029001</td>\n",
       "      <td>-0.000171</td>\n",
       "      <td>0.002773</td>\n",
       "      <td>0.013732</td>\n",
       "      <td>-0.028541</td>\n",
       "      <td>-0.019580</td>\n",
       "      <td>0.050546</td>\n",
       "    </tr>\n",
       "    <tr>\n",
       "      <th>MaritalStatus_Widow</th>\n",
       "      <td>0.000114</td>\n",
       "      <td>0.006773</td>\n",
       "      <td>0.000499</td>\n",
       "      <td>-0.004799</td>\n",
       "      <td>0.009890</td>\n",
       "      <td>0.024116</td>\n",
       "      <td>-0.008878</td>\n",
       "      <td>-0.007938</td>\n",
       "      <td>-0.002235</td>\n",
       "      <td>-0.008475</td>\n",
       "      <td>...</td>\n",
       "      <td>0.000237</td>\n",
       "      <td>0.014601</td>\n",
       "      <td>-0.015964</td>\n",
       "      <td>-0.005530</td>\n",
       "      <td>-0.011795</td>\n",
       "      <td>-0.011344</td>\n",
       "      <td>0.007928</td>\n",
       "      <td>-0.006895</td>\n",
       "      <td>0.015300</td>\n",
       "      <td>-0.009319</td>\n",
       "    </tr>\n",
       "    <tr>\n",
       "      <th>MaritalStatus_Divorced</th>\n",
       "      <td>-0.000472</td>\n",
       "      <td>-0.011459</td>\n",
       "      <td>0.002622</td>\n",
       "      <td>-0.001934</td>\n",
       "      <td>-0.003186</td>\n",
       "      <td>-0.012202</td>\n",
       "      <td>0.001025</td>\n",
       "      <td>-0.000847</td>\n",
       "      <td>0.004474</td>\n",
       "      <td>-0.007130</td>\n",
       "      <td>...</td>\n",
       "      <td>-0.000617</td>\n",
       "      <td>-0.005301</td>\n",
       "      <td>0.008868</td>\n",
       "      <td>-0.011388</td>\n",
       "      <td>-0.008360</td>\n",
       "      <td>0.019707</td>\n",
       "      <td>0.004782</td>\n",
       "      <td>-0.013224</td>\n",
       "      <td>0.010678</td>\n",
       "      <td>0.002192</td>\n",
       "    </tr>\n",
       "    <tr>\n",
       "      <th>Age</th>\n",
       "      <td>-0.023429</td>\n",
       "      <td>-0.011781</td>\n",
       "      <td>-0.004563</td>\n",
       "      <td>-0.056550</td>\n",
       "      <td>-0.006317</td>\n",
       "      <td>0.064238</td>\n",
       "      <td>-0.048459</td>\n",
       "      <td>0.031309</td>\n",
       "      <td>0.021635</td>\n",
       "      <td>0.034908</td>\n",
       "      <td>...</td>\n",
       "      <td>-0.009089</td>\n",
       "      <td>-0.007501</td>\n",
       "      <td>0.007343</td>\n",
       "      <td>0.034230</td>\n",
       "      <td>-0.006791</td>\n",
       "      <td>-0.003163</td>\n",
       "      <td>0.016506</td>\n",
       "      <td>-0.001519</td>\n",
       "      <td>-0.104799</td>\n",
       "      <td>0.114212</td>\n",
       "    </tr>\n",
       "    <tr>\n",
       "      <th>Fault</th>\n",
       "      <td>0.003619</td>\n",
       "      <td>-0.025456</td>\n",
       "      <td>-0.011941</td>\n",
       "      <td>-0.012439</td>\n",
       "      <td>-0.005060</td>\n",
       "      <td>-0.003225</td>\n",
       "      <td>-0.014332</td>\n",
       "      <td>-0.004318</td>\n",
       "      <td>0.003240</td>\n",
       "      <td>0.040838</td>\n",
       "      <td>...</td>\n",
       "      <td>-0.027246</td>\n",
       "      <td>-0.061036</td>\n",
       "      <td>0.005306</td>\n",
       "      <td>-0.011595</td>\n",
       "      <td>0.007316</td>\n",
       "      <td>0.009841</td>\n",
       "      <td>-0.011158</td>\n",
       "      <td>0.197380</td>\n",
       "      <td>-0.057170</td>\n",
       "      <td>-0.142571</td>\n",
       "    </tr>\n",
       "    <tr>\n",
       "      <th>VehicleCategory_Sport</th>\n",
       "      <td>-0.012695</td>\n",
       "      <td>-0.003411</td>\n",
       "      <td>-0.049847</td>\n",
       "      <td>0.087863</td>\n",
       "      <td>-0.038119</td>\n",
       "      <td>-0.020521</td>\n",
       "      <td>0.044325</td>\n",
       "      <td>-0.002228</td>\n",
       "      <td>-0.044810</td>\n",
       "      <td>-0.052978</td>\n",
       "      <td>...</td>\n",
       "      <td>-0.038732</td>\n",
       "      <td>-0.027693</td>\n",
       "      <td>-0.044206</td>\n",
       "      <td>0.023742</td>\n",
       "      <td>0.001876</td>\n",
       "      <td>-0.004146</td>\n",
       "      <td>0.000584</td>\n",
       "      <td>0.944432</td>\n",
       "      <td>-0.482044</td>\n",
       "      <td>-0.458081</td>\n",
       "    </tr>\n",
       "    <tr>\n",
       "      <th>VehicleCategory_Utility</th>\n",
       "      <td>0.011504</td>\n",
       "      <td>-0.008759</td>\n",
       "      <td>-0.029359</td>\n",
       "      <td>-0.066362</td>\n",
       "      <td>-0.080226</td>\n",
       "      <td>0.060265</td>\n",
       "      <td>-0.028319</td>\n",
       "      <td>0.116977</td>\n",
       "      <td>-0.014593</td>\n",
       "      <td>0.155737</td>\n",
       "      <td>...</td>\n",
       "      <td>-0.007164</td>\n",
       "      <td>0.004373</td>\n",
       "      <td>0.007021</td>\n",
       "      <td>0.003354</td>\n",
       "      <td>0.006275</td>\n",
       "      <td>-0.006745</td>\n",
       "      <td>-0.005028</td>\n",
       "      <td>-0.093382</td>\n",
       "      <td>-0.102649</td>\n",
       "      <td>0.206853</td>\n",
       "    </tr>\n",
       "    <tr>\n",
       "      <th>VehicleCategory_Sedan</th>\n",
       "      <td>0.008761</td>\n",
       "      <td>0.006206</td>\n",
       "      <td>0.058630</td>\n",
       "      <td>-0.064946</td>\n",
       "      <td>0.063618</td>\n",
       "      <td>0.000615</td>\n",
       "      <td>-0.034441</td>\n",
       "      <td>-0.035836</td>\n",
       "      <td>0.048869</td>\n",
       "      <td>0.001537</td>\n",
       "      <td>...</td>\n",
       "      <td>0.040469</td>\n",
       "      <td>0.025848</td>\n",
       "      <td>0.041248</td>\n",
       "      <td>-0.024469</td>\n",
       "      <td>-0.003887</td>\n",
       "      <td>0.006276</td>\n",
       "      <td>0.001060</td>\n",
       "      <td>-0.899640</td>\n",
       "      <td>0.508049</td>\n",
       "      <td>0.383832</td>\n",
       "    </tr>\n",
       "    <tr>\n",
       "      <th>VehiclePrice</th>\n",
       "      <td>-0.036599</td>\n",
       "      <td>-0.004793</td>\n",
       "      <td>-0.028024</td>\n",
       "      <td>0.116680</td>\n",
       "      <td>-0.158961</td>\n",
       "      <td>0.121485</td>\n",
       "      <td>-0.034307</td>\n",
       "      <td>0.115709</td>\n",
       "      <td>-0.175717</td>\n",
       "      <td>0.128124</td>\n",
       "      <td>...</td>\n",
       "      <td>0.009106</td>\n",
       "      <td>0.010224</td>\n",
       "      <td>-0.018714</td>\n",
       "      <td>0.007826</td>\n",
       "      <td>-0.004111</td>\n",
       "      <td>-0.013551</td>\n",
       "      <td>-0.031859</td>\n",
       "      <td>0.006224</td>\n",
       "      <td>-0.023956</td>\n",
       "      <td>0.019315</td>\n",
       "    </tr>\n",
       "    <tr>\n",
       "      <th>RepNumber</th>\n",
       "      <td>0.009520</td>\n",
       "      <td>0.005283</td>\n",
       "      <td>0.002350</td>\n",
       "      <td>0.005572</td>\n",
       "      <td>0.006306</td>\n",
       "      <td>0.001385</td>\n",
       "      <td>-0.008413</td>\n",
       "      <td>-0.004676</td>\n",
       "      <td>-0.006369</td>\n",
       "      <td>0.004411</td>\n",
       "      <td>...</td>\n",
       "      <td>0.006107</td>\n",
       "      <td>0.007521</td>\n",
       "      <td>-0.005630</td>\n",
       "      <td>0.005764</td>\n",
       "      <td>-0.002964</td>\n",
       "      <td>-0.011262</td>\n",
       "      <td>0.009338</td>\n",
       "      <td>0.003231</td>\n",
       "      <td>-0.011935</td>\n",
       "      <td>0.009489</td>\n",
       "    </tr>\n",
       "    <tr>\n",
       "      <th>Deductible</th>\n",
       "      <td>-0.003074</td>\n",
       "      <td>-0.003993</td>\n",
       "      <td>0.000393</td>\n",
       "      <td>-0.018293</td>\n",
       "      <td>0.012321</td>\n",
       "      <td>0.004673</td>\n",
       "      <td>-0.005070</td>\n",
       "      <td>-0.000241</td>\n",
       "      <td>0.004569</td>\n",
       "      <td>-0.004595</td>\n",
       "      <td>...</td>\n",
       "      <td>0.009005</td>\n",
       "      <td>0.000586</td>\n",
       "      <td>0.004244</td>\n",
       "      <td>0.010341</td>\n",
       "      <td>0.061006</td>\n",
       "      <td>-0.000276</td>\n",
       "      <td>-0.001170</td>\n",
       "      <td>0.018619</td>\n",
       "      <td>-0.016765</td>\n",
       "      <td>-0.001226</td>\n",
       "    </tr>\n",
       "    <tr>\n",
       "      <th>DriverRating</th>\n",
       "      <td>0.008318</td>\n",
       "      <td>-0.016817</td>\n",
       "      <td>0.001387</td>\n",
       "      <td>-0.010871</td>\n",
       "      <td>-0.002516</td>\n",
       "      <td>0.018409</td>\n",
       "      <td>-0.005847</td>\n",
       "      <td>0.005576</td>\n",
       "      <td>0.011696</td>\n",
       "      <td>-0.011854</td>\n",
       "      <td>...</td>\n",
       "      <td>0.015947</td>\n",
       "      <td>0.010489</td>\n",
       "      <td>0.000262</td>\n",
       "      <td>0.001989</td>\n",
       "      <td>0.007585</td>\n",
       "      <td>0.010840</td>\n",
       "      <td>-0.013890</td>\n",
       "      <td>-0.000548</td>\n",
       "      <td>-0.007651</td>\n",
       "      <td>0.008790</td>\n",
       "    </tr>\n",
       "    <tr>\n",
       "      <th>Days_Policy_Accident</th>\n",
       "      <td>0.003888</td>\n",
       "      <td>-0.032973</td>\n",
       "      <td>0.000707</td>\n",
       "      <td>-0.016398</td>\n",
       "      <td>0.009426</td>\n",
       "      <td>-0.004023</td>\n",
       "      <td>0.006525</td>\n",
       "      <td>0.006661</td>\n",
       "      <td>0.005114</td>\n",
       "      <td>-0.013999</td>\n",
       "      <td>...</td>\n",
       "      <td>-0.017292</td>\n",
       "      <td>-0.023680</td>\n",
       "      <td>-0.010436</td>\n",
       "      <td>0.074091</td>\n",
       "      <td>0.004967</td>\n",
       "      <td>-0.001763</td>\n",
       "      <td>-0.006536</td>\n",
       "      <td>0.037864</td>\n",
       "      <td>-0.025045</td>\n",
       "      <td>-0.012219</td>\n",
       "    </tr>\n",
       "    <tr>\n",
       "      <th>Days_Policy_Claim</th>\n",
       "      <td>0.004077</td>\n",
       "      <td>-0.017198</td>\n",
       "      <td>0.018507</td>\n",
       "      <td>-0.016439</td>\n",
       "      <td>0.011277</td>\n",
       "      <td>0.007675</td>\n",
       "      <td>0.007660</td>\n",
       "      <td>0.008044</td>\n",
       "      <td>-0.003102</td>\n",
       "      <td>-0.010459</td>\n",
       "      <td>...</td>\n",
       "      <td>-0.009508</td>\n",
       "      <td>-0.003147</td>\n",
       "      <td>-0.008176</td>\n",
       "      <td>0.051378</td>\n",
       "      <td>-0.001585</td>\n",
       "      <td>-0.008215</td>\n",
       "      <td>-0.003559</td>\n",
       "      <td>0.021651</td>\n",
       "      <td>-0.018703</td>\n",
       "      <td>-0.002277</td>\n",
       "    </tr>\n",
       "    <tr>\n",
       "      <th>PastNumberOfClaims</th>\n",
       "      <td>-0.023655</td>\n",
       "      <td>-0.009283</td>\n",
       "      <td>-0.032424</td>\n",
       "      <td>-0.000574</td>\n",
       "      <td>-0.036762</td>\n",
       "      <td>0.004081</td>\n",
       "      <td>0.001717</td>\n",
       "      <td>0.033660</td>\n",
       "      <td>-0.000443</td>\n",
       "      <td>0.004945</td>\n",
       "      <td>...</td>\n",
       "      <td>-0.005798</td>\n",
       "      <td>-0.011111</td>\n",
       "      <td>0.011332</td>\n",
       "      <td>0.102582</td>\n",
       "      <td>-0.015250</td>\n",
       "      <td>-0.005299</td>\n",
       "      <td>0.013785</td>\n",
       "      <td>0.357783</td>\n",
       "      <td>-0.143489</td>\n",
       "      <td>-0.215590</td>\n",
       "    </tr>\n",
       "    <tr>\n",
       "      <th>AgeOfVehicle</th>\n",
       "      <td>0.027530</td>\n",
       "      <td>-0.009798</td>\n",
       "      <td>-0.008550</td>\n",
       "      <td>-0.280443</td>\n",
       "      <td>0.036972</td>\n",
       "      <td>0.068598</td>\n",
       "      <td>0.019212</td>\n",
       "      <td>0.060899</td>\n",
       "      <td>0.080781</td>\n",
       "      <td>0.057802</td>\n",
       "      <td>...</td>\n",
       "      <td>-0.001556</td>\n",
       "      <td>-0.008419</td>\n",
       "      <td>-0.020840</td>\n",
       "      <td>0.151374</td>\n",
       "      <td>-0.003621</td>\n",
       "      <td>0.008260</td>\n",
       "      <td>0.020945</td>\n",
       "      <td>-0.010160</td>\n",
       "      <td>-0.021768</td>\n",
       "      <td>0.033899</td>\n",
       "    </tr>\n",
       "    <tr>\n",
       "      <th>AgeOfPolicyHolder</th>\n",
       "      <td>0.006801</td>\n",
       "      <td>-0.002224</td>\n",
       "      <td>0.002434</td>\n",
       "      <td>-0.159659</td>\n",
       "      <td>0.024686</td>\n",
       "      <td>0.068059</td>\n",
       "      <td>-0.022503</td>\n",
       "      <td>0.043510</td>\n",
       "      <td>0.050527</td>\n",
       "      <td>0.036382</td>\n",
       "      <td>...</td>\n",
       "      <td>-0.005590</td>\n",
       "      <td>-0.001870</td>\n",
       "      <td>0.003847</td>\n",
       "      <td>0.068239</td>\n",
       "      <td>-0.006269</td>\n",
       "      <td>-0.001538</td>\n",
       "      <td>0.025193</td>\n",
       "      <td>-0.018736</td>\n",
       "      <td>-0.076071</td>\n",
       "      <td>0.101130</td>\n",
       "    </tr>\n",
       "    <tr>\n",
       "      <th>PoliceReportFiled</th>\n",
       "      <td>0.047896</td>\n",
       "      <td>0.013026</td>\n",
       "      <td>0.015406</td>\n",
       "      <td>-0.017145</td>\n",
       "      <td>-0.004546</td>\n",
       "      <td>0.017613</td>\n",
       "      <td>0.010605</td>\n",
       "      <td>0.010567</td>\n",
       "      <td>0.000456</td>\n",
       "      <td>0.002061</td>\n",
       "      <td>...</td>\n",
       "      <td>1.000000</td>\n",
       "      <td>0.198096</td>\n",
       "      <td>-0.023268</td>\n",
       "      <td>0.005256</td>\n",
       "      <td>-0.007406</td>\n",
       "      <td>-0.024648</td>\n",
       "      <td>0.021206</td>\n",
       "      <td>-0.041331</td>\n",
       "      <td>0.034467</td>\n",
       "      <td>0.005675</td>\n",
       "    </tr>\n",
       "    <tr>\n",
       "      <th>WitnessPresent</th>\n",
       "      <td>-0.001515</td>\n",
       "      <td>0.013713</td>\n",
       "      <td>0.004251</td>\n",
       "      <td>-0.008541</td>\n",
       "      <td>-0.007777</td>\n",
       "      <td>0.002372</td>\n",
       "      <td>-0.007899</td>\n",
       "      <td>-0.001345</td>\n",
       "      <td>0.022733</td>\n",
       "      <td>0.011746</td>\n",
       "      <td>...</td>\n",
       "      <td>0.198096</td>\n",
       "      <td>1.000000</td>\n",
       "      <td>-0.011450</td>\n",
       "      <td>-0.015419</td>\n",
       "      <td>-0.005944</td>\n",
       "      <td>-0.012535</td>\n",
       "      <td>-0.015503</td>\n",
       "      <td>-0.039307</td>\n",
       "      <td>0.020201</td>\n",
       "      <td>0.018916</td>\n",
       "    </tr>\n",
       "    <tr>\n",
       "      <th>AgentType</th>\n",
       "      <td>-0.023576</td>\n",
       "      <td>-0.006477</td>\n",
       "      <td>-0.003516</td>\n",
       "      <td>0.014614</td>\n",
       "      <td>0.008820</td>\n",
       "      <td>-0.021641</td>\n",
       "      <td>0.006964</td>\n",
       "      <td>-0.023030</td>\n",
       "      <td>0.006009</td>\n",
       "      <td>-0.004926</td>\n",
       "      <td>...</td>\n",
       "      <td>-0.023268</td>\n",
       "      <td>-0.011450</td>\n",
       "      <td>1.000000</td>\n",
       "      <td>-0.033347</td>\n",
       "      <td>0.026692</td>\n",
       "      <td>-0.000356</td>\n",
       "      <td>-0.018993</td>\n",
       "      <td>-0.055502</td>\n",
       "      <td>-0.021279</td>\n",
       "      <td>0.080241</td>\n",
       "    </tr>\n",
       "    <tr>\n",
       "      <th>NumberOfSuppliments</th>\n",
       "      <td>0.024617</td>\n",
       "      <td>0.000177</td>\n",
       "      <td>-0.001544</td>\n",
       "      <td>-0.066027</td>\n",
       "      <td>-0.004340</td>\n",
       "      <td>0.024850</td>\n",
       "      <td>0.008689</td>\n",
       "      <td>0.018211</td>\n",
       "      <td>0.028510</td>\n",
       "      <td>-0.004655</td>\n",
       "      <td>...</td>\n",
       "      <td>0.005256</td>\n",
       "      <td>-0.015419</td>\n",
       "      <td>-0.033347</td>\n",
       "      <td>1.000000</td>\n",
       "      <td>-0.008348</td>\n",
       "      <td>-0.004290</td>\n",
       "      <td>0.014884</td>\n",
       "      <td>0.041335</td>\n",
       "      <td>-0.006172</td>\n",
       "      <td>-0.036091</td>\n",
       "    </tr>\n",
       "    <tr>\n",
       "      <th>AddressChange_Claim</th>\n",
       "      <td>0.001477</td>\n",
       "      <td>0.000147</td>\n",
       "      <td>0.006422</td>\n",
       "      <td>-0.006243</td>\n",
       "      <td>0.003370</td>\n",
       "      <td>-0.008070</td>\n",
       "      <td>0.007222</td>\n",
       "      <td>0.012737</td>\n",
       "      <td>-0.009144</td>\n",
       "      <td>-0.000589</td>\n",
       "      <td>...</td>\n",
       "      <td>-0.007406</td>\n",
       "      <td>-0.005944</td>\n",
       "      <td>0.026692</td>\n",
       "      <td>-0.008348</td>\n",
       "      <td>1.000000</td>\n",
       "      <td>0.392163</td>\n",
       "      <td>-0.000286</td>\n",
       "      <td>0.005068</td>\n",
       "      <td>0.000856</td>\n",
       "      <td>-0.006158</td>\n",
       "    </tr>\n",
       "    <tr>\n",
       "      <th>NumberOfCars</th>\n",
       "      <td>-0.015607</td>\n",
       "      <td>0.002901</td>\n",
       "      <td>-0.010573</td>\n",
       "      <td>-0.001082</td>\n",
       "      <td>0.004898</td>\n",
       "      <td>-0.010908</td>\n",
       "      <td>0.002509</td>\n",
       "      <td>-0.003452</td>\n",
       "      <td>-0.008096</td>\n",
       "      <td>0.004527</td>\n",
       "      <td>...</td>\n",
       "      <td>-0.024648</td>\n",
       "      <td>-0.012535</td>\n",
       "      <td>-0.000356</td>\n",
       "      <td>-0.004290</td>\n",
       "      <td>0.392163</td>\n",
       "      <td>1.000000</td>\n",
       "      <td>-0.003109</td>\n",
       "      <td>0.000251</td>\n",
       "      <td>0.000814</td>\n",
       "      <td>-0.001135</td>\n",
       "    </tr>\n",
       "    <tr>\n",
       "      <th>Year</th>\n",
       "      <td>0.048852</td>\n",
       "      <td>-0.003906</td>\n",
       "      <td>0.007275</td>\n",
       "      <td>-0.008792</td>\n",
       "      <td>0.000350</td>\n",
       "      <td>0.000522</td>\n",
       "      <td>-0.001274</td>\n",
       "      <td>-0.003507</td>\n",
       "      <td>0.014070</td>\n",
       "      <td>-0.011705</td>\n",
       "      <td>...</td>\n",
       "      <td>0.021206</td>\n",
       "      <td>-0.015503</td>\n",
       "      <td>-0.018993</td>\n",
       "      <td>0.014884</td>\n",
       "      <td>-0.000286</td>\n",
       "      <td>-0.003109</td>\n",
       "      <td>1.000000</td>\n",
       "      <td>0.009971</td>\n",
       "      <td>0.004989</td>\n",
       "      <td>-0.015669</td>\n",
       "    </tr>\n",
       "    <tr>\n",
       "      <th>BasePolicy_Liability</th>\n",
       "      <td>-0.011205</td>\n",
       "      <td>-0.004198</td>\n",
       "      <td>-0.055095</td>\n",
       "      <td>0.023751</td>\n",
       "      <td>-0.015102</td>\n",
       "      <td>-0.012486</td>\n",
       "      <td>0.023229</td>\n",
       "      <td>0.019971</td>\n",
       "      <td>-0.019347</td>\n",
       "      <td>-0.043670</td>\n",
       "      <td>...</td>\n",
       "      <td>-0.041331</td>\n",
       "      <td>-0.039307</td>\n",
       "      <td>-0.055502</td>\n",
       "      <td>0.041335</td>\n",
       "      <td>0.005068</td>\n",
       "      <td>0.000251</td>\n",
       "      <td>0.009971</td>\n",
       "      <td>1.000000</td>\n",
       "      <td>-0.550713</td>\n",
       "      <td>-0.441710</td>\n",
       "    </tr>\n",
       "    <tr>\n",
       "      <th>BasePolicy_Collision</th>\n",
       "      <td>0.032236</td>\n",
       "      <td>-0.004401</td>\n",
       "      <td>0.039266</td>\n",
       "      <td>0.035583</td>\n",
       "      <td>-0.019789</td>\n",
       "      <td>-0.027682</td>\n",
       "      <td>0.065110</td>\n",
       "      <td>-0.023050</td>\n",
       "      <td>-0.014644</td>\n",
       "      <td>-0.044448</td>\n",
       "      <td>...</td>\n",
       "      <td>0.034467</td>\n",
       "      <td>0.020201</td>\n",
       "      <td>-0.021279</td>\n",
       "      <td>-0.006172</td>\n",
       "      <td>0.000856</td>\n",
       "      <td>0.000814</td>\n",
       "      <td>0.004989</td>\n",
       "      <td>-0.550713</td>\n",
       "      <td>1.000000</td>\n",
       "      <td>-0.505597</td>\n",
       "    </tr>\n",
       "    <tr>\n",
       "      <th>BasePolicy_All Perils</th>\n",
       "      <td>-0.023067</td>\n",
       "      <td>0.009069</td>\n",
       "      <td>0.014744</td>\n",
       "      <td>-0.062796</td>\n",
       "      <td>0.036880</td>\n",
       "      <td>0.042660</td>\n",
       "      <td>-0.093993</td>\n",
       "      <td>0.004131</td>\n",
       "      <td>0.035737</td>\n",
       "      <td>0.092914</td>\n",
       "      <td>...</td>\n",
       "      <td>0.005675</td>\n",
       "      <td>0.018916</td>\n",
       "      <td>0.080241</td>\n",
       "      <td>-0.036091</td>\n",
       "      <td>-0.006158</td>\n",
       "      <td>-0.001135</td>\n",
       "      <td>-0.015669</td>\n",
       "      <td>-0.441710</td>\n",
       "      <td>-0.505597</td>\n",
       "      <td>1.000000</td>\n",
       "    </tr>\n",
       "  </tbody>\n",
       "</table>\n",
       "<p>55 rows × 55 columns</p>\n",
       "</div>"
      ],
      "text/plain": [
       "                            Month  WeekOfMonth  DayOfWeek  Make_Honda  \\\n",
       "Month                    1.000000     0.031442   0.000968   -0.021027   \n",
       "WeekOfMonth              0.031442     1.000000  -0.013370    0.012041   \n",
       "DayOfWeek                0.000968    -0.013370   1.000000   -0.000321   \n",
       "Make_Honda              -0.021027     0.012041  -0.000321    1.000000   \n",
       "Make_Toyota             -0.003369     0.004741   0.002423   -0.237332   \n",
       "Make_Ford                0.002855    -0.004448   0.000286   -0.081684   \n",
       "Make_Mazda               0.005397    -0.009569  -0.000881   -0.199975   \n",
       "Make_Chevrolet          -0.002603    -0.004139  -0.006622   -0.164797   \n",
       "Make_Pontiac             0.018575    -0.001375   0.014497   -0.271162   \n",
       "Make_Accura              0.004674    -0.001817  -0.013943   -0.083719   \n",
       "Make_Dodge              -0.004390     0.018664  -0.006279   -0.039752   \n",
       "Make_Mercury             0.000380    -0.002377  -0.001814   -0.034659   \n",
       "Make_Jaguar             -0.004119    -0.004422   0.001915   -0.009295   \n",
       "Make_Nisson             -0.003285     0.001534  -0.005380   -0.020801   \n",
       "Make_VW                  0.004612    -0.005693  -0.015286   -0.064420   \n",
       "Make_Saab               -0.005218    -0.003121   0.006975   -0.039568   \n",
       "Make_Saturn             -0.011811    -0.007190   0.001683   -0.028949   \n",
       "Make_Porche              0.006266    -0.008233  -0.016450   -0.008485   \n",
       "Make_BMW                 0.003070     0.005124   0.010386   -0.014701   \n",
       "Make_Mecedes            -0.004136    -0.003610   0.003598   -0.007589   \n",
       "Make_Ferrari             0.005274    -0.011399  -0.013280   -0.005366   \n",
       "Make_Lexus              -0.010184     0.013832  -0.011424   -0.003794   \n",
       "AccidentArea             0.002140     0.009116  -0.025699    0.018914   \n",
       "DayOfWeekClaimed        -0.006647     0.010013  -0.056893   -0.006690   \n",
       "MonthClaimed             0.833524     0.013915  -0.003859   -0.025446   \n",
       "WeekOfMonthClaimed       0.053917     0.275400   0.004716    0.002430   \n",
       "Sex                      0.007397    -0.005314  -0.000990   -0.025704   \n",
       "MaritalStatus_Single    -0.009206     0.017114   0.017814    0.094790   \n",
       "MaritalStatus_Married    0.009206    -0.015966  -0.018147   -0.093388   \n",
       "MaritalStatus_Widow      0.000114     0.006773   0.000499   -0.004799   \n",
       "MaritalStatus_Divorced  -0.000472    -0.011459   0.002622   -0.001934   \n",
       "Age                     -0.023429    -0.011781  -0.004563   -0.056550   \n",
       "Fault                    0.003619    -0.025456  -0.011941   -0.012439   \n",
       "VehicleCategory_Sport   -0.012695    -0.003411  -0.049847    0.087863   \n",
       "VehicleCategory_Utility  0.011504    -0.008759  -0.029359   -0.066362   \n",
       "VehicleCategory_Sedan    0.008761     0.006206   0.058630   -0.064946   \n",
       "VehiclePrice            -0.036599    -0.004793  -0.028024    0.116680   \n",
       "RepNumber                0.009520     0.005283   0.002350    0.005572   \n",
       "Deductible              -0.003074    -0.003993   0.000393   -0.018293   \n",
       "DriverRating             0.008318    -0.016817   0.001387   -0.010871   \n",
       "Days_Policy_Accident     0.003888    -0.032973   0.000707   -0.016398   \n",
       "Days_Policy_Claim        0.004077    -0.017198   0.018507   -0.016439   \n",
       "PastNumberOfClaims      -0.023655    -0.009283  -0.032424   -0.000574   \n",
       "AgeOfVehicle             0.027530    -0.009798  -0.008550   -0.280443   \n",
       "AgeOfPolicyHolder        0.006801    -0.002224   0.002434   -0.159659   \n",
       "PoliceReportFiled        0.047896     0.013026   0.015406   -0.017145   \n",
       "WitnessPresent          -0.001515     0.013713   0.004251   -0.008541   \n",
       "AgentType               -0.023576    -0.006477  -0.003516    0.014614   \n",
       "NumberOfSuppliments      0.024617     0.000177  -0.001544   -0.066027   \n",
       "AddressChange_Claim      0.001477     0.000147   0.006422   -0.006243   \n",
       "NumberOfCars            -0.015607     0.002901  -0.010573   -0.001082   \n",
       "Year                     0.048852    -0.003906   0.007275   -0.008792   \n",
       "BasePolicy_Liability    -0.011205    -0.004198  -0.055095    0.023751   \n",
       "BasePolicy_Collision     0.032236    -0.004401   0.039266    0.035583   \n",
       "BasePolicy_All Perils   -0.023067     0.009069   0.014744   -0.062796   \n",
       "\n",
       "                         Make_Toyota  Make_Ford  Make_Mazda  Make_Chevrolet  \\\n",
       "Month                      -0.003369   0.002855    0.005397       -0.002603   \n",
       "WeekOfMonth                 0.004741  -0.004448   -0.009569       -0.004139   \n",
       "DayOfWeek                   0.002423   0.000286   -0.000881       -0.006622   \n",
       "Make_Honda                 -0.237332  -0.081684   -0.199975       -0.164797   \n",
       "Make_Toyota                 1.000000  -0.087339   -0.213818       -0.176205   \n",
       "Make_Ford                  -0.087339   1.000000   -0.073591       -0.060646   \n",
       "Make_Mazda                 -0.213818  -0.073591    1.000000       -0.148470   \n",
       "Make_Chevrolet             -0.176205  -0.060646   -0.148470        1.000000   \n",
       "Make_Pontiac               -0.289933  -0.099789   -0.244297       -0.201322   \n",
       "Make_Accura                -0.089514  -0.030809   -0.075424       -0.062156   \n",
       "Make_Dodge                 -0.042503  -0.014629   -0.035813       -0.029513   \n",
       "Make_Mercury               -0.037058  -0.012755   -0.031225       -0.025732   \n",
       "Make_Jaguar                -0.009939  -0.003421   -0.008374       -0.006901   \n",
       "Make_Nisson                -0.022241  -0.007655   -0.018740       -0.015444   \n",
       "Make_VW                    -0.068879  -0.023707   -0.058037       -0.047828   \n",
       "Make_Saab                  -0.042307  -0.014561   -0.035647       -0.029377   \n",
       "Make_Saturn                -0.030953  -0.010653   -0.026081       -0.021493   \n",
       "Make_Porche                -0.009072  -0.003123   -0.007644       -0.006300   \n",
       "Make_BMW                   -0.015719  -0.005410   -0.013245       -0.010915   \n",
       "Make_Mecedes               -0.008114  -0.002793   -0.006837       -0.005634   \n",
       "Make_Ferrari               -0.005737  -0.001975   -0.004834       -0.003984   \n",
       "Make_Lexus                 -0.004057  -0.001396   -0.003418       -0.002817   \n",
       "AccidentArea                0.003407  -0.016896    0.017126       -0.016928   \n",
       "DayOfWeekClaimed            0.000462   0.017840    0.002158       -0.004756   \n",
       "MonthClaimed                0.003542   0.002124    0.007731       -0.000558   \n",
       "WeekOfMonthClaimed         -0.009855  -0.008962   -0.003094        0.005526   \n",
       "Sex                         0.017835  -0.035614    0.036963        0.009259   \n",
       "MaritalStatus_Single       -0.014755  -0.049172    0.019583       -0.022905   \n",
       "MaritalStatus_Married       0.014124   0.048220   -0.018698        0.023701   \n",
       "MaritalStatus_Widow         0.009890   0.024116   -0.008878       -0.007938   \n",
       "MaritalStatus_Divorced     -0.003186  -0.012202    0.001025       -0.000847   \n",
       "Age                        -0.006317   0.064238   -0.048459        0.031309   \n",
       "Fault                      -0.005060  -0.003225   -0.014332       -0.004318   \n",
       "VehicleCategory_Sport      -0.038119  -0.020521    0.044325       -0.002228   \n",
       "VehicleCategory_Utility    -0.080226   0.060265   -0.028319        0.116977   \n",
       "VehicleCategory_Sedan       0.063618   0.000615   -0.034441       -0.035836   \n",
       "VehiclePrice               -0.158961   0.121485   -0.034307        0.115709   \n",
       "RepNumber                   0.006306   0.001385   -0.008413       -0.004676   \n",
       "Deductible                  0.012321   0.004673   -0.005070       -0.000241   \n",
       "DriverRating               -0.002516   0.018409   -0.005847        0.005576   \n",
       "Days_Policy_Accident        0.009426  -0.004023    0.006525        0.006661   \n",
       "Days_Policy_Claim           0.011277   0.007675    0.007660        0.008044   \n",
       "PastNumberOfClaims         -0.036762   0.004081    0.001717        0.033660   \n",
       "AgeOfVehicle                0.036972   0.068598    0.019212        0.060899   \n",
       "AgeOfPolicyHolder           0.024686   0.068059   -0.022503        0.043510   \n",
       "PoliceReportFiled          -0.004546   0.017613    0.010605        0.010567   \n",
       "WitnessPresent             -0.007777   0.002372   -0.007899       -0.001345   \n",
       "AgentType                   0.008820  -0.021641    0.006964       -0.023030   \n",
       "NumberOfSuppliments        -0.004340   0.024850    0.008689        0.018211   \n",
       "AddressChange_Claim         0.003370  -0.008070    0.007222        0.012737   \n",
       "NumberOfCars                0.004898  -0.010908    0.002509       -0.003452   \n",
       "Year                        0.000350   0.000522   -0.001274       -0.003507   \n",
       "BasePolicy_Liability       -0.015102  -0.012486    0.023229        0.019971   \n",
       "BasePolicy_Collision       -0.019789  -0.027682    0.065110       -0.023050   \n",
       "BasePolicy_All Perils       0.036880   0.042660   -0.093993        0.004131   \n",
       "\n",
       "                         Make_Pontiac  Make_Accura  ...  PoliceReportFiled  \\\n",
       "Month                        0.018575     0.004674  ...           0.047896   \n",
       "WeekOfMonth                 -0.001375    -0.001817  ...           0.013026   \n",
       "DayOfWeek                    0.014497    -0.013943  ...           0.015406   \n",
       "Make_Honda                  -0.271162    -0.083719  ...          -0.017145   \n",
       "Make_Toyota                 -0.289933    -0.089514  ...          -0.004546   \n",
       "Make_Ford                   -0.099789    -0.030809  ...           0.017613   \n",
       "Make_Mazda                  -0.244297    -0.075424  ...           0.010605   \n",
       "Make_Chevrolet              -0.201322    -0.062156  ...           0.010567   \n",
       "Make_Pontiac                 1.000000    -0.102274  ...           0.000456   \n",
       "Make_Accura                 -0.102274     1.000000  ...           0.002061   \n",
       "Make_Dodge                  -0.048562    -0.014993  ...           0.004592   \n",
       "Make_Mercury                -0.042340    -0.013072  ...          -0.007034   \n",
       "Make_Jaguar                 -0.011355    -0.003506  ...          -0.003334   \n",
       "Make_Nisson                 -0.025411    -0.007846  ...          -0.007460   \n",
       "Make_VW                     -0.078697    -0.024297  ...           0.003368   \n",
       "Make_Saab                   -0.048337    -0.014924  ...          -0.014190   \n",
       "Make_Saturn                 -0.035365    -0.010919  ...          -0.010382   \n",
       "Make_Porche                 -0.010366    -0.003200  ...          -0.003043   \n",
       "Make_BMW                    -0.017960    -0.005545  ...          -0.005272   \n",
       "Make_Mecedes                -0.009271    -0.002862  ...          -0.002722   \n",
       "Make_Ferrari                -0.006555    -0.002024  ...          -0.001924   \n",
       "Make_Lexus                  -0.004635    -0.001431  ...          -0.001361   \n",
       "AccidentArea                -0.009039    -0.003812  ...           0.001754   \n",
       "DayOfWeekClaimed            -0.009994     0.014267  ...          -0.010992   \n",
       "MonthClaimed                 0.009767     0.004594  ...           0.056724   \n",
       "WeekOfMonthClaimed           0.008607     0.001928  ...           0.023510   \n",
       "Sex                          0.011474    -0.044583  ...           0.007413   \n",
       "MaritalStatus_Single        -0.020723    -0.046151  ...           0.012010   \n",
       "MaritalStatus_Married        0.020141     0.047801  ...          -0.011863   \n",
       "MaritalStatus_Widow         -0.002235    -0.008475  ...           0.000237   \n",
       "MaritalStatus_Divorced       0.004474    -0.007130  ...          -0.000617   \n",
       "Age                          0.021635     0.034908  ...          -0.009089   \n",
       "Fault                        0.003240     0.040838  ...          -0.027246   \n",
       "VehicleCategory_Sport       -0.044810    -0.052978  ...          -0.038732   \n",
       "VehicleCategory_Utility     -0.014593     0.155737  ...          -0.007164   \n",
       "VehicleCategory_Sedan        0.048869     0.001537  ...           0.040469   \n",
       "VehiclePrice                -0.175717     0.128124  ...           0.009106   \n",
       "RepNumber                   -0.006369     0.004411  ...           0.006107   \n",
       "Deductible                   0.004569    -0.004595  ...           0.009005   \n",
       "DriverRating                 0.011696    -0.011854  ...           0.015947   \n",
       "Days_Policy_Accident         0.005114    -0.013999  ...          -0.017292   \n",
       "Days_Policy_Claim           -0.003102    -0.010459  ...          -0.009508   \n",
       "PastNumberOfClaims          -0.000443     0.004945  ...          -0.005798   \n",
       "AgeOfVehicle                 0.080781     0.057802  ...          -0.001556   \n",
       "AgeOfPolicyHolder            0.050527     0.036382  ...          -0.005590   \n",
       "PoliceReportFiled            0.000456     0.002061  ...           1.000000   \n",
       "WitnessPresent               0.022733     0.011746  ...           0.198096   \n",
       "AgentType                    0.006009    -0.004926  ...          -0.023268   \n",
       "NumberOfSuppliments          0.028510    -0.004655  ...           0.005256   \n",
       "AddressChange_Claim         -0.009144    -0.000589  ...          -0.007406   \n",
       "NumberOfCars                -0.008096     0.004527  ...          -0.024648   \n",
       "Year                         0.014070    -0.011705  ...           0.021206   \n",
       "BasePolicy_Liability        -0.019347    -0.043670  ...          -0.041331   \n",
       "BasePolicy_Collision        -0.014644    -0.044448  ...           0.034467   \n",
       "BasePolicy_All Perils        0.035737     0.092914  ...           0.005675   \n",
       "\n",
       "                         WitnessPresent  AgentType  NumberOfSuppliments  \\\n",
       "Month                         -0.001515  -0.023576             0.024617   \n",
       "WeekOfMonth                    0.013713  -0.006477             0.000177   \n",
       "DayOfWeek                      0.004251  -0.003516            -0.001544   \n",
       "Make_Honda                    -0.008541   0.014614            -0.066027   \n",
       "Make_Toyota                   -0.007777   0.008820            -0.004340   \n",
       "Make_Ford                      0.002372  -0.021641             0.024850   \n",
       "Make_Mazda                    -0.007899   0.006964             0.008689   \n",
       "Make_Chevrolet                -0.001345  -0.023030             0.018211   \n",
       "Make_Pontiac                   0.022733   0.006009             0.028510   \n",
       "Make_Accura                    0.011746  -0.004926            -0.004655   \n",
       "Make_Dodge                    -0.006356  -0.008091             0.002071   \n",
       "Make_Mercury                  -0.005541   0.009269             0.001484   \n",
       "Make_Jaguar                   -0.001486   0.002486            -0.003123   \n",
       "Make_Nisson                   -0.003326   0.005563             0.005496   \n",
       "Make_VW                       -0.010300  -0.021724             0.018432   \n",
       "Make_Saab                      0.004056   0.010582             0.003355   \n",
       "Make_Saturn                   -0.004628  -0.009340            -0.003591   \n",
       "Make_Porche                   -0.001357   0.002269            -0.009155   \n",
       "Make_BMW                      -0.002351  -0.012840             0.003464   \n",
       "Make_Mecedes                  -0.001213   0.002030            -0.013393   \n",
       "Make_Ferrari                  -0.000858   0.001435            -0.000269   \n",
       "Make_Lexus                    -0.000607   0.001015            -0.003443   \n",
       "AccidentArea                  -0.028362   0.005189            -0.018695   \n",
       "DayOfWeekClaimed              -0.002415  -0.005900             0.003279   \n",
       "MonthClaimed                   0.001021  -0.032042             0.034534   \n",
       "WeekOfMonthClaimed             0.009369   0.011314             0.011589   \n",
       "Sex                            0.005585   0.012681            -0.010698   \n",
       "MaritalStatus_Single           0.010492  -0.003176            -0.026884   \n",
       "MaritalStatus_Married         -0.011123   0.003455             0.029001   \n",
       "MaritalStatus_Widow            0.014601  -0.015964            -0.005530   \n",
       "MaritalStatus_Divorced        -0.005301   0.008868            -0.011388   \n",
       "Age                           -0.007501   0.007343             0.034230   \n",
       "Fault                         -0.061036   0.005306            -0.011595   \n",
       "VehicleCategory_Sport         -0.027693  -0.044206             0.023742   \n",
       "VehicleCategory_Utility        0.004373   0.007021             0.003354   \n",
       "VehicleCategory_Sedan          0.025848   0.041248            -0.024469   \n",
       "VehiclePrice                   0.010224  -0.018714             0.007826   \n",
       "RepNumber                      0.007521  -0.005630             0.005764   \n",
       "Deductible                     0.000586   0.004244             0.010341   \n",
       "DriverRating                   0.010489   0.000262             0.001989   \n",
       "Days_Policy_Accident          -0.023680  -0.010436             0.074091   \n",
       "Days_Policy_Claim             -0.003147  -0.008176             0.051378   \n",
       "PastNumberOfClaims            -0.011111   0.011332             0.102582   \n",
       "AgeOfVehicle                  -0.008419  -0.020840             0.151374   \n",
       "AgeOfPolicyHolder             -0.001870   0.003847             0.068239   \n",
       "PoliceReportFiled              0.198096  -0.023268             0.005256   \n",
       "WitnessPresent                 1.000000  -0.011450            -0.015419   \n",
       "AgentType                     -0.011450   1.000000            -0.033347   \n",
       "NumberOfSuppliments           -0.015419  -0.033347             1.000000   \n",
       "AddressChange_Claim           -0.005944   0.026692            -0.008348   \n",
       "NumberOfCars                  -0.012535  -0.000356            -0.004290   \n",
       "Year                          -0.015503  -0.018993             0.014884   \n",
       "BasePolicy_Liability          -0.039307  -0.055502             0.041335   \n",
       "BasePolicy_Collision           0.020201  -0.021279            -0.006172   \n",
       "BasePolicy_All Perils          0.018916   0.080241            -0.036091   \n",
       "\n",
       "                         AddressChange_Claim  NumberOfCars      Year  \\\n",
       "Month                               0.001477     -0.015607  0.048852   \n",
       "WeekOfMonth                         0.000147      0.002901 -0.003906   \n",
       "DayOfWeek                           0.006422     -0.010573  0.007275   \n",
       "Make_Honda                         -0.006243     -0.001082 -0.008792   \n",
       "Make_Toyota                         0.003370      0.004898  0.000350   \n",
       "Make_Ford                          -0.008070     -0.010908  0.000522   \n",
       "Make_Mazda                          0.007222      0.002509 -0.001274   \n",
       "Make_Chevrolet                      0.012737     -0.003452 -0.003507   \n",
       "Make_Pontiac                       -0.009144     -0.008096  0.014070   \n",
       "Make_Accura                        -0.000589      0.004527 -0.011705   \n",
       "Make_Dodge                          0.003389      0.018415  0.006316   \n",
       "Make_Mercury                       -0.007733     -0.009234 -0.002115   \n",
       "Make_Jaguar                         0.011178      0.019147 -0.009001   \n",
       "Make_Nisson                        -0.000738     -0.007452  0.005507   \n",
       "Make_VW                             0.002166     -0.001995  0.006489   \n",
       "Make_Saab                           0.004546      0.025127 -0.012177   \n",
       "Make_Saturn                        -0.007866      0.004039  0.000982   \n",
       "Make_Porche                        -0.004454     -0.004283 -0.001490   \n",
       "Make_BMW                           -0.004330      0.011969  0.010366   \n",
       "Make_Mecedes                        0.004210     -0.003831 -0.007349   \n",
       "Make_Ferrari                       -0.002816     -0.002709  0.008982   \n",
       "Make_Lexus                         -0.001991     -0.001915  0.001339   \n",
       "AccidentArea                       -0.017305     -0.005518  0.002284   \n",
       "DayOfWeekClaimed                   -0.001619      0.006807  0.003126   \n",
       "MonthClaimed                        0.001160     -0.009481  0.053457   \n",
       "WeekOfMonthClaimed                  0.009449      0.005903  0.012175   \n",
       "Sex                                 0.001692      0.001159 -0.000413   \n",
       "MaritalStatus_Single                0.002666     -0.004618 -0.015370   \n",
       "MaritalStatus_Married              -0.000171      0.002773  0.013732   \n",
       "MaritalStatus_Widow                -0.011795     -0.011344  0.007928   \n",
       "MaritalStatus_Divorced             -0.008360      0.019707  0.004782   \n",
       "Age                                -0.006791     -0.003163  0.016506   \n",
       "Fault                               0.007316      0.009841 -0.011158   \n",
       "VehicleCategory_Sport               0.001876     -0.004146  0.000584   \n",
       "VehicleCategory_Utility             0.006275     -0.006745 -0.005028   \n",
       "VehicleCategory_Sedan              -0.003887      0.006276  0.001060   \n",
       "VehiclePrice                       -0.004111     -0.013551 -0.031859   \n",
       "RepNumber                          -0.002964     -0.011262  0.009338   \n",
       "Deductible                          0.061006     -0.000276 -0.001170   \n",
       "DriverRating                        0.007585      0.010840 -0.013890   \n",
       "Days_Policy_Accident                0.004967     -0.001763 -0.006536   \n",
       "Days_Policy_Claim                  -0.001585     -0.008215 -0.003559   \n",
       "PastNumberOfClaims                 -0.015250     -0.005299  0.013785   \n",
       "AgeOfVehicle                       -0.003621      0.008260  0.020945   \n",
       "AgeOfPolicyHolder                  -0.006269     -0.001538  0.025193   \n",
       "PoliceReportFiled                  -0.007406     -0.024648  0.021206   \n",
       "WitnessPresent                     -0.005944     -0.012535 -0.015503   \n",
       "AgentType                           0.026692     -0.000356 -0.018993   \n",
       "NumberOfSuppliments                -0.008348     -0.004290  0.014884   \n",
       "AddressChange_Claim                 1.000000      0.392163 -0.000286   \n",
       "NumberOfCars                        0.392163      1.000000 -0.003109   \n",
       "Year                               -0.000286     -0.003109  1.000000   \n",
       "BasePolicy_Liability                0.005068      0.000251  0.009971   \n",
       "BasePolicy_Collision                0.000856      0.000814  0.004989   \n",
       "BasePolicy_All Perils              -0.006158     -0.001135 -0.015669   \n",
       "\n",
       "                         BasePolicy_Liability  BasePolicy_Collision  \\\n",
       "Month                               -0.011205              0.032236   \n",
       "WeekOfMonth                         -0.004198             -0.004401   \n",
       "DayOfWeek                           -0.055095              0.039266   \n",
       "Make_Honda                           0.023751              0.035583   \n",
       "Make_Toyota                         -0.015102             -0.019789   \n",
       "Make_Ford                           -0.012486             -0.027682   \n",
       "Make_Mazda                           0.023229              0.065110   \n",
       "Make_Chevrolet                       0.019971             -0.023050   \n",
       "Make_Pontiac                        -0.019347             -0.014644   \n",
       "Make_Accura                         -0.043670             -0.044448   \n",
       "Make_Dodge                           0.010897              0.014077   \n",
       "Make_Mercury                        -0.018853             -0.007446   \n",
       "Make_Jaguar                          0.007379             -0.008912   \n",
       "Make_Nisson                         -0.011769             -0.007855   \n",
       "Make_VW                              0.026897             -0.028196   \n",
       "Make_Saab                           -0.013421              0.008372   \n",
       "Make_Saturn                         -0.019999             -0.007451   \n",
       "Make_Porche                          0.002891              0.000494   \n",
       "Make_BMW                             0.005008             -0.007688   \n",
       "Make_Mecedes                        -0.011173              0.003750   \n",
       "Make_Ferrari                        -0.007900              0.014345   \n",
       "Make_Lexus                          -0.005586              0.010143   \n",
       "AccidentArea                         0.056380             -0.038078   \n",
       "DayOfWeekClaimed                    -0.011861             -0.006669   \n",
       "MonthClaimed                        -0.006066              0.040181   \n",
       "WeekOfMonthClaimed                   0.018027             -0.012527   \n",
       "Sex                                  0.061632             -0.006469   \n",
       "MaritalStatus_Single                 0.031454              0.016498   \n",
       "MaritalStatus_Married               -0.028541             -0.019580   \n",
       "MaritalStatus_Widow                 -0.006895              0.015300   \n",
       "MaritalStatus_Divorced              -0.013224              0.010678   \n",
       "Age                                 -0.001519             -0.104799   \n",
       "Fault                                0.197380             -0.057170   \n",
       "VehicleCategory_Sport                0.944432             -0.482044   \n",
       "VehicleCategory_Utility             -0.093382             -0.102649   \n",
       "VehicleCategory_Sedan               -0.899640              0.508049   \n",
       "VehiclePrice                         0.006224             -0.023956   \n",
       "RepNumber                            0.003231             -0.011935   \n",
       "Deductible                           0.018619             -0.016765   \n",
       "DriverRating                        -0.000548             -0.007651   \n",
       "Days_Policy_Accident                 0.037864             -0.025045   \n",
       "Days_Policy_Claim                    0.021651             -0.018703   \n",
       "PastNumberOfClaims                   0.357783             -0.143489   \n",
       "AgeOfVehicle                        -0.010160             -0.021768   \n",
       "AgeOfPolicyHolder                   -0.018736             -0.076071   \n",
       "PoliceReportFiled                   -0.041331              0.034467   \n",
       "WitnessPresent                      -0.039307              0.020201   \n",
       "AgentType                           -0.055502             -0.021279   \n",
       "NumberOfSuppliments                  0.041335             -0.006172   \n",
       "AddressChange_Claim                  0.005068              0.000856   \n",
       "NumberOfCars                         0.000251              0.000814   \n",
       "Year                                 0.009971              0.004989   \n",
       "BasePolicy_Liability                 1.000000             -0.550713   \n",
       "BasePolicy_Collision                -0.550713              1.000000   \n",
       "BasePolicy_All Perils               -0.441710             -0.505597   \n",
       "\n",
       "                         BasePolicy_All Perils  \n",
       "Month                                -0.023067  \n",
       "WeekOfMonth                           0.009069  \n",
       "DayOfWeek                             0.014744  \n",
       "Make_Honda                           -0.062796  \n",
       "Make_Toyota                           0.036880  \n",
       "Make_Ford                             0.042660  \n",
       "Make_Mazda                           -0.093993  \n",
       "Make_Chevrolet                        0.004131  \n",
       "Make_Pontiac                          0.035737  \n",
       "Make_Accura                           0.092914  \n",
       "Make_Dodge                           -0.026394  \n",
       "Make_Mercury                          0.027490  \n",
       "Make_Jaguar                           0.001951  \n",
       "Make_Nisson                           0.020608  \n",
       "Make_VW                               0.002504  \n",
       "Make_Saab                             0.004874  \n",
       "Make_Saturn                           0.028680  \n",
       "Make_Porche                          -0.003519  \n",
       "Make_BMW                              0.003086  \n",
       "Make_Mecedes                          0.007519  \n",
       "Make_Ferrari                         -0.007253  \n",
       "Make_Lexus                           -0.005128  \n",
       "AccidentArea                         -0.017349  \n",
       "DayOfWeekClaimed                      0.019428  \n",
       "MonthClaimed                         -0.036919  \n",
       "WeekOfMonthClaimed                   -0.005169  \n",
       "Sex                                  -0.056752  \n",
       "MaritalStatus_Single                 -0.050245  \n",
       "MaritalStatus_Married                 0.050546  \n",
       "MaritalStatus_Widow                  -0.009319  \n",
       "MaritalStatus_Divorced                0.002192  \n",
       "Age                                   0.114212  \n",
       "Fault                                -0.142571  \n",
       "VehicleCategory_Sport                -0.458081  \n",
       "VehicleCategory_Utility               0.206853  \n",
       "VehicleCategory_Sedan                 0.383832  \n",
       "VehiclePrice                          0.019315  \n",
       "RepNumber                             0.009489  \n",
       "Deductible                           -0.001226  \n",
       "DriverRating                          0.008790  \n",
       "Days_Policy_Accident                 -0.012219  \n",
       "Days_Policy_Claim                    -0.002277  \n",
       "PastNumberOfClaims                   -0.215590  \n",
       "AgeOfVehicle                          0.033899  \n",
       "AgeOfPolicyHolder                     0.101130  \n",
       "PoliceReportFiled                     0.005675  \n",
       "WitnessPresent                        0.018916  \n",
       "AgentType                             0.080241  \n",
       "NumberOfSuppliments                  -0.036091  \n",
       "AddressChange_Claim                  -0.006158  \n",
       "NumberOfCars                         -0.001135  \n",
       "Year                                 -0.015669  \n",
       "BasePolicy_Liability                 -0.441710  \n",
       "BasePolicy_Collision                 -0.505597  \n",
       "BasePolicy_All Perils                 1.000000  \n",
       "\n",
       "[55 rows x 55 columns]"
      ]
     },
     "execution_count": 14,
     "metadata": {},
     "output_type": "execute_result"
    }
   ],
   "source": [
    "X4.corr()"
   ]
  },
  {
   "cell_type": "markdown",
   "metadata": {},
   "source": [
    "Drop Make_% for avoiding sparse Matrix\n",
    "Drop AgePolicyHolder beacuse 0.96 corr with Age "
   ]
  },
  {
   "cell_type": "code",
   "execution_count": 15,
   "metadata": {},
   "outputs": [],
   "source": [
    "drop = ['Make_Honda', 'Make_Toyota','Make_Toyota', 'Make_Ford','Make_Mazda','Make_Chevrolet','Make_Pontiac',\n",
    "        'Make_Accura', 'Make_Accura','Make_Dodge', 'Make_Mercury', 'Make_Jaguar','Make_Nisson','Make_VW','Make_Saab',\n",
    "        'Make_Saturn','Make_Porche','Make_BMW','Make_BMW','Make_Mecedes','Make_Ferrari','Make_Lexus',\n",
    "        'AgeOfPolicyHolder']\n",
    "X5 = X4.copy()                 \n",
    "Irrelevant_col(X5, drop)"
   ]
  },
  {
   "cell_type": "markdown",
   "metadata": {},
   "source": [
    "### 2.d splitting our data to train, validation and test sets\n"
   ]
  },
  {
   "cell_type": "code",
   "execution_count": 16,
   "metadata": {
    "execution": {
     "iopub.execute_input": "2022-04-12T13:02:02.353315Z",
     "iopub.status.busy": "2022-04-12T13:02:02.353055Z",
     "iopub.status.idle": "2022-04-12T13:02:02.381292Z",
     "shell.execute_reply": "2022-04-12T13:02:02.380431Z",
     "shell.execute_reply.started": "2022-04-12T13:02:02.353283Z"
    }
   },
   "outputs": [],
   "source": [
    "# splitting function\n",
    "def train_val_test_split(X, y, train_ratio, validation_ratio, test_ratio):\n",
    "    X_train, X_test, y_train, y_test = train_test_split(X, y, test_size=test_ratio, random_state = 3)\n",
    "    X_train, X_valid, y_train, y_valid = train_test_split(X_train, y_train,\n",
    "                                                          test_size= validation_ratio/(train_ratio+validation_ratio), random_state =2022)\n",
    "    return X_train, y_train, X_valid, y_valid,  X_test, y_test"
   ]
  },
  {
   "cell_type": "code",
   "execution_count": 17,
   "metadata": {},
   "outputs": [
    {
     "name": "stdout",
     "output_type": "stream",
     "text": [
      "(10793, 55)\n",
      "(1542, 55)\n",
      "(3085, 55)\n",
      "(10793,)\n",
      "(1542,)\n",
      "(3085,)\n",
      "0.20006485084306097\n"
     ]
    }
   ],
   "source": [
    "# with out drop AgeOfPolictyHolder and Make_%\n",
    "X_train, y_train, X_valid, y_valid,  X_test, y_test = train_val_test_split(X= X4, y = y, train_ratio= 0.7, validation_ratio= 0.2, test_ratio = 0.1)\n",
    "\n",
    "print(X_train.shape)\n",
    "print(X_test.shape)\n",
    "print(X_valid.shape)\n",
    "print(y_train.shape)\n",
    "print(y_test.shape)\n",
    "print(y_valid.shape)\n",
    "print(len(y_valid)/len(y))"
   ]
  },
  {
   "cell_type": "code",
   "execution_count": 18,
   "metadata": {},
   "outputs": [
    {
     "name": "stdout",
     "output_type": "stream",
     "text": [
      "(10793, 35)\n",
      "(1542, 35)\n",
      "(3085, 35)\n",
      "(10793,)\n",
      "(1542,)\n",
      "(3085,)\n",
      "0.20006485084306097\n"
     ]
    }
   ],
   "source": [
    "#final splitting including all preproccesing\n",
    "X_train1, y_train1, X_valid1, y_valid1,  X_test1, y_test1 = train_val_test_split(X= X5, y = y, train_ratio= 0.7, validation_ratio= 0.2, test_ratio = 0.1)\n",
    "\n",
    "print(X_train1.shape)\n",
    "print(X_test1.shape)\n",
    "print(X_valid1.shape)\n",
    "print(y_train1.shape)\n",
    "print(y_test1.shape)\n",
    "print(y_valid1.shape)\n",
    "print(len(y_valid1)/len(y))"
   ]
  },
  {
   "cell_type": "markdown",
   "metadata": {},
   "source": [
    "# **Part 3 - Techniques for imbalance dataset**"
   ]
  },
  {
   "cell_type": "markdown",
   "metadata": {},
   "source": [
    "### 3.a oversampling"
   ]
  },
  {
   "cell_type": "code",
   "execution_count": 19,
   "metadata": {},
   "outputs": [
    {
     "name": "stdout",
     "output_type": "stream",
     "text": [
      "Original traim shape Counter({0: 10131, 1: 662})\n",
      "Resampled train shape Counter({0: 10131, 1: 10131})\n"
     ]
    }
   ],
   "source": [
    "print('Original traim shape %s' % Counter(y_train1))\n",
    "sm = SMOTE(random_state=2022)\n",
    "X_res1, y_res1 = sm.fit_resample(X_train1, y_train1)\n",
    "print('Resampled train shape %s' % Counter(y_res1))"
   ]
  },
  {
   "cell_type": "markdown",
   "metadata": {},
   "source": [
    "### 3.b undersampling"
   ]
  },
  {
   "cell_type": "code",
   "execution_count": 20,
   "metadata": {},
   "outputs": [
    {
     "name": "stdout",
     "output_type": "stream",
     "text": [
      "Resampled train shape Counter({0: 662, 1: 662})\n"
     ]
    }
   ],
   "source": [
    "undersample = NearMiss(version=1, n_neighbors=3)\n",
    "# transform the dataset\n",
    "X_under1, y_under1 = undersample.fit_resample(X_train1, y_train1)\n",
    "# summarize the new class distribution\n",
    "print('Resampled train shape %s' % Counter(y_under1))"
   ]
  },
  {
   "cell_type": "markdown",
   "metadata": {},
   "source": [
    "### 3.c Feature selection decompositon"
   ]
  },
  {
   "cell_type": "code",
   "execution_count": 21,
   "metadata": {},
   "outputs": [],
   "source": [
    "# input: train sample, m - number of fetures to select, K vec of clusters for each class, La - label for train\n",
    "# K = (num_clusters_maority, num_clusters minority)\n",
    "#  first phase: local clustering\n",
    "    # for each class\n",
    "        # kmeans_cluster(tr(class), K[class])\n",
    "        # relab;e(label(class), label(new_subclass))\n",
    "# # 2nd_phase: feature sellect\n",
    "#     # select M best of mutual information method\n",
    "# #    return train_M_best\n",
    "# X_majority = X_train[y_train == 0]\n",
    "# X_minority = X_train[y_train == 1]\n",
    "# from sklearn.cluster import KMeans\n",
    "# k_cluster = KMeans(n_clusters=12, random_state=2022)\n",
    "# k_cluster = k_cluster.fit(X_majority)\n",
    "# labels= k_cluster.labels_ + 2\n",
    "# labels = np.append(labels, np.repeat(1, sum(y_train == 1)))\n",
    "# X_new = X_majority.copy()\n",
    "# X_new = X_new.append(X_minority)\n",
    "# X_comp_filter = SelectKBest(mutual_info_classif, k=11).fit(X_new, labels)\n",
    "# # names chosen by compision based Feature Selection \n",
    "# comp_names = X_comp_filter.feature_names_in_[X_comp_filter.get_support(indices=True)] "
   ]
  },
  {
   "cell_type": "code",
   "execution_count": 32,
   "metadata": {},
   "outputs": [],
   "source": [
    "# input: train sample, m - number of fetures to select, K vec of clusters for each class, La - label for train\n",
    "# K = (num_clusters_maority, num_clusters minority)\n",
    "#  first phase: local clustering\n",
    "    # for each class\n",
    "        # kmeans_cluster(tr(class), K[class])\n",
    "        # relab;e(label(class), label(new_subclass))\n",
    "# 2nd_phase: feature sellect\n",
    "    # select M best of mutual information method\n",
    "#    return train_M_best\n",
    "from sklearn.cluster import KMeans\n",
    "\n",
    "def decomp_fs_names(X, y, k, m):\n",
    "    X_majority1 = X[y == 0]\n",
    "    X_minority1 = X[y == 1]\n",
    "    k_cluster = KMeans(n_clusters= k, random_state=2022)\n",
    "    k_cluster = k_cluster.fit(X_majority1)\n",
    "    labels= k_cluster.labels_ + 2\n",
    "    labels = np.append(labels, np.repeat(1, sum(y == 1)))\n",
    "    X_new1= X_majority1.copy()\n",
    "    X_new1= pd.concat([X_new1 , X_minority1 ])\n",
    "    X_comp_filter1 = SelectKBest(mutual_info_classif, k=m).fit(X_new1, labels)\n",
    "    # names chosen by compision based Feature Selection \n",
    "    comp_names = X_comp_filter1.feature_names_in_[X_comp_filter1.get_support(indices=True)] \n",
    "    return comp_names\n",
    "\n"
   ]
  },
  {
   "cell_type": "markdown",
   "metadata": {},
   "source": [
    "# **Part 4 - Build classifiers**"
   ]
  },
  {
   "cell_type": "markdown",
   "metadata": {},
   "source": [
    "RF - baseline"
   ]
  },
  {
   "cell_type": "code",
   "execution_count": 33,
   "metadata": {},
   "outputs": [],
   "source": [
    "# Random forest\n",
    "rf = RandomForestClassifier(n_estimators = 100, max_features ='sqrt', random_state = 3, max_depth =5)\n",
    "rf.fit(X_train1, y_train1)\n",
    "rf_pred = rf.predict(X_valid1)\n"
   ]
  },
  {
   "cell_type": "markdown",
   "metadata": {},
   "source": [
    "RF - SMOTH"
   ]
  },
  {
   "cell_type": "code",
   "execution_count": 34,
   "metadata": {},
   "outputs": [],
   "source": [
    "rf_smoth1 = RandomForestClassifier(n_estimators = 100, max_features ='sqrt', random_state = 2022, max_depth =5)\n",
    "rf_smoth1.fit(X_res1, y_res1)\n",
    "rf_smoth1_pred = rf_smoth1.predict(X_valid1)"
   ]
  },
  {
   "cell_type": "markdown",
   "metadata": {},
   "source": [
    "RF-NearMiss"
   ]
  },
  {
   "cell_type": "code",
   "execution_count": 35,
   "metadata": {},
   "outputs": [],
   "source": [
    "rf_nearmiss1 = RandomForestClassifier(n_estimators = 100, max_features ='sqrt', random_state = 2022, max_depth =5)\n",
    "rf_nearmiss1.fit(X_under1, y_under1)\n",
    "rf_nearmiss1_pred = rf_nearmiss1.predict(X_valid1)"
   ]
  },
  {
   "cell_type": "markdown",
   "metadata": {},
   "source": [
    "RF- CS"
   ]
  },
  {
   "cell_type": "code",
   "execution_count": 36,
   "metadata": {},
   "outputs": [],
   "source": [
    "rf_cs1 = RandomForestClassifier(n_estimators = 100, max_features ='sqrt', random_state = 2022, max_depth =5, \n",
    "                                       class_weight={0: 1 ,1:16})\n",
    "rf_cs1.fit(X_train1, y_train1)\n",
    "rf_cs1_pred = rf_cs1.predict(X_valid1)"
   ]
  },
  {
   "cell_type": "markdown",
   "metadata": {},
   "source": [
    "feature importance for RF classifiers"
   ]
  },
  {
   "cell_type": "code",
   "execution_count": 37,
   "metadata": {},
   "outputs": [
    {
     "data": {
      "image/png": "[encoded data removed]",
      "text/plain": [
       "<Figure size 432x288 with 1 Axes>"
      ]
     },
     "metadata": {
      "needs_background": "light"
     },
     "output_type": "display_data"
    }
   ],
   "source": [
    "# RF-SMOTH-X5 \n",
    "feature_names = [f\"feature {i}\" for i in range(X_res1.shape[1])]\n",
    "results = permutation_importance(rf_smoth1, X_res1, y_res1, scoring='roc_auc')\n",
    "# get importance\n",
    "importance = results.importances_mean\n",
    "std = results.importances_std\n",
    "std = pd.Series(std, index = X_res1.columns)\n",
    "forest_importances = pd.Series(importance, index=X_res1.columns)\n",
    "forest_importances = forest_importances.sort_values(ascending=False)\n",
    "std = std[forest_importances.index[0:20]]\n",
    "fig, ax = plt.subplots()\n",
    "ax.barh(forest_importances.index[0:20], forest_importances[0:20], xerr=std, align='center')\n",
    "ax.invert_yaxis()  # labels read top-to-bottom\n",
    "ax.set_title(\"Feature importances using MDI\")\n",
    "ax.set_xlabel(\"Mean decrease in impurity\")\n",
    "plt.xlim(0,0.1)\n",
    "fig.tight_layout()"
   ]
  },
  {
   "cell_type": "code",
   "execution_count": 38,
   "metadata": {},
   "outputs": [
    {
     "data": {
      "image/png": "[encoded data removed]",
      "text/plain": [
       "<Figure size 432x288 with 1 Axes>"
      ]
     },
     "metadata": {
      "needs_background": "light"
     },
     "output_type": "display_data"
    }
   ],
   "source": [
    "# RF-NearMiss-X5 \n",
    "feature_names = [f\"feature {i}\" for i in range(X_under1.shape[1])]\n",
    "results = permutation_importance(rf_nearmiss1, X_under1, y_under1, scoring='roc_auc')\n",
    "# get importance\n",
    "importance = results.importances_mean\n",
    "std = results.importances_std\n",
    "std = pd.Series(std, index = X_under1.columns)\n",
    "forest_importances = pd.Series(importance, index=X_under1.columns)\n",
    "forest_importances = forest_importances.sort_values(ascending=False)\n",
    "std = std[forest_importances.index[0:20]]\n",
    "fig, ax = plt.subplots()\n",
    "ax.barh(forest_importances.index[0:20], forest_importances[0:20], xerr=std, align='center')\n",
    "ax.invert_yaxis()  # labels read top-to-bottom\n",
    "ax.set_title(\"Feature importances using MDI\")\n",
    "ax.set_xlabel(\"Mean decrease in impurity\")\n",
    "plt.xlim(0,0.1)\n",
    "fig.tight_layout()"
   ]
  },
  {
   "cell_type": "code",
   "execution_count": 39,
   "metadata": {},
   "outputs": [
    {
     "data": {
      "image/png": "[encoded data removed]",
      "text/plain": [
       "<Figure size 720x576 with 1 Axes>"
      ]
     },
     "metadata": {
      "needs_background": "light"
     },
     "output_type": "display_data"
    }
   ],
   "source": [
    "# RF-CS-X5 \n",
    "feature_names = [f\"feature {i}\" for i in range(X_train1.shape[1])]\n",
    "results = permutation_importance(rf_cs1, X_train1, y_train1, scoring='roc_auc')\n",
    "# get importance\n",
    "importance = results.importances_mean\n",
    "std = results.importances_std\n",
    "std = pd.Series(std, index = X_train1.columns)\n",
    "forest_importances = pd.Series(importance, index=X_train1.columns)\n",
    "forest_importances = forest_importances.sort_values(ascending=False)\n",
    "std = std[forest_importances.index[0:20]]\n",
    "fig, ax = plt.subplots(figsize=(10,8))\n",
    "ax.barh(forest_importances.index[0:20], forest_importances[0:20], xerr=std, align='center')\n",
    "ax.invert_yaxis()  # labels read top-to-bottom\n",
    "ax.set_title(\"Feature importances using Roc-Auc\")\n",
    "ax.set_xlabel(\"Mean decrease in Roc-Auc\")\n",
    "plt.xlim(0,0.13)\n",
    "fig.tight_layout()"
   ]
  },
  {
   "cell_type": "markdown",
   "metadata": {},
   "source": [
    "NB- SMOTH"
   ]
  },
  {
   "cell_type": "code",
   "execution_count": 40,
   "metadata": {},
   "outputs": [
    {
     "data": {
      "text/plain": [
       "array(['DayOfWeekClaimed', 'MonthClaimed', 'Age', 'Fault',\n",
       "       'VehicleCategory_Sport', 'PastNumberOfClaims',\n",
       "       'NumberOfSuppliments', 'AddressChange_Claim', 'NumberOfCars',\n",
       "       'Year', 'BasePolicy_Liability'], dtype=object)"
      ]
     },
     "execution_count": 40,
     "metadata": {},
     "output_type": "execute_result"
    }
   ],
   "source": [
    "random.seed(2022)\n",
    "mutual_filter = SelectKBest(mutual_info_classif, k=11)\n",
    "naiv_b = BernoulliNB(alpha=1)\n",
    "nb_smoth1 = make_pipeline(mutual_filter, StandardScaler(), naiv_b)\n",
    "nb_smoth1.fit(X_res1, y_res1)\n",
    "nb_smoth1_pred = nb_smoth1.predict(X_valid1)\n",
    "mutual_filter.feature_names_in_[mutual_filter.get_support(indices=True)]"
   ]
  },
  {
   "cell_type": "markdown",
   "metadata": {},
   "source": [
    "NB Smoth Compositon FS"
   ]
  },
  {
   "cell_type": "code",
   "execution_count": 41,
   "metadata": {},
   "outputs": [],
   "source": [
    "comp_names1 = decomp_fs_names(X_train1, y_train1 , k = 16, m = 11)\n",
    "naiv_b = BernoulliNB(alpha=1)\n",
    "nb_comp_smoth1 = make_pipeline( StandardScaler(), naiv_b)\n",
    "nb_comp_smoth1.fit(X_res1[comp_names1], y_res1)\n",
    "nb_comp_smoth1_pred = nb_comp_smoth1.predict(X_valid1[comp_names1])\n"
   ]
  },
  {
   "cell_type": "markdown",
   "metadata": {},
   "source": [
    "NB- NearMiss"
   ]
  },
  {
   "cell_type": "code",
   "execution_count": 42,
   "metadata": {},
   "outputs": [
    {
     "data": {
      "text/plain": [
       "array(['DayOfWeek', 'Age', 'Fault', 'VehicleCategory_Sedan',\n",
       "       'VehiclePrice', 'Deductible', 'PastNumberOfClaims', 'AgeOfVehicle',\n",
       "       'NumberOfSuppliments', 'AddressChange_Claim',\n",
       "       'BasePolicy_Liability'], dtype=object)"
      ]
     },
     "execution_count": 42,
     "metadata": {},
     "output_type": "execute_result"
    }
   ],
   "source": [
    "np.random.seed(2022)\n",
    "mutual_filter = SelectKBest(mutual_info_classif, k=11)\n",
    "naiv_b = BernoulliNB(alpha=1)\n",
    "nb_nearmiss1 = make_pipeline(mutual_filter, StandardScaler(), naiv_b)\n",
    "nb_nearmiss1.fit(X_under1, y_under1)\n",
    "nb_nearmiss1_pred = nb_nearmiss1.predict(X_valid1)\n",
    "mutual_filter.feature_names_in_[mutual_filter.get_support(indices=True)]"
   ]
  },
  {
   "cell_type": "markdown",
   "metadata": {},
   "source": [
    "NB NearMiss Compositon FS"
   ]
  },
  {
   "cell_type": "code",
   "execution_count": 43,
   "metadata": {},
   "outputs": [],
   "source": [
    "np.random.seed(2022)\n",
    "naiv_b = BernoulliNB(alpha=1 , )\n",
    "nb_comp_nearmiss1 = make_pipeline( StandardScaler(), naiv_b)\n",
    "nb_comp_nearmiss1.fit(X_under1[comp_names1], y_under1)\n",
    "nb_comp_nearmiss1_pred = nb_comp_nearmiss1.predict(X_valid1[comp_names1])\n"
   ]
  },
  {
   "cell_type": "markdown",
   "metadata": {},
   "source": [
    "NB- CS"
   ]
  },
  {
   "cell_type": "code",
   "execution_count": 44,
   "metadata": {},
   "outputs": [],
   "source": [
    "\n",
    "train_weights1 = sklearn.utils.compute_sample_weight({0: 1, 1: 16}, y_train1)"
   ]
  },
  {
   "cell_type": "code",
   "execution_count": 45,
   "metadata": {},
   "outputs": [
    {
     "data": {
      "text/plain": [
       "array(['WeekOfMonthClaimed', 'Sex', 'Fault', 'VehicleCategory_Sport',\n",
       "       'VehicleCategory_Sedan', 'Deductible', 'Days_Policy_Claim',\n",
       "       'PastNumberOfClaims', 'WitnessPresent', 'BasePolicy_Liability',\n",
       "       'BasePolicy_All Perils'], dtype=object)"
      ]
     },
     "execution_count": 45,
     "metadata": {},
     "output_type": "execute_result"
    }
   ],
   "source": [
    "np.random.seed(2022)\n",
    "mutual_filter = SelectKBest(mutual_info_classif, k=11)\n",
    "naiv_b = BernoulliNB(alpha=1 )\n",
    "nb_cs1 = make_pipeline(mutual_filter, StandardScaler(),naiv_b)\n",
    "kwargs1 = {nb_cs1.steps[-1][0] + '__sample_weight': train_weights1}\n",
    "nb_cs1.fit(X_train1, y_train1, **kwargs1)\n",
    "nb_cs1_pred = nb_cs1.predict(X_valid1)\n",
    "mutual_filter.feature_names_in_[mutual_filter.get_support(indices=True)]\n"
   ]
  },
  {
   "cell_type": "markdown",
   "metadata": {},
   "source": [
    "NB CS with compostion"
   ]
  },
  {
   "cell_type": "code",
   "execution_count": 46,
   "metadata": {},
   "outputs": [],
   "source": [
    "np.random.seed(2022)\n",
    "comp_names1 = decomp_fs_names(X_train1, y_train1 , k = 16, m = 11)\n",
    "naiv_b = BernoulliNB(alpha=1)\n",
    "nb_comp_cs1 = make_pipeline(StandardScaler(),naiv_b)\n",
    "kwargs1 = {nb_comp_cs1.steps[-1][0] + '__sample_weight': train_weights1}\n",
    "nb_comp_cs1.fit(X_train1[comp_names1], y_train1, **kwargs1)\n",
    "nb_comp_cs1_pred = nb_comp_cs1.predict(X_valid1[comp_names1])\n",
    "\n",
    "\n"
   ]
  },
  {
   "cell_type": "markdown",
   "metadata": {},
   "source": [
    "SVM - SMOTH"
   ]
  },
  {
   "cell_type": "code",
   "execution_count": 48,
   "metadata": {},
   "outputs": [
    {
     "data": {
      "text/plain": [
       "array(['WeekOfMonth', 'DayOfWeekClaimed', 'MonthClaimed',\n",
       "       'WeekOfMonthClaimed', 'Age', 'Fault', 'VehicleCategory_Sport',\n",
       "       'PastNumberOfClaims', 'NumberOfSuppliments', 'AddressChange_Claim',\n",
       "       'NumberOfCars', 'BasePolicy_Liability'], dtype=object)"
      ]
     },
     "execution_count": 48,
     "metadata": {},
     "output_type": "execute_result"
    }
   ],
   "source": [
    "np.random.seed(2022)\n",
    "mutual_filter = SelectKBest(mutual_info_classif, k=12)\n",
    "svm = SVC(gamma='auto', random_state= 2022)\n",
    "svm_smoth1 = make_pipeline(mutual_filter, StandardScaler(), svm)\n",
    "svm_smoth1.fit(X_res1, y_res1)\n",
    "svm_smoth1_pred = svm_smoth1.predict(X_valid1)\n",
    "mutual_filter.feature_names_in_[mutual_filter.get_support(indices=True)]"
   ]
  },
  {
   "cell_type": "markdown",
   "metadata": {},
   "source": [
    "SVM - SMOTH COMPOSITION"
   ]
  },
  {
   "cell_type": "code",
   "execution_count": 50,
   "metadata": {},
   "outputs": [],
   "source": [
    "np.random.seed(2022)\n",
    "comp_names1 = decomp_fs_names(X_train1, y_train1 , k = 16, m = 12)\n",
    "svm = SVC(gamma='auto', random_state= 2022)\n",
    "svm_comp_smoth1 = make_pipeline(StandardScaler(), svm)\n",
    "svm_comp_smoth1.fit(X_res1[comp_names1], y_res1)\n",
    "svm_comp_smoth1_pred = svm_comp_smoth1.predict(X_valid1[comp_names1])"
   ]
  },
  {
   "cell_type": "markdown",
   "metadata": {},
   "source": [
    "#### SVM - NearMiss"
   ]
  },
  {
   "cell_type": "code",
   "execution_count": 51,
   "metadata": {},
   "outputs": [
    {
     "data": {
      "text/plain": [
       "array(['WeekOfMonth', 'DayOfWeek', 'MaritalStatus_Single', 'Age', 'Fault',\n",
       "       'VehicleCategory_Sedan', 'VehiclePrice', 'Deductible',\n",
       "       'DriverRating', 'PastNumberOfClaims', 'AgeOfVehicle',\n",
       "       'NumberOfSuppliments', 'AddressChange_Claim',\n",
       "       'BasePolicy_Liability'], dtype=object)"
      ]
     },
     "execution_count": 51,
     "metadata": {},
     "output_type": "execute_result"
    }
   ],
   "source": [
    "np.random.seed(2022)\n",
    "mutual_filter = SelectKBest(mutual_info_classif, k=14)\n",
    "svm = SVC(gamma='auto', random_state= 2022)\n",
    "svm_nearmiss1 = make_pipeline(mutual_filter, StandardScaler(), svm)\n",
    "svm_nearmiss1.fit(X_under1, y_under1)\n",
    "svm_nearmiss1_pred = svm_nearmiss1.predict(X_valid1)\n",
    "mutual_filter.feature_names_in_[mutual_filter.get_support(indices=True)]"
   ]
  },
  {
   "cell_type": "markdown",
   "metadata": {},
   "source": [
    "SVM NEARMISS COMPOSITION"
   ]
  },
  {
   "cell_type": "code",
   "execution_count": 52,
   "metadata": {},
   "outputs": [],
   "source": [
    "comp_names1 = decomp_fs_names(X_train1, y_train1 , k = 16, m = 14)\n",
    "svm = SVC(gamma='auto', random_state= 2022)\n",
    "svm_comp_nearmiss1 = make_pipeline( StandardScaler(), svm)\n",
    "svm_comp_nearmiss1.fit(X_under1[comp_names1], y_under1)\n",
    "svm_comp_nearmiss1_pred = svm_comp_nearmiss1.predict(X_valid1[comp_names1])"
   ]
  },
  {
   "cell_type": "markdown",
   "metadata": {},
   "source": [
    "### SVM - CS"
   ]
  },
  {
   "cell_type": "code",
   "execution_count": 53,
   "metadata": {},
   "outputs": [
    {
     "data": {
      "text/plain": [
       "array(['WeekOfMonthClaimed', 'Sex', 'Age', 'Fault',\n",
       "       'VehicleCategory_Sport', 'VehicleCategory_Sedan', 'Deductible',\n",
       "       'Days_Policy_Accident', 'Days_Policy_Claim', 'PastNumberOfClaims',\n",
       "       'WitnessPresent', 'BasePolicy_Liability', 'BasePolicy_Collision',\n",
       "       'BasePolicy_All Perils'], dtype=object)"
      ]
     },
     "execution_count": 53,
     "metadata": {},
     "output_type": "execute_result"
    }
   ],
   "source": [
    "np.random.seed(2022)\n",
    "mutual_filter = SelectKBest(mutual_info_classif, k=14)\n",
    "svm = SVC(gamma='auto', class_weight = {0:1 , 1:16}, random_state= 2022)\n",
    "svm_cs1 = make_pipeline(mutual_filter, StandardScaler(), svm)\n",
    "svm_cs1.fit(X_train1, y_train1)\n",
    "svm_cs1_pred = svm_cs1.predict(X_valid1)\n",
    "mutual_filter.feature_names_in_[mutual_filter.get_support(indices=True)]\n"
   ]
  },
  {
   "cell_type": "markdown",
   "metadata": {},
   "source": [
    "SVM - CS COMPOSITION"
   ]
  },
  {
   "cell_type": "code",
   "execution_count": 54,
   "metadata": {},
   "outputs": [],
   "source": [
    "comp_names1 = decomp_fs_names(X_train1, y_train1 , k = 16, m = 14)\n",
    "svm = SVC(gamma='auto',  class_weight = {0:1 , 1:16}, random_state= 2022)\n",
    "svm_comp_cs1 = make_pipeline(StandardScaler(), svm)\n",
    "svm_comp_cs1.fit(X_res1[comp_names1], y_res1)\n",
    "svm_comp_cs1_pred = svm_comp_cs1.predict(X_valid1[comp_names1])"
   ]
  },
  {
   "cell_type": "markdown",
   "metadata": {},
   "source": [
    "# **Part 5 -  Evaluating preformance, model selection**"
   ]
  },
  {
   "cell_type": "code",
   "execution_count": 55,
   "metadata": {},
   "outputs": [],
   "source": [
    "## define function for evaluating by few metrics and CM\n",
    "def eval_pref(pred, y, classifier, model):\n",
    "    precision, recall, thresholds = precision_recall_curve(y, pred)\n",
    "    auc1 = auc(recall, precision)\n",
    "    print(model,':')\n",
    "    print('Accuarcy: ', round(accuracy_score(y,pred),4)*100, '%')\n",
    "    print('Roc_Auc: ',round(roc_auc_score(y,pred),4)*100, '%')\n",
    "    print('G-mean: ', round(geometric_mean_score(y,pred),4)*100, '%')\n",
    "    print('F1-score: ',round(f1_score(y,pred),4)*100, '%')\n",
    "    print('F2-score: ', round(fbeta_score(y, pred, beta=2),4)*100, '%')\n",
    "    print('AUC-PR: ', round(auc1, 4)*100, '%')\n",
    "    cm = confusion_matrix(y, pred, labels=classifier.classes_)\n",
    "    disp = ConfusionMatrixDisplay(confusion_matrix=cm,\n",
    "                              display_labels=['Not Fraud', 'Fraud'])\n",
    "    disp.plot()"
   ]
  },
  {
   "cell_type": "code",
   "execution_count": 56,
   "metadata": {},
   "outputs": [
    {
     "name": "stdout",
     "output_type": "stream",
     "text": [
      "RF :\n",
      "Accuarcy:  94.49 %\n",
      "Roc_Auc:  50.0 %\n",
      "G-mean:  0.0 %\n",
      "F1-score:  0.0 %\n",
      "F2-score:  0.0 %\n",
      "AUC-PR:  52.76 %\n"
     ]
    },
    {
     "data": {
      "image/png": "[encoded data removed]",
      "text/plain": [
       "<Figure size 432x288 with 2 Axes>"
      ]
     },
     "metadata": {
      "needs_background": "light"
     },
     "output_type": "display_data"
    }
   ],
   "source": [
    "eval_pref(rf_pred, y_valid1, rf, 'RF')"
   ]
  },
  {
   "cell_type": "code",
   "execution_count": 57,
   "metadata": {},
   "outputs": [
    {
     "name": "stdout",
     "output_type": "stream",
     "text": [
      "RF-SMOTH1 :\n",
      "Accuarcy:  75.11 %\n",
      "Roc_Auc:  67.44 %\n",
      "G-mean:  66.89 %\n",
      "F1-score:  20.66 %\n",
      "F2-score:  33.83 %\n",
      "AUC-PR:  36.809999999999995 %\n"
     ]
    },
    {
     "data": {
      "image/png": "[encoded data removed]",
      "text/plain": [
       "<Figure size 432x288 with 2 Axes>"
      ]
     },
     "metadata": {
      "needs_background": "light"
     },
     "output_type": "display_data"
    }
   ],
   "source": [
    "eval_pref(rf_smoth1_pred, y_valid1, rf_smoth1, 'RF-SMOTH1')"
   ]
  },
  {
   "cell_type": "code",
   "execution_count": 58,
   "metadata": {},
   "outputs": [
    {
     "name": "stdout",
     "output_type": "stream",
     "text": [
      "RF-NearMiss1 :\n",
      "Accuarcy:  52.22 %\n",
      "Roc_Auc:  66.13 %\n",
      "G-mean:  64.25999999999999 %\n",
      "F1-score:  15.870000000000001 %\n",
      "F2-score:  30.73 %\n",
      "AUC-PR:  45.78 %\n"
     ]
    },
    {
     "data": {
      "image/png": "[encoded data removed]",
      "text/plain": [
       "<Figure size 432x288 with 2 Axes>"
      ]
     },
     "metadata": {
      "needs_background": "light"
     },
     "output_type": "display_data"
    }
   ],
   "source": [
    "eval_pref(rf_nearmiss1_pred, y_valid1, rf_nearmiss1, 'RF-NearMiss1')"
   ]
  },
  {
   "cell_type": "code",
   "execution_count": 59,
   "metadata": {},
   "outputs": [
    {
     "name": "stdout",
     "output_type": "stream",
     "text": [
      "RF-CS :\n",
      "Accuarcy:  59.64 %\n",
      "Roc_Auc:  75.6 %\n",
      "G-mean:  73.44000000000001 %\n",
      "F1-score:  20.349999999999998 %\n",
      "F2-score:  38.35 %\n",
      "AUC-PR:  52.65 %\n"
     ]
    },
    {
     "data": {
      "image/png": "[encoded data removed]",
      "text/plain": [
       "<Figure size 432x288 with 2 Axes>"
      ]
     },
     "metadata": {
      "needs_background": "light"
     },
     "output_type": "display_data"
    }
   ],
   "source": [
    "eval_pref(rf_cs1_pred, y_valid1, rf_cs1, 'RF-CS')"
   ]
  },
  {
   "cell_type": "code",
   "execution_count": 60,
   "metadata": {},
   "outputs": [
    {
     "name": "stdout",
     "output_type": "stream",
     "text": [
      "SVM-SMOTH1 :\n",
      "Accuarcy:  72.92999999999999 %\n",
      "Roc_Auc:  67.4 %\n",
      "G-mean:  67.11 %\n",
      "F1-score:  19.939999999999998 %\n",
      "F2-score:  33.48 %\n",
      "AUC-PR:  37.61 %\n"
     ]
    },
    {
     "data": {
      "image/png": "[encoded data removed]",
      "text/plain": [
       "<Figure size 432x288 with 2 Axes>"
      ]
     },
     "metadata": {
      "needs_background": "light"
     },
     "output_type": "display_data"
    }
   ],
   "source": [
    "eval_pref(svm_smoth1_pred, y_valid1, svm_smoth1, 'SVM-SMOTH1')"
   ]
  },
  {
   "cell_type": "code",
   "execution_count": 61,
   "metadata": {},
   "outputs": [
    {
     "name": "stdout",
     "output_type": "stream",
     "text": [
      "SVM-COMP-SMOTH1 :\n",
      "Accuarcy:  78.35 %\n",
      "Roc_Auc:  55.31 %\n",
      "G-mean:  48.870000000000005 %\n",
      "F1-score:  13.020000000000001 %\n",
      "F2-score:  19.56 %\n",
      "AUC-PR:  20.830000000000002 %\n"
     ]
    },
    {
     "data": {
      "image/png": "[encoded data removed]",
      "text/plain": [
       "<Figure size 432x288 with 2 Axes>"
      ]
     },
     "metadata": {
      "needs_background": "light"
     },
     "output_type": "display_data"
    }
   ],
   "source": [
    "eval_pref(svm_comp_smoth1_pred, y_valid1, svm_comp_smoth1, 'SVM-COMP-SMOTH1')\n"
   ]
  },
  {
   "cell_type": "code",
   "execution_count": 76,
   "metadata": {},
   "outputs": [
    {
     "name": "stdout",
     "output_type": "stream",
     "text": [
      "SVM-NearMiss1 :\n",
      "Accuarcy:  45.96 %\n",
      "Roc_Auc:  60.33 %\n",
      "G-mean:  58.13 %\n",
      "F1-score:  13.489999999999998 %\n",
      "F2-score:  26.669999999999998 %\n",
      "AUC-PR:  42.58 %\n"
     ]
    },
    {
     "data": {
      "image/png": "[encoded data removed]",
      "text/plain": [
       "<Figure size 432x288 with 2 Axes>"
      ]
     },
     "metadata": {},
     "output_type": "display_data"
    }
   ],
   "source": [
    "eval_pref(svm_nearmiss1_pred, y_valid1, svm_nearmiss1, 'SVM-NearMiss1')"
   ]
  },
  {
   "cell_type": "code",
   "execution_count": null,
   "metadata": {},
   "outputs": [
    {
     "name": "stderr",
     "output_type": "stream",
     "text": [
      "/tmp/ipykernel_3156/1570703139.py:19: FutureWarning: The frame.append method is deprecated and will be removed from pandas in a future version. Use pandas.concat instead.\n",
      "  X_new1= X_new1.append(X_minority1)\n"
     ]
    }
   ],
   "source": [
    "# input: train sample, m - number of fetures to select, K vec of clusters for each class, La - label for train\n",
    "# K = (num_clusters_maority, num_clusters minority)\n",
    "#  first phase: local clustering\n",
    "    # for each class\n",
    "        # kmeans_cluster(tr(class), K[class])\n",
    "        # relab;e(label(class), label(new_subclass))\n",
    "# 2nd_phase: feature sellect\n",
    "    # select M best of mutual information method\n",
    "#    return train_M_best\n",
    "\n",
    "X_majority1 = X_train1[y_train1 == 0]\n",
    "X_minority1 = X_train1[y_train1 == 1]\n",
    "from sklearn.cluster import KMeans\n",
    "k_cluster = KMeans(n_clusters=12, random_state=2022)\n",
    "k_cluster = k_cluster.fit(X_majority1)\n",
    "labels= k_cluster.labels_ + 2\n",
    "labels = np.append(labels, np.repeat(1, sum(y_train1 == 1)))\n",
    "X_new1= X_majority1.copy()\n",
    "X_new1= X_new1.append(X_minority1)\n",
    "X_comp_filter1 = SelectKBest(mutual_info_classif, k=12).fit(X_new1, labels)\n",
    "# names chosen by compision based Feature Selection \n",
    "comp_names1 = X_comp_filter1.feature_names_in_[X_comp_filter1.get_support(indices=True)] "
   ]
  },
  {
   "cell_type": "code",
   "execution_count": 77,
   "metadata": {},
   "outputs": [
    {
     "name": "stdout",
     "output_type": "stream",
     "text": [
      "SVM-COMP-NearMiss1 :\n",
      "Accuarcy:  53.74 %\n",
      "Roc_Auc:  53.92 %\n",
      "G-mean:  53.92 %\n",
      "F1-score:  11.42 %\n",
      "F2-score:  21.69 %\n",
      "AUC-PR:  31.52 %\n"
     ]
    },
    {
     "data": {
      "image/png": "[encoded data removed]",
      "text/plain": [
       "<Figure size 432x288 with 2 Axes>"
      ]
     },
     "metadata": {},
     "output_type": "display_data"
    }
   ],
   "source": [
    "eval_pref(svm_comp_nearmiss1_pred, y_valid1, svm_comp_nearmiss1, 'SVM-COMP-NearMiss1')"
   ]
  },
  {
   "cell_type": "code",
   "execution_count": 64,
   "metadata": {},
   "outputs": [
    {
     "name": "stdout",
     "output_type": "stream",
     "text": [
      "SVM-CS1 :\n",
      "Accuarcy:  60.39 %\n",
      "Roc_Auc:  74.61 %\n",
      "G-mean:  72.88 %\n",
      "F1-score:  20.13 %\n",
      "F2-score:  37.75 %\n",
      "AUC-PR:  51.22 %\n"
     ]
    },
    {
     "data": {
      "image/png": "[encoded data removed]",
      "text/plain": [
       "<Figure size 432x288 with 2 Axes>"
      ]
     },
     "metadata": {
      "needs_background": "light"
     },
     "output_type": "display_data"
    }
   ],
   "source": [
    "eval_pref(svm_cs1_pred, y_valid1, svm_cs1, 'SVM-CS1')"
   ]
  },
  {
   "cell_type": "code",
   "execution_count": 65,
   "metadata": {},
   "outputs": [
    {
     "name": "stdout",
     "output_type": "stream",
     "text": [
      "SVM-Comp-CS1 :\n",
      "Accuarcy:  41.75 %\n",
      "Roc_Auc:  63.36000000000001 %\n",
      "G-mean:  58.52 %\n",
      "F1-score:  14.219999999999999 %\n",
      "F2-score:  28.599999999999998 %\n",
      "AUC-PR:  48.03 %\n"
     ]
    },
    {
     "data": {
      "image/png": "[encoded data removed]",
      "text/plain": [
       "<Figure size 432x288 with 2 Axes>"
      ]
     },
     "metadata": {
      "needs_background": "light"
     },
     "output_type": "display_data"
    }
   ],
   "source": [
    "eval_pref(svm_comp_cs1_pred, y_valid1, svm_comp_cs1, 'SVM-Comp-CS1')"
   ]
  },
  {
   "cell_type": "code",
   "execution_count": 66,
   "metadata": {},
   "outputs": [
    {
     "name": "stdout",
     "output_type": "stream",
     "text": [
      "NB-SMOTH1 :\n",
      "Accuarcy:  62.239999999999995 %\n",
      "Roc_Auc:  67.0 %\n",
      "G-mean:  66.79 %\n",
      "F1-score:  17.43 %\n",
      "F2-score:  32.01 %\n",
      "AUC-PR:  41.89 %\n"
     ]
    },
    {
     "data": {
      "image/png": "[encoded data removed]",
      "text/plain": [
       "<Figure size 432x288 with 2 Axes>"
      ]
     },
     "metadata": {
      "needs_background": "light"
     },
     "output_type": "display_data"
    }
   ],
   "source": [
    "eval_pref(nb_smoth1_pred, y_valid1, nb_smoth1, 'NB-SMOTH1')"
   ]
  },
  {
   "cell_type": "code",
   "execution_count": 67,
   "metadata": {},
   "outputs": [
    {
     "name": "stdout",
     "output_type": "stream",
     "text": [
      "NB-COMP-SMOTH1 :\n",
      "Accuarcy:  40.910000000000004 %\n",
      "Roc_Auc:  64.02 %\n",
      "G-mean:  58.52 %\n",
      "F1-score:  14.37 %\n",
      "F2-score:  28.99 %\n",
      "AUC-PR:  49.18 %\n"
     ]
    },
    {
     "data": {
      "image/png": "[encoded data removed]",
      "text/plain": [
       "<Figure size 432x288 with 2 Axes>"
      ]
     },
     "metadata": {
      "needs_background": "light"
     },
     "output_type": "display_data"
    }
   ],
   "source": [
    "eval_pref(nb_comp_smoth1_pred, y_valid1, nb_comp_smoth1, 'NB-COMP-SMOTH1')"
   ]
  },
  {
   "cell_type": "code",
   "execution_count": 68,
   "metadata": {},
   "outputs": [
    {
     "name": "stdout",
     "output_type": "stream",
     "text": [
      "NB--nearmiss1 :\n",
      "Accuarcy:  56.730000000000004 %\n",
      "Roc_Auc:  65.19 %\n",
      "G-mean:  64.49000000000001 %\n",
      "F1-score:  15.98 %\n",
      "F2-score:  30.25 %\n",
      "AUC-PR:  42.52 %\n"
     ]
    },
    {
     "data": {
      "image/png": "[encoded data removed]",
      "text/plain": [
       "<Figure size 432x288 with 2 Axes>"
      ]
     },
     "metadata": {
      "needs_background": "light"
     },
     "output_type": "display_data"
    }
   ],
   "source": [
    "eval_pref(nb_nearmiss1_pred, y_valid1, nb_nearmiss1, 'NB--nearmiss1')"
   ]
  },
  {
   "cell_type": "code",
   "execution_count": 69,
   "metadata": {},
   "outputs": [
    {
     "name": "stdout",
     "output_type": "stream",
     "text": [
      "NB-COMP-nearmiss1 :\n",
      "Accuarcy:  54.39000000000001 %\n",
      "Roc_Auc:  60.08 %\n",
      "G-mean:  59.74 %\n",
      "F1-score:  13.84 %\n",
      "F2-score:  26.36 %\n",
      "AUC-PR:  38.019999999999996 %\n"
     ]
    },
    {
     "data": {
      "image/png": "[encoded data removed]",
      "text/plain": [
       "<Figure size 432x288 with 2 Axes>"
      ]
     },
     "metadata": {
      "needs_background": "light"
     },
     "output_type": "display_data"
    }
   ],
   "source": [
    "eval_pref(nb_comp_nearmiss1_pred, y_valid1, nb_comp_nearmiss1, 'NB-COMP-nearmiss1')"
   ]
  },
  {
   "cell_type": "code",
   "execution_count": 70,
   "metadata": {},
   "outputs": [
    {
     "name": "stdout",
     "output_type": "stream",
     "text": [
      "NB-CS1 :\n",
      "Accuarcy:  56.14 %\n",
      "Roc_Auc:  72.36 %\n",
      "G-mean:  70.03 %\n",
      "F1-score:  18.54 %\n",
      "F2-score:  35.47 %\n",
      "AUC-PR:  50.72 %\n"
     ]
    },
    {
     "data": {
      "image/png": "[encoded data removed]",
      "text/plain": [
       "<Figure size 432x288 with 2 Axes>"
      ]
     },
     "metadata": {
      "needs_background": "light"
     },
     "output_type": "display_data"
    }
   ],
   "source": [
    "eval_pref(nb_cs1_pred, y_valid1, nb_cs1, 'NB-CS1')"
   ]
  },
  {
   "cell_type": "code",
   "execution_count": 71,
   "metadata": {},
   "outputs": [
    {
     "name": "stdout",
     "output_type": "stream",
     "text": [
      "NB-Comp CS :\n",
      "Accuarcy:  39.48 %\n",
      "Roc_Auc:  63.82 %\n",
      "G-mean:  57.66 %\n",
      "F1-score:  14.24 %\n",
      "F2-score:  28.84 %\n",
      "AUC-PR:  49.69 %\n"
     ]
    },
    {
     "data": {
      "image/png": "[encoded data removed]",
      "text/plain": [
       "<Figure size 432x288 with 2 Axes>"
      ]
     },
     "metadata": {
      "needs_background": "light"
     },
     "output_type": "display_data"
    }
   ],
   "source": [
    "eval_pref(nb_comp_cs1_pred,y_valid1 , nb_comp_cs1, 'NB-Comp CS')"
   ]
  },
  {
   "cell_type": "markdown",
   "metadata": {},
   "source": [
    "comparison by bar plots"
   ]
  },
  {
   "cell_type": "code",
   "execution_count": 96,
   "metadata": {},
   "outputs": [
    {
     "data": {
      "text/plain": [
       "<seaborn.axisgrid.FacetGrid at 0x7f632db39ea0>"
      ]
     },
     "execution_count": 96,
     "metadata": {},
     "output_type": "execute_result"
    },
    {
     "data": {
      "image/png": "[encoded data removed]",
      "text/plain": [
       "<Figure size 523.6x432 with 1 Axes>"
      ]
     },
     "metadata": {},
     "output_type": "display_data"
    }
   ],
   "source": [
    "# presicion, recall, F1-score - without decompasition feature selection\n",
    "dict_pre = {'Model': ['RF_SMOTH','RF_NearMiss','RF-CS','NB_SMOTH','NB_NearMiss','NB-CS','SVM_SMOTH','SVM_NearMiss','SVM-CS'], 'metric': np.repeat('Precision',9) ,'scoring': [] }\n",
    "dict_rec = {'Model': ['RF_SMOTH','RF_NearMiss','RF-CS','NB_SMOTH','NB_NearMiss','NB-CS','SVM_SMOTH','SVM_NearMiss','SVM-CS'], 'metric': np.repeat('Recall',9), 'scoring': [] }\n",
    "dict_f1 = {'Model': ['RF_SMOTH','RF_NearMiss','RF-CS','NB_SMOTH','NB_NearMiss','NB-CS','SVM_SMOTH','SVM_NearMiss','SVM-CS'], 'metric': np.repeat('F1-scoring',9), 'scoring': []  }\n",
    "classifers_list = [rf_smoth1,rf_nearmiss1,rf_cs1, nb_comp_smoth1,nb_comp_nearmiss1,nb_comp_cs1,svm_smoth1,svm_nearmiss1,svm_cs1]\n",
    "pred_list = [rf_smoth1_pred,rf_nearmiss1_pred,rf_cs1_pred, nb_comp_smoth1_pred,nb_comp_nearmiss1_pred,nb_cs1_pred,svm_smoth1_pred,svm_nearmiss1_pred,svm_cs1_pred]\n",
    "dict_f1['scoring'] =  [f1_score(y_valid1,pred) for pred in pred_list]\n",
    "dict_pre['scoring'] = [precision_score(y_valid1,pred) for pred in pred_list]\n",
    "dict_rec['scoring'] = [recall_score(y_valid1, pred) for pred in pred_list]\n",
    "\n",
    "models_results = pd.concat([pd.DataFrame.from_dict(dict_f1),pd.DataFrame.from_dict(dict_pre),pd.DataFrame.from_dict(dict_rec)])\n",
    "\n",
    "sns.set_theme()\n",
    "\n",
    "\n",
    "# Draw a nested barplot by models and scoring\n",
    "g = sns.catplot(\n",
    "    data=models_results, kind=\"bar\",\n",
    "    x=\"Model\", y=\"scoring\", hue=\"metric\",\n",
    "    ci=\"sd\", palette=\"dark\", alpha=.6, height=6\n",
    ")\n",
    "g.despine(left=True)\n",
    "g.set_axis_labels(\"\", \"preformance\")\n",
    "g.legend.set_title(\"\")\n",
    "g.set_xticklabels(rotation = -90, size = 12)\n",
    "\n"
   ]
  },
  {
   "cell_type": "code",
   "execution_count": 94,
   "metadata": {},
   "outputs": [
    {
     "data": {
      "text/plain": [
       "<seaborn.axisgrid.FacetGrid at 0x7f632da31270>"
      ]
     },
     "execution_count": 94,
     "metadata": {},
     "output_type": "execute_result"
    },
    {
     "data": {
      "image/png": "[encoded data removed]",
      "text/plain": [
       "<Figure size 521.475x432 with 1 Axes>"
      ]
     },
     "metadata": {},
     "output_type": "display_data"
    }
   ],
   "source": [
    "# senstivity, specificity, Roc Auc\n",
    "dict_roc = {'Model': ['RF_SMOTH','RF_NearMiss','RF-CS','NB_SMOTH','NB_NearMiss','NB-CS','SVM_SMOTH','SVM_NearMiss','SVM-CS'], 'metric': np.repeat('Roc_Auc',9) ,'scoring': [] }\n",
    "dict_sens = {'Model': ['RF_SMOTH','RF_NearMiss','RF-CS','NB_SMOTH','NB_NearMiss','NB-CS','SVM_SMOTH','SVM_NearMiss','SVM-CS'], 'metric': np.repeat('Sensitivity',9), 'scoring': [] }\n",
    "dict_spec = {'Model': ['RF_SMOTH','RF_NearMiss','RF-CS','NB_SMOTH','NB_NearMiss','NB-CS','SVM_SMOTH','SVM_NearMiss','SVM-CS'], 'metric': np.repeat('Specificity',9), 'scoring': []  }\n",
    "pred_list = [rf_smoth1_pred,rf_nearmiss1_pred,rf_cs1_pred, nb_comp_smoth1_pred,nb_comp_nearmiss1_pred,nb_cs1_pred,svm_smoth1_pred,svm_nearmiss1_pred,svm_cs1_pred]\n",
    "\n",
    "\n",
    "dict_roc['scoring'] =  [roc_auc_score(y_valid1,pred) for pred in pred_list]\n",
    "dict_spec['scoring'] = [confusion_matrix(y_valid1, pred).ravel()[1]/(confusion_matrix(y_valid1, pred).ravel()[1]+confusion_matrix(y_valid1, pred).ravel()[2]) for pred in pred_list]\n",
    "dict_sens['scoring'] = [recall_score(y_valid1, pred) for pred in pred_list]\n",
    "\n",
    "models_results = pd.concat([pd.DataFrame.from_dict(dict_roc),pd.DataFrame.from_dict(dict_sens),pd.DataFrame.from_dict(dict_spec)])\n",
    "\n",
    "sns.set_theme()\n",
    "\n",
    "\n",
    "# Draw a nested barplot by models and scoring\n",
    "g = sns.catplot(\n",
    "    data=models_results, kind=\"bar\",\n",
    "    x=\"Model\", y=\"scoring\", hue=\"metric\",\n",
    "    ci=\"sd\", palette=\"dark\", alpha=.6, height=6\n",
    ")\n",
    "g.despine(left=True)\n",
    "g.set_axis_labels(\"\", \"preformance\")\n",
    "g.legend.set_title(\"\")\n",
    "g.set_xticklabels(rotation = -90, size = 12)\n",
    "\n"
   ]
  },
  {
   "cell_type": "code",
   "execution_count": 74,
   "metadata": {},
   "outputs": [
    {
     "data": {
      "text/plain": [
       "<seaborn.axisgrid.FacetGrid at 0x7f632ddffc40>"
      ]
     },
     "execution_count": 74,
     "metadata": {},
     "output_type": "execute_result"
    },
    {
     "data": {
      "image/png": "[encoded data removed]",
      "text/plain": [
       "<Figure size 534.35x432 with 1 Axes>"
      ]
     },
     "metadata": {},
     "output_type": "display_data"
    }
   ],
   "source": [
    "# Sensitivity, 1- Specificity, Recall\n",
    "dict_roc = {'Model': ['RF_SMOTH','RF_NearMiss','RF-CS','NB_SMOTH','NB_NearMiss','NB-CS','SVM_SMOTH','SVM_NearMiss','SVM-CS'], 'metric': np.repeat('Roc_Auc',9) ,'scoring': [] }\n",
    "dict_sens = {'Model': ['RF_SMOTH','RF_NearMiss','RF-CS','NB_SMOTH','NB_NearMiss','NB-CS','SVM_SMOTH','SVM_NearMiss','SVM-CS'], 'metric': np.repeat('Sensitivity',9), 'scoring': [] }\n",
    "dict_1spec = {'Model': ['RF_SMOTH','RF_NearMiss','RF-CS','NB_SMOTH','NB_NearMiss','NB-CS','SVM_SMOTH','SVM_NearMiss','SVM-CS'], 'metric': np.repeat('1- Specificity',9), 'scoring': []  }\n",
    "pred_list = [rf_smoth1_pred,rf_nearmiss1_pred,rf_cs1_pred, nb_comp_smoth1_pred,nb_comp_nearmiss1_pred,nb_cs1_pred,svm_smoth1_pred,svm_nearmiss1_pred,svm_cs1_pred]\n",
    "\n",
    "\n",
    "dict_roc['scoring'] =  [roc_auc_score(y_valid1,pred) for pred in pred_list]\n",
    "dict_1spec['scoring'] = [1-(confusion_matrix(y_valid1, pred).ravel()[1]/(confusion_matrix(y_valid1, pred).ravel()[1]+confusion_matrix(y_valid1, pred).ravel()[2])) for pred in pred_list]\n",
    "dict_sens['scoring'] = [recall_score(y_valid1, pred) for pred in pred_list]\n",
    "\n",
    "models_results = pd.concat([pd.DataFrame.from_dict(dict_roc),pd.DataFrame.from_dict(dict_sens),pd.DataFrame.from_dict(dict_1spec)])\n",
    "\n",
    "sns.set_theme()\n",
    "\n",
    "\n",
    "# Draw a nested barplot by models and scoring\n",
    "g = sns.catplot(\n",
    "    data=models_results, kind=\"bar\",\n",
    "    x=\"Model\", y=\"scoring\", hue=\"metric\",\n",
    "    ci=\"sd\", palette=\"dark\", alpha=.6, height=6\n",
    ")\n",
    "g.despine(left=True)\n",
    "g.set_axis_labels(\"\", \"preformance\")\n",
    "g.legend.set_title(\"\")\n",
    "g.set_xticklabels(rotation = -90, size = 12)"
   ]
  },
  {
   "cell_type": "markdown",
   "metadata": {},
   "source": [
    "we can see RF-CS has the best preformance"
   ]
  },
  {
   "cell_type": "markdown",
   "metadata": {},
   "source": [
    "# **part 6 - Test preformance of the chosen model**"
   ]
  },
  {
   "cell_type": "code",
   "execution_count": 75,
   "metadata": {},
   "outputs": [
    {
     "name": "stdout",
     "output_type": "stream",
     "text": [
      "chosen model :\n",
      "Accuarcy:  62.45 %\n",
      "Roc_Auc:  79.02 %\n",
      "G-mean:  76.75 %\n",
      "F1-score:  23.51 %\n",
      "F2-score:  43.2 %\n",
      "AUC-PR:  55.65 %\n"
     ]
    },
    {
     "data": {
      "image/png": "[encoded data removed]",
      "text/plain": [
       "<Figure size 432x288 with 2 Axes>"
      ]
     },
     "metadata": {},
     "output_type": "display_data"
    }
   ],
   "source": [
    "rf_cs1_pred_test = rf_cs1.predict(X_test1)\n",
    "eval_pref(rf_cs1_pred_test,y_test1 , rf_cs1, 'chosen model') "
   ]
  }
 ],
 "metadata": {
  "kernelspec": {
   "display_name": "Python 3 (ipykernel)",
   "language": "python",
   "name": "python3"
  },
  "language_info": {
   "codemirror_mode": {
    "name": "ipython",
    "version": 3
   },
   "file_extension": ".py",
   "mimetype": "text/x-python",
   "name": "python",
   "nbconvert_exporter": "python",
   "pygments_lexer": "ipython3",
   "version": "3.9.7"
  }
 },
 "nbformat": 4,
 "nbformat_minor": 4
}
