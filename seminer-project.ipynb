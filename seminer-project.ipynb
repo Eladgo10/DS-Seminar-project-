{
 "cells": [
  {
   "cell_type": "code",
   "execution_count": 4,
   "metadata": {
    "execution": {
     "iopub.execute_input": "2022-04-12T13:32:47.850421Z",
     "iopub.status.busy": "2022-04-12T13:32:47.850123Z",
     "iopub.status.idle": "2022-04-12T13:32:47.856689Z",
     "shell.execute_reply": "2022-04-12T13:32:47.855997Z",
     "shell.execute_reply.started": "2022-04-12T13:32:47.850387Z"
    }
   },
   "outputs": [],
   "source": [
    "#imort packages\n",
    "import numpy as np # linear algebra\n",
    "import seaborn as sns\n",
    "import matplotlib.pyplot as plt\n",
    "import sklearn \n",
    "from sklearn.model_selection import train_test_split \n",
    "from sklearn.ensemble import RandomForestClassifier\n",
    "from sklearn.tree import plot_tree\n",
    "from sklearn import metrics\n",
    "from sklearn.metrics import confusion_matrix\n",
    "import random\n",
    "from sklearn.metrics import classification_report\n",
    "import imblearn\n",
    "from sklearn.metrics import roc_auc_score, accuracy_score, confusion_matrix, ConfusionMatrixDisplay, f1_score,fbeta_score\n",
    ",precision_recall_curve,auc\n",
    "from collections import Counter\n",
    "from imblearn.over_sampling import SMOTE \n",
    "from sklearn.pipeline import make_pipeline\n",
    "from sklearn.svm import SVC\n",
    "import pandas as pd\n",
    "import researchpy as rp\n",
    "import scipy.stats as stats\n",
    "from category_encoders.ordinal import OrdinalEncoder\n",
    "from imblearn.under_sampling import NearMiss\n",
    "from sklearn.feature_selection import SelectKBest, chi2,mutual_info_classif\n",
    "from sklearn.preprocessing import StandardScaler\n",
    "from sklearn.naive_bayes import BernoulliNB , ComplementNB, CategoricalNB\n",
    "from imblearn.metrics import geometric_mean_score\n"
   ]
  },
  {
   "cell_type": "markdown",
   "metadata": {},
   "source": [
    "# (0) desprective statistics"
   ]
  },
  {
   "cell_type": "code",
   "execution_count": 6,
   "metadata": {
    "execution": {
     "iopub.execute_input": "2022-04-12T13:32:51.895470Z",
     "iopub.status.busy": "2022-04-12T13:32:51.895014Z",
     "iopub.status.idle": "2022-04-12T13:32:52.103608Z",
     "shell.execute_reply": "2022-04-12T13:32:52.102493Z",
     "shell.execute_reply.started": "2022-04-12T13:32:51.895417Z"
    }
   },
   "outputs": [
    {
     "data": {
      "text/html": [
       "<div>\n",
       "<style scoped>\n",
       "    .dataframe tbody tr th:only-of-type {\n",
       "        vertical-align: middle;\n",
       "    }\n",
       "\n",
       "    .dataframe tbody tr th {\n",
       "        vertical-align: top;\n",
       "    }\n",
       "\n",
       "    .dataframe thead th {\n",
       "        text-align: right;\n",
       "    }\n",
       "</style>\n",
       "<table border=\"1\" class=\"dataframe\">\n",
       "  <thead>\n",
       "    <tr style=\"text-align: right;\">\n",
       "      <th></th>\n",
       "      <th>Month</th>\n",
       "      <th>WeekOfMonth</th>\n",
       "      <th>DayOfWeek</th>\n",
       "      <th>Make</th>\n",
       "      <th>AccidentArea</th>\n",
       "      <th>DayOfWeekClaimed</th>\n",
       "      <th>MonthClaimed</th>\n",
       "      <th>WeekOfMonthClaimed</th>\n",
       "      <th>Sex</th>\n",
       "      <th>MaritalStatus</th>\n",
       "      <th>...</th>\n",
       "      <th>AgeOfVehicle</th>\n",
       "      <th>AgeOfPolicyHolder</th>\n",
       "      <th>PoliceReportFiled</th>\n",
       "      <th>WitnessPresent</th>\n",
       "      <th>AgentType</th>\n",
       "      <th>NumberOfSuppliments</th>\n",
       "      <th>AddressChange_Claim</th>\n",
       "      <th>NumberOfCars</th>\n",
       "      <th>Year</th>\n",
       "      <th>BasePolicy</th>\n",
       "    </tr>\n",
       "  </thead>\n",
       "  <tbody>\n",
       "    <tr>\n",
       "      <th>0</th>\n",
       "      <td>Dec</td>\n",
       "      <td>5</td>\n",
       "      <td>Wednesday</td>\n",
       "      <td>Honda</td>\n",
       "      <td>Urban</td>\n",
       "      <td>Tuesday</td>\n",
       "      <td>Jan</td>\n",
       "      <td>1</td>\n",
       "      <td>Female</td>\n",
       "      <td>Single</td>\n",
       "      <td>...</td>\n",
       "      <td>3 years</td>\n",
       "      <td>26 to 30</td>\n",
       "      <td>No</td>\n",
       "      <td>No</td>\n",
       "      <td>External</td>\n",
       "      <td>none</td>\n",
       "      <td>1 year</td>\n",
       "      <td>3 to 4</td>\n",
       "      <td>1994</td>\n",
       "      <td>Liability</td>\n",
       "    </tr>\n",
       "    <tr>\n",
       "      <th>1</th>\n",
       "      <td>Jan</td>\n",
       "      <td>3</td>\n",
       "      <td>Wednesday</td>\n",
       "      <td>Honda</td>\n",
       "      <td>Urban</td>\n",
       "      <td>Monday</td>\n",
       "      <td>Jan</td>\n",
       "      <td>4</td>\n",
       "      <td>Male</td>\n",
       "      <td>Single</td>\n",
       "      <td>...</td>\n",
       "      <td>6 years</td>\n",
       "      <td>31 to 35</td>\n",
       "      <td>Yes</td>\n",
       "      <td>No</td>\n",
       "      <td>External</td>\n",
       "      <td>none</td>\n",
       "      <td>no change</td>\n",
       "      <td>1 vehicle</td>\n",
       "      <td>1994</td>\n",
       "      <td>Collision</td>\n",
       "    </tr>\n",
       "    <tr>\n",
       "      <th>2</th>\n",
       "      <td>Oct</td>\n",
       "      <td>5</td>\n",
       "      <td>Friday</td>\n",
       "      <td>Honda</td>\n",
       "      <td>Urban</td>\n",
       "      <td>Thursday</td>\n",
       "      <td>Nov</td>\n",
       "      <td>2</td>\n",
       "      <td>Male</td>\n",
       "      <td>Married</td>\n",
       "      <td>...</td>\n",
       "      <td>7 years</td>\n",
       "      <td>41 to 50</td>\n",
       "      <td>No</td>\n",
       "      <td>No</td>\n",
       "      <td>External</td>\n",
       "      <td>none</td>\n",
       "      <td>no change</td>\n",
       "      <td>1 vehicle</td>\n",
       "      <td>1994</td>\n",
       "      <td>Collision</td>\n",
       "    </tr>\n",
       "    <tr>\n",
       "      <th>3</th>\n",
       "      <td>Jun</td>\n",
       "      <td>2</td>\n",
       "      <td>Saturday</td>\n",
       "      <td>Toyota</td>\n",
       "      <td>Rural</td>\n",
       "      <td>Friday</td>\n",
       "      <td>Jul</td>\n",
       "      <td>1</td>\n",
       "      <td>Male</td>\n",
       "      <td>Married</td>\n",
       "      <td>...</td>\n",
       "      <td>more than 7</td>\n",
       "      <td>51 to 65</td>\n",
       "      <td>Yes</td>\n",
       "      <td>No</td>\n",
       "      <td>External</td>\n",
       "      <td>more than 5</td>\n",
       "      <td>no change</td>\n",
       "      <td>1 vehicle</td>\n",
       "      <td>1994</td>\n",
       "      <td>Liability</td>\n",
       "    </tr>\n",
       "    <tr>\n",
       "      <th>4</th>\n",
       "      <td>Jan</td>\n",
       "      <td>5</td>\n",
       "      <td>Monday</td>\n",
       "      <td>Honda</td>\n",
       "      <td>Urban</td>\n",
       "      <td>Tuesday</td>\n",
       "      <td>Feb</td>\n",
       "      <td>2</td>\n",
       "      <td>Female</td>\n",
       "      <td>Single</td>\n",
       "      <td>...</td>\n",
       "      <td>5 years</td>\n",
       "      <td>31 to 35</td>\n",
       "      <td>No</td>\n",
       "      <td>No</td>\n",
       "      <td>External</td>\n",
       "      <td>none</td>\n",
       "      <td>no change</td>\n",
       "      <td>1 vehicle</td>\n",
       "      <td>1994</td>\n",
       "      <td>Collision</td>\n",
       "    </tr>\n",
       "    <tr>\n",
       "      <th>...</th>\n",
       "      <td>...</td>\n",
       "      <td>...</td>\n",
       "      <td>...</td>\n",
       "      <td>...</td>\n",
       "      <td>...</td>\n",
       "      <td>...</td>\n",
       "      <td>...</td>\n",
       "      <td>...</td>\n",
       "      <td>...</td>\n",
       "      <td>...</td>\n",
       "      <td>...</td>\n",
       "      <td>...</td>\n",
       "      <td>...</td>\n",
       "      <td>...</td>\n",
       "      <td>...</td>\n",
       "      <td>...</td>\n",
       "      <td>...</td>\n",
       "      <td>...</td>\n",
       "      <td>...</td>\n",
       "      <td>...</td>\n",
       "      <td>...</td>\n",
       "    </tr>\n",
       "    <tr>\n",
       "      <th>15415</th>\n",
       "      <td>Nov</td>\n",
       "      <td>4</td>\n",
       "      <td>Friday</td>\n",
       "      <td>Toyota</td>\n",
       "      <td>Urban</td>\n",
       "      <td>Tuesday</td>\n",
       "      <td>Nov</td>\n",
       "      <td>5</td>\n",
       "      <td>Male</td>\n",
       "      <td>Married</td>\n",
       "      <td>...</td>\n",
       "      <td>6 years</td>\n",
       "      <td>31 to 35</td>\n",
       "      <td>No</td>\n",
       "      <td>No</td>\n",
       "      <td>External</td>\n",
       "      <td>none</td>\n",
       "      <td>no change</td>\n",
       "      <td>1 vehicle</td>\n",
       "      <td>1996</td>\n",
       "      <td>Collision</td>\n",
       "    </tr>\n",
       "    <tr>\n",
       "      <th>15416</th>\n",
       "      <td>Nov</td>\n",
       "      <td>5</td>\n",
       "      <td>Thursday</td>\n",
       "      <td>Pontiac</td>\n",
       "      <td>Urban</td>\n",
       "      <td>Friday</td>\n",
       "      <td>Dec</td>\n",
       "      <td>1</td>\n",
       "      <td>Male</td>\n",
       "      <td>Married</td>\n",
       "      <td>...</td>\n",
       "      <td>6 years</td>\n",
       "      <td>31 to 35</td>\n",
       "      <td>No</td>\n",
       "      <td>No</td>\n",
       "      <td>External</td>\n",
       "      <td>more than 5</td>\n",
       "      <td>no change</td>\n",
       "      <td>3 to 4</td>\n",
       "      <td>1996</td>\n",
       "      <td>Liability</td>\n",
       "    </tr>\n",
       "    <tr>\n",
       "      <th>15417</th>\n",
       "      <td>Nov</td>\n",
       "      <td>5</td>\n",
       "      <td>Thursday</td>\n",
       "      <td>Toyota</td>\n",
       "      <td>Rural</td>\n",
       "      <td>Friday</td>\n",
       "      <td>Dec</td>\n",
       "      <td>1</td>\n",
       "      <td>Male</td>\n",
       "      <td>Single</td>\n",
       "      <td>...</td>\n",
       "      <td>5 years</td>\n",
       "      <td>26 to 30</td>\n",
       "      <td>No</td>\n",
       "      <td>No</td>\n",
       "      <td>External</td>\n",
       "      <td>1 to 2</td>\n",
       "      <td>no change</td>\n",
       "      <td>1 vehicle</td>\n",
       "      <td>1996</td>\n",
       "      <td>Collision</td>\n",
       "    </tr>\n",
       "    <tr>\n",
       "      <th>15418</th>\n",
       "      <td>Dec</td>\n",
       "      <td>1</td>\n",
       "      <td>Monday</td>\n",
       "      <td>Toyota</td>\n",
       "      <td>Urban</td>\n",
       "      <td>Thursday</td>\n",
       "      <td>Dec</td>\n",
       "      <td>2</td>\n",
       "      <td>Female</td>\n",
       "      <td>Married</td>\n",
       "      <td>...</td>\n",
       "      <td>2 years</td>\n",
       "      <td>31 to 35</td>\n",
       "      <td>No</td>\n",
       "      <td>No</td>\n",
       "      <td>External</td>\n",
       "      <td>more than 5</td>\n",
       "      <td>no change</td>\n",
       "      <td>1 vehicle</td>\n",
       "      <td>1996</td>\n",
       "      <td>All Perils</td>\n",
       "    </tr>\n",
       "    <tr>\n",
       "      <th>15419</th>\n",
       "      <td>Dec</td>\n",
       "      <td>2</td>\n",
       "      <td>Wednesday</td>\n",
       "      <td>Toyota</td>\n",
       "      <td>Urban</td>\n",
       "      <td>Thursday</td>\n",
       "      <td>Dec</td>\n",
       "      <td>3</td>\n",
       "      <td>Male</td>\n",
       "      <td>Single</td>\n",
       "      <td>...</td>\n",
       "      <td>5 years</td>\n",
       "      <td>26 to 30</td>\n",
       "      <td>No</td>\n",
       "      <td>No</td>\n",
       "      <td>External</td>\n",
       "      <td>1 to 2</td>\n",
       "      <td>no change</td>\n",
       "      <td>1 vehicle</td>\n",
       "      <td>1996</td>\n",
       "      <td>Collision</td>\n",
       "    </tr>\n",
       "  </tbody>\n",
       "</table>\n",
       "<p>15420 rows × 33 columns</p>\n",
       "</div>"
      ],
      "text/plain": [
       "      Month  WeekOfMonth  DayOfWeek     Make AccidentArea DayOfWeekClaimed  \\\n",
       "0       Dec            5  Wednesday    Honda        Urban          Tuesday   \n",
       "1       Jan            3  Wednesday    Honda        Urban           Monday   \n",
       "2       Oct            5     Friday    Honda        Urban         Thursday   \n",
       "3       Jun            2   Saturday   Toyota        Rural           Friday   \n",
       "4       Jan            5     Monday    Honda        Urban          Tuesday   \n",
       "...     ...          ...        ...      ...          ...              ...   \n",
       "15415   Nov            4     Friday   Toyota        Urban          Tuesday   \n",
       "15416   Nov            5   Thursday  Pontiac        Urban           Friday   \n",
       "15417   Nov            5   Thursday   Toyota        Rural           Friday   \n",
       "15418   Dec            1     Monday   Toyota        Urban         Thursday   \n",
       "15419   Dec            2  Wednesday   Toyota        Urban         Thursday   \n",
       "\n",
       "      MonthClaimed  WeekOfMonthClaimed     Sex MaritalStatus  ...  \\\n",
       "0              Jan                   1  Female        Single  ...   \n",
       "1              Jan                   4    Male        Single  ...   \n",
       "2              Nov                   2    Male       Married  ...   \n",
       "3              Jul                   1    Male       Married  ...   \n",
       "4              Feb                   2  Female        Single  ...   \n",
       "...            ...                 ...     ...           ...  ...   \n",
       "15415          Nov                   5    Male       Married  ...   \n",
       "15416          Dec                   1    Male       Married  ...   \n",
       "15417          Dec                   1    Male        Single  ...   \n",
       "15418          Dec                   2  Female       Married  ...   \n",
       "15419          Dec                   3    Male        Single  ...   \n",
       "\n",
       "       AgeOfVehicle AgeOfPolicyHolder PoliceReportFiled WitnessPresent  \\\n",
       "0           3 years          26 to 30                No             No   \n",
       "1           6 years          31 to 35               Yes             No   \n",
       "2           7 years          41 to 50                No             No   \n",
       "3       more than 7          51 to 65               Yes             No   \n",
       "4           5 years          31 to 35                No             No   \n",
       "...             ...               ...               ...            ...   \n",
       "15415       6 years          31 to 35                No             No   \n",
       "15416       6 years          31 to 35                No             No   \n",
       "15417       5 years          26 to 30                No             No   \n",
       "15418       2 years          31 to 35                No             No   \n",
       "15419       5 years          26 to 30                No             No   \n",
       "\n",
       "      AgentType  NumberOfSuppliments  AddressChange_Claim  NumberOfCars  Year  \\\n",
       "0      External                 none               1 year        3 to 4  1994   \n",
       "1      External                 none            no change     1 vehicle  1994   \n",
       "2      External                 none            no change     1 vehicle  1994   \n",
       "3      External          more than 5            no change     1 vehicle  1994   \n",
       "4      External                 none            no change     1 vehicle  1994   \n",
       "...         ...                  ...                  ...           ...   ...   \n",
       "15415  External                 none            no change     1 vehicle  1996   \n",
       "15416  External          more than 5            no change        3 to 4  1996   \n",
       "15417  External               1 to 2            no change     1 vehicle  1996   \n",
       "15418  External          more than 5            no change     1 vehicle  1996   \n",
       "15419  External               1 to 2            no change     1 vehicle  1996   \n",
       "\n",
       "       BasePolicy  \n",
       "0       Liability  \n",
       "1       Collision  \n",
       "2       Collision  \n",
       "3       Liability  \n",
       "4       Collision  \n",
       "...           ...  \n",
       "15415   Collision  \n",
       "15416   Liability  \n",
       "15417   Collision  \n",
       "15418  All Perils  \n",
       "15419   Collision  \n",
       "\n",
       "[15420 rows x 33 columns]"
      ]
     },
     "execution_count": 6,
     "metadata": {},
     "output_type": "execute_result"
    }
   ],
   "source": [
    "dataset = pd.read_csv('C:/Users/kobig/Seminar_project/fraud_oracle.csv')\n",
    "dataset"
   ]
  },
  {
   "cell_type": "markdown",
   "metadata": {},
   "source": [
    "#### ****desprective statisitc - numeric features****"
   ]
  },
  {
   "cell_type": "code",
   "execution_count": 7,
   "metadata": {
    "execution": {
     "iopub.execute_input": "2022-04-12T12:56:11.511821Z",
     "iopub.status.busy": "2022-04-12T12:56:11.511395Z",
     "iopub.status.idle": "2022-04-12T12:56:11.564141Z",
     "shell.execute_reply": "2022-04-12T12:56:11.563150Z",
     "shell.execute_reply.started": "2022-04-12T12:56:11.511788Z"
    }
   },
   "outputs": [
    {
     "data": {
      "text/html": [
       "<div>\n",
       "<style scoped>\n",
       "    .dataframe tbody tr th:only-of-type {\n",
       "        vertical-align: middle;\n",
       "    }\n",
       "\n",
       "    .dataframe tbody tr th {\n",
       "        vertical-align: top;\n",
       "    }\n",
       "\n",
       "    .dataframe thead th {\n",
       "        text-align: right;\n",
       "    }\n",
       "</style>\n",
       "<table border=\"1\" class=\"dataframe\">\n",
       "  <thead>\n",
       "    <tr style=\"text-align: right;\">\n",
       "      <th></th>\n",
       "      <th>WeekOfMonth</th>\n",
       "      <th>WeekOfMonthClaimed</th>\n",
       "      <th>Age</th>\n",
       "      <th>FraudFound_P</th>\n",
       "      <th>PolicyNumber</th>\n",
       "      <th>RepNumber</th>\n",
       "      <th>Deductible</th>\n",
       "      <th>DriverRating</th>\n",
       "      <th>Year</th>\n",
       "    </tr>\n",
       "  </thead>\n",
       "  <tbody>\n",
       "    <tr>\n",
       "      <th>count</th>\n",
       "      <td>15420.000000</td>\n",
       "      <td>15420.000000</td>\n",
       "      <td>15420.000000</td>\n",
       "      <td>15420.000000</td>\n",
       "      <td>15420.000000</td>\n",
       "      <td>15420.000000</td>\n",
       "      <td>15420.000000</td>\n",
       "      <td>15420.000000</td>\n",
       "      <td>15420.000000</td>\n",
       "    </tr>\n",
       "    <tr>\n",
       "      <th>mean</th>\n",
       "      <td>2.788586</td>\n",
       "      <td>2.693969</td>\n",
       "      <td>39.855707</td>\n",
       "      <td>0.059857</td>\n",
       "      <td>7710.500000</td>\n",
       "      <td>8.483268</td>\n",
       "      <td>407.704280</td>\n",
       "      <td>2.487808</td>\n",
       "      <td>1994.866472</td>\n",
       "    </tr>\n",
       "    <tr>\n",
       "      <th>std</th>\n",
       "      <td>1.287585</td>\n",
       "      <td>1.259115</td>\n",
       "      <td>13.492377</td>\n",
       "      <td>0.237230</td>\n",
       "      <td>4451.514911</td>\n",
       "      <td>4.599948</td>\n",
       "      <td>43.950998</td>\n",
       "      <td>1.119453</td>\n",
       "      <td>0.803313</td>\n",
       "    </tr>\n",
       "    <tr>\n",
       "      <th>min</th>\n",
       "      <td>1.000000</td>\n",
       "      <td>1.000000</td>\n",
       "      <td>0.000000</td>\n",
       "      <td>0.000000</td>\n",
       "      <td>1.000000</td>\n",
       "      <td>1.000000</td>\n",
       "      <td>300.000000</td>\n",
       "      <td>1.000000</td>\n",
       "      <td>1994.000000</td>\n",
       "    </tr>\n",
       "    <tr>\n",
       "      <th>25%</th>\n",
       "      <td>2.000000</td>\n",
       "      <td>2.000000</td>\n",
       "      <td>31.000000</td>\n",
       "      <td>0.000000</td>\n",
       "      <td>3855.750000</td>\n",
       "      <td>5.000000</td>\n",
       "      <td>400.000000</td>\n",
       "      <td>1.000000</td>\n",
       "      <td>1994.000000</td>\n",
       "    </tr>\n",
       "    <tr>\n",
       "      <th>50%</th>\n",
       "      <td>3.000000</td>\n",
       "      <td>3.000000</td>\n",
       "      <td>38.000000</td>\n",
       "      <td>0.000000</td>\n",
       "      <td>7710.500000</td>\n",
       "      <td>8.000000</td>\n",
       "      <td>400.000000</td>\n",
       "      <td>2.000000</td>\n",
       "      <td>1995.000000</td>\n",
       "    </tr>\n",
       "    <tr>\n",
       "      <th>75%</th>\n",
       "      <td>4.000000</td>\n",
       "      <td>4.000000</td>\n",
       "      <td>48.000000</td>\n",
       "      <td>0.000000</td>\n",
       "      <td>11565.250000</td>\n",
       "      <td>12.000000</td>\n",
       "      <td>400.000000</td>\n",
       "      <td>3.000000</td>\n",
       "      <td>1996.000000</td>\n",
       "    </tr>\n",
       "    <tr>\n",
       "      <th>max</th>\n",
       "      <td>5.000000</td>\n",
       "      <td>5.000000</td>\n",
       "      <td>80.000000</td>\n",
       "      <td>1.000000</td>\n",
       "      <td>15420.000000</td>\n",
       "      <td>16.000000</td>\n",
       "      <td>700.000000</td>\n",
       "      <td>4.000000</td>\n",
       "      <td>1996.000000</td>\n",
       "    </tr>\n",
       "  </tbody>\n",
       "</table>\n",
       "</div>"
      ],
      "text/plain": [
       "        WeekOfMonth  WeekOfMonthClaimed           Age  FraudFound_P  \\\n",
       "count  15420.000000        15420.000000  15420.000000  15420.000000   \n",
       "mean       2.788586            2.693969     39.855707      0.059857   \n",
       "std        1.287585            1.259115     13.492377      0.237230   \n",
       "min        1.000000            1.000000      0.000000      0.000000   \n",
       "25%        2.000000            2.000000     31.000000      0.000000   \n",
       "50%        3.000000            3.000000     38.000000      0.000000   \n",
       "75%        4.000000            4.000000     48.000000      0.000000   \n",
       "max        5.000000            5.000000     80.000000      1.000000   \n",
       "\n",
       "       PolicyNumber     RepNumber    Deductible  DriverRating          Year  \n",
       "count  15420.000000  15420.000000  15420.000000  15420.000000  15420.000000  \n",
       "mean    7710.500000      8.483268    407.704280      2.487808   1994.866472  \n",
       "std     4451.514911      4.599948     43.950998      1.119453      0.803313  \n",
       "min        1.000000      1.000000    300.000000      1.000000   1994.000000  \n",
       "25%     3855.750000      5.000000    400.000000      1.000000   1994.000000  \n",
       "50%     7710.500000      8.000000    400.000000      2.000000   1995.000000  \n",
       "75%    11565.250000     12.000000    400.000000      3.000000   1996.000000  \n",
       "max    15420.000000     16.000000    700.000000      4.000000   1996.000000  "
      ]
     },
     "execution_count": 7,
     "metadata": {},
     "output_type": "execute_result"
    }
   ],
   "source": [
    "dataset.describe()\n"
   ]
  },
  {
   "cell_type": "markdown",
   "metadata": {},
   "source": [
    "#### ****desprective statisitc - qualtive features****"
   ]
  },
  {
   "cell_type": "code",
   "execution_count": 4,
   "metadata": {
    "execution": {
     "iopub.execute_input": "2022-04-12T12:56:11.565835Z",
     "iopub.status.busy": "2022-04-12T12:56:11.565564Z",
     "iopub.status.idle": "2022-04-12T12:56:11.710908Z",
     "shell.execute_reply": "2022-04-12T12:56:11.709822Z",
     "shell.execute_reply.started": "2022-04-12T12:56:11.565803Z"
    }
   },
   "outputs": [
    {
     "data": {
      "text/html": [
       "<div>\n",
       "<style scoped>\n",
       "    .dataframe tbody tr th:only-of-type {\n",
       "        vertical-align: middle;\n",
       "    }\n",
       "\n",
       "    .dataframe tbody tr th {\n",
       "        vertical-align: top;\n",
       "    }\n",
       "\n",
       "    .dataframe thead th {\n",
       "        text-align: right;\n",
       "    }\n",
       "</style>\n",
       "<table border=\"1\" class=\"dataframe\">\n",
       "  <thead>\n",
       "    <tr style=\"text-align: right;\">\n",
       "      <th></th>\n",
       "      <th>Month</th>\n",
       "      <th>DayOfWeek</th>\n",
       "      <th>Make</th>\n",
       "      <th>AccidentArea</th>\n",
       "      <th>DayOfWeekClaimed</th>\n",
       "      <th>MonthClaimed</th>\n",
       "      <th>Sex</th>\n",
       "      <th>MaritalStatus</th>\n",
       "      <th>Fault</th>\n",
       "      <th>PolicyType</th>\n",
       "      <th>...</th>\n",
       "      <th>PastNumberOfClaims</th>\n",
       "      <th>AgeOfVehicle</th>\n",
       "      <th>AgeOfPolicyHolder</th>\n",
       "      <th>PoliceReportFiled</th>\n",
       "      <th>WitnessPresent</th>\n",
       "      <th>AgentType</th>\n",
       "      <th>NumberOfSuppliments</th>\n",
       "      <th>AddressChange_Claim</th>\n",
       "      <th>NumberOfCars</th>\n",
       "      <th>BasePolicy</th>\n",
       "    </tr>\n",
       "  </thead>\n",
       "  <tbody>\n",
       "    <tr>\n",
       "      <th>count</th>\n",
       "      <td>15420</td>\n",
       "      <td>15420</td>\n",
       "      <td>15420</td>\n",
       "      <td>15420</td>\n",
       "      <td>15420</td>\n",
       "      <td>15420</td>\n",
       "      <td>15420</td>\n",
       "      <td>15420</td>\n",
       "      <td>15420</td>\n",
       "      <td>15420</td>\n",
       "      <td>...</td>\n",
       "      <td>15420</td>\n",
       "      <td>15420</td>\n",
       "      <td>15420</td>\n",
       "      <td>15420</td>\n",
       "      <td>15420</td>\n",
       "      <td>15420</td>\n",
       "      <td>15420</td>\n",
       "      <td>15420</td>\n",
       "      <td>15420</td>\n",
       "      <td>15420</td>\n",
       "    </tr>\n",
       "    <tr>\n",
       "      <th>unique</th>\n",
       "      <td>12</td>\n",
       "      <td>7</td>\n",
       "      <td>19</td>\n",
       "      <td>2</td>\n",
       "      <td>8</td>\n",
       "      <td>13</td>\n",
       "      <td>2</td>\n",
       "      <td>4</td>\n",
       "      <td>2</td>\n",
       "      <td>9</td>\n",
       "      <td>...</td>\n",
       "      <td>4</td>\n",
       "      <td>8</td>\n",
       "      <td>9</td>\n",
       "      <td>2</td>\n",
       "      <td>2</td>\n",
       "      <td>2</td>\n",
       "      <td>4</td>\n",
       "      <td>5</td>\n",
       "      <td>5</td>\n",
       "      <td>3</td>\n",
       "    </tr>\n",
       "    <tr>\n",
       "      <th>top</th>\n",
       "      <td>Jan</td>\n",
       "      <td>Monday</td>\n",
       "      <td>Pontiac</td>\n",
       "      <td>Urban</td>\n",
       "      <td>Monday</td>\n",
       "      <td>Jan</td>\n",
       "      <td>Male</td>\n",
       "      <td>Married</td>\n",
       "      <td>Policy Holder</td>\n",
       "      <td>Sedan - Collision</td>\n",
       "      <td>...</td>\n",
       "      <td>2 to 4</td>\n",
       "      <td>7 years</td>\n",
       "      <td>31 to 35</td>\n",
       "      <td>No</td>\n",
       "      <td>No</td>\n",
       "      <td>External</td>\n",
       "      <td>none</td>\n",
       "      <td>no change</td>\n",
       "      <td>1 vehicle</td>\n",
       "      <td>Collision</td>\n",
       "    </tr>\n",
       "    <tr>\n",
       "      <th>freq</th>\n",
       "      <td>1411</td>\n",
       "      <td>2616</td>\n",
       "      <td>3837</td>\n",
       "      <td>13822</td>\n",
       "      <td>3757</td>\n",
       "      <td>1446</td>\n",
       "      <td>13000</td>\n",
       "      <td>10625</td>\n",
       "      <td>11230</td>\n",
       "      <td>5584</td>\n",
       "      <td>...</td>\n",
       "      <td>5485</td>\n",
       "      <td>5807</td>\n",
       "      <td>5593</td>\n",
       "      <td>14992</td>\n",
       "      <td>15333</td>\n",
       "      <td>15179</td>\n",
       "      <td>7047</td>\n",
       "      <td>14324</td>\n",
       "      <td>14316</td>\n",
       "      <td>5962</td>\n",
       "    </tr>\n",
       "  </tbody>\n",
       "</table>\n",
       "<p>4 rows × 24 columns</p>\n",
       "</div>"
      ],
      "text/plain": [
       "        Month DayOfWeek     Make AccidentArea DayOfWeekClaimed MonthClaimed  \\\n",
       "count   15420     15420    15420        15420            15420        15420   \n",
       "unique     12         7       19            2                8           13   \n",
       "top       Jan    Monday  Pontiac        Urban           Monday          Jan   \n",
       "freq     1411      2616     3837        13822             3757         1446   \n",
       "\n",
       "          Sex MaritalStatus          Fault         PolicyType  ...  \\\n",
       "count   15420         15420          15420              15420  ...   \n",
       "unique      2             4              2                  9  ...   \n",
       "top      Male       Married  Policy Holder  Sedan - Collision  ...   \n",
       "freq    13000         10625          11230               5584  ...   \n",
       "\n",
       "       PastNumberOfClaims AgeOfVehicle AgeOfPolicyHolder PoliceReportFiled  \\\n",
       "count               15420        15420             15420             15420   \n",
       "unique                  4            8                 9                 2   \n",
       "top                2 to 4      7 years          31 to 35                No   \n",
       "freq                 5485         5807              5593             14992   \n",
       "\n",
       "       WitnessPresent AgentType NumberOfSuppliments AddressChange_Claim  \\\n",
       "count           15420     15420               15420               15420   \n",
       "unique              2         2                   4                   5   \n",
       "top                No  External                none           no change   \n",
       "freq            15333     15179                7047               14324   \n",
       "\n",
       "       NumberOfCars BasePolicy  \n",
       "count         15420      15420  \n",
       "unique            5          3  \n",
       "top       1 vehicle  Collision  \n",
       "freq          14316       5962  \n",
       "\n",
       "[4 rows x 24 columns]"
      ]
     },
     "execution_count": 4,
     "metadata": {},
     "output_type": "execute_result"
    }
   ],
   "source": [
    "dataset.describe(include=['object'])"
   ]
  },
  {
   "cell_type": "markdown",
   "metadata": {},
   "source": [
    "#### intresting variablas"
   ]
  },
  {
   "cell_type": "code",
   "execution_count": null,
   "metadata": {
    "execution": {
     "iopub.execute_input": "2022-04-12T12:56:11.712900Z",
     "iopub.status.busy": "2022-04-12T12:56:11.712632Z",
     "iopub.status.idle": "2022-04-12T12:56:11.731579Z",
     "shell.execute_reply": "2022-04-12T12:56:11.730461Z",
     "shell.execute_reply.started": "2022-04-12T12:56:11.712867Z"
    }
   },
   "outputs": [],
   "source": [
    "print(dataset['FraudFound_P'].value_counts(),'\\n') # 923 frauds and 14497 not fraud - outcome\n",
    "print(dataset['AgeOfPolicyHolder'].value_counts(),'\\n')\n",
    "print(dataset['WitnessPresent'].value_counts(), '\\n')\n",
    "print(dataset['PoliceReportFiled'].value_counts())\n"
   ]
  },
  {
   "cell_type": "code",
   "execution_count": null,
   "metadata": {
    "execution": {
     "iopub.execute_input": "2022-04-12T12:56:11.733595Z",
     "iopub.status.busy": "2022-04-12T12:56:11.733213Z",
     "iopub.status.idle": "2022-04-12T12:56:11.980708Z",
     "shell.execute_reply": "2022-04-12T12:56:11.979819Z",
     "shell.execute_reply.started": "2022-04-12T12:56:11.733546Z"
    }
   },
   "outputs": [],
   "source": [
    "# creating data for the plot\n",
    "data_FraudFound_P = pd.DataFrame({'category':['Not Fraud', 'Fraud'],\n",
    "                     'counts': dataset['FraudFound_P'].value_counts().values,\n",
    "                     'percentage': [round(sum(dataset.FraudFound_P == 0)/len(dataset), 3)*100 ,\n",
    "                                    round(sum(dataset.FraudFound_P == 1)/len(dataset), 3)*100]\n",
    "                    })\n",
    " \n",
    "\n",
    "plt.figure(figsize=(8,8))\n",
    "colors_list = ['tab:blue', 'tab:red']\n",
    "graph = plt.bar(data_FraudFound_P.category,data_FraudFound_P.counts, color = colors_list)\n",
    "plt.title(\"Figure 1: Percentage of Fraud and not fraud\")\n",
    "\n",
    "i = 0\n",
    "for p in graph:\n",
    "    width = p.get_width()\n",
    "    height = p.get_height()\n",
    "    x, y = p.get_xy()\n",
    "    plt.text(x+width/2,\n",
    "             y+height*1.01,\n",
    "             str(data_FraudFound_P.percentage[i])+'%',\n",
    "             ha='center',\n",
    "             weight='bold')\n",
    "    i+=1\n",
    "plt.show()"
   ]
  },
  {
   "cell_type": "markdown",
   "metadata": {},
   "source": [
    "#### bar plots Fraud againg important variabls"
   ]
  },
  {
   "cell_type": "code",
   "execution_count": null,
   "metadata": {
    "execution": {
     "iopub.execute_input": "2022-04-12T12:56:11.982566Z",
     "iopub.status.busy": "2022-04-12T12:56:11.982320Z",
     "iopub.status.idle": "2022-04-12T12:56:11.989208Z",
     "shell.execute_reply": "2022-04-12T12:56:11.988383Z",
     "shell.execute_reply.started": "2022-04-12T12:56:11.982535Z"
    }
   },
   "outputs": [],
   "source": [
    "dataset.columns"
   ]
  },
  {
   "cell_type": "code",
   "execution_count": null,
   "metadata": {
    "execution": {
     "iopub.execute_input": "2022-04-12T12:56:11.991346Z",
     "iopub.status.busy": "2022-04-12T12:56:11.990563Z",
     "iopub.status.idle": "2022-04-12T12:56:12.631662Z",
     "shell.execute_reply": "2022-04-12T12:56:12.630794Z",
     "shell.execute_reply.started": "2022-04-12T12:56:11.991295Z"
    }
   },
   "outputs": [],
   "source": [
    "sns.catplot(y=\"Make\", hue=\"FraudFound_P\", kind=\"count\",\n",
    "            palette=\"pastel\", edgecolor=\".6\",\n",
    "            data=dataset).set(title = \"Make and Fraud\")\n",
    "plt.show()\n"
   ]
  },
  {
   "cell_type": "code",
   "execution_count": null,
   "metadata": {
    "execution": {
     "iopub.execute_input": "2022-04-12T12:56:12.634949Z",
     "iopub.status.busy": "2022-04-12T12:56:12.634686Z",
     "iopub.status.idle": "2022-04-12T12:56:13.024116Z",
     "shell.execute_reply": "2022-04-12T12:56:13.023230Z",
     "shell.execute_reply.started": "2022-04-12T12:56:12.634916Z"
    }
   },
   "outputs": [],
   "source": [
    "sns.catplot(x=\"AccidentArea\", hue=\"FraudFound_P\", kind=\"count\",\n",
    "            palette=\"pastel\", edgecolor=\".6\",\n",
    "            data=dataset).set(title = \"AccidentArea and Fraud\")\n",
    "plt.show()\n"
   ]
  },
  {
   "cell_type": "code",
   "execution_count": null,
   "metadata": {
    "execution": {
     "iopub.execute_input": "2022-04-12T12:56:13.026674Z",
     "iopub.status.busy": "2022-04-12T12:56:13.025647Z",
     "iopub.status.idle": "2022-04-12T12:56:13.396077Z",
     "shell.execute_reply": "2022-04-12T12:56:13.395150Z",
     "shell.execute_reply.started": "2022-04-12T12:56:13.026553Z"
    }
   },
   "outputs": [],
   "source": [
    "sns.catplot(x=\"Sex\", hue=\"FraudFound_P\", kind=\"count\",\n",
    "            palette=\"pastel\", edgecolor=\".6\",\n",
    "            data=dataset).set(title = \"Sex and Fraud\")\n",
    "plt.show()\n"
   ]
  },
  {
   "cell_type": "code",
   "execution_count": null,
   "metadata": {
    "execution": {
     "iopub.execute_input": "2022-04-12T12:56:13.398233Z",
     "iopub.status.busy": "2022-04-12T12:56:13.397696Z",
     "iopub.status.idle": "2022-04-12T12:56:14.036488Z",
     "shell.execute_reply": "2022-04-12T12:56:14.035434Z",
     "shell.execute_reply.started": "2022-04-12T12:56:13.398185Z"
    }
   },
   "outputs": [],
   "source": [
    "sns.catplot(x=\"Month\", hue=\"FraudFound_P\", kind=\"count\",\n",
    "            palette=\"pastel\", edgecolor=\".6\",\n",
    "            data=dataset).set(title = \"Month and Fraud\")\n",
    "plt.show()\n"
   ]
  },
  {
   "cell_type": "code",
   "execution_count": null,
   "metadata": {
    "execution": {
     "iopub.execute_input": "2022-04-12T12:56:14.039011Z",
     "iopub.status.busy": "2022-04-12T12:56:14.037578Z",
     "iopub.status.idle": "2022-04-12T12:56:14.440041Z",
     "shell.execute_reply": "2022-04-12T12:56:14.438909Z",
     "shell.execute_reply.started": "2022-04-12T12:56:14.038956Z"
    }
   },
   "outputs": [],
   "source": [
    "sns.catplot(x=\"MaritalStatus\", hue=\"FraudFound_P\", kind=\"count\",\n",
    "            palette=\"pastel\", edgecolor=\".6\",\n",
    "            data=dataset).set(title = \"Sex and Fraud\")\n",
    "plt.show()\n"
   ]
  },
  {
   "cell_type": "code",
   "execution_count": null,
   "metadata": {
    "execution": {
     "iopub.execute_input": "2022-04-12T12:56:14.441866Z",
     "iopub.status.busy": "2022-04-12T12:56:14.441563Z",
     "iopub.status.idle": "2022-04-12T12:56:14.830546Z",
     "shell.execute_reply": "2022-04-12T12:56:14.829491Z",
     "shell.execute_reply.started": "2022-04-12T12:56:14.441832Z"
    }
   },
   "outputs": [],
   "source": [
    "sns.catplot(x=\"DriverRating\", hue=\"FraudFound_P\", kind=\"count\",\n",
    "            palette=\"pastel\", edgecolor=\".6\",\n",
    "            data=dataset).set(title = \"DriverRating and Fraud\")\n",
    "plt.show()\n"
   ]
  },
  {
   "cell_type": "code",
   "execution_count": null,
   "metadata": {
    "execution": {
     "iopub.execute_input": "2022-04-12T12:56:14.832052Z",
     "iopub.status.busy": "2022-04-12T12:56:14.831817Z",
     "iopub.status.idle": "2022-04-12T12:56:15.226478Z",
     "shell.execute_reply": "2022-04-12T12:56:15.225469Z",
     "shell.execute_reply.started": "2022-04-12T12:56:14.832022Z"
    }
   },
   "outputs": [],
   "source": [
    "sns.catplot(x=\"Deductible\", hue=\"FraudFound_P\", kind=\"count\",\n",
    "            palette=\"pastel\", edgecolor=\".6\",\n",
    "            data=dataset).set(title = \"deductible and Fraud\")\n",
    "plt.show()"
   ]
  },
  {
   "cell_type": "code",
   "execution_count": null,
   "metadata": {
    "execution": {
     "iopub.execute_input": "2022-04-12T12:56:15.228430Z",
     "iopub.status.busy": "2022-04-12T12:56:15.228098Z",
     "iopub.status.idle": "2022-04-12T12:56:15.691944Z",
     "shell.execute_reply": "2022-04-12T12:56:15.691033Z",
     "shell.execute_reply.started": "2022-04-12T12:56:15.228395Z"
    }
   },
   "outputs": [],
   "source": [
    "sns.catplot(y=\"AgeOfVehicle\", hue=\"FraudFound_P\", kind=\"count\",\n",
    "            palette=\"pastel\", edgecolor=\".6\",\n",
    "            data=dataset).set(title = \"AgeOfVehicle and Fraud\")\n",
    "plt.show()"
   ]
  },
  {
   "cell_type": "code",
   "execution_count": null,
   "metadata": {
    "execution": {
     "iopub.execute_input": "2022-04-12T12:56:15.694129Z",
     "iopub.status.busy": "2022-04-12T12:56:15.693730Z",
     "iopub.status.idle": "2022-04-12T12:56:16.099223Z",
     "shell.execute_reply": "2022-04-12T12:56:16.097294Z",
     "shell.execute_reply.started": "2022-04-12T12:56:15.694075Z"
    }
   },
   "outputs": [],
   "source": [
    "sns.catplot(x=\"WitnessPresent\", hue=\"FraudFound_P\", kind=\"count\",\n",
    "            palette=\"pastel\", edgecolor=\".6\",\n",
    "            data=dataset).set(title = \"WitnessPresent and Fraud\")\n",
    "plt.show()"
   ]
  },
  {
   "cell_type": "code",
   "execution_count": null,
   "metadata": {
    "execution": {
     "iopub.execute_input": "2022-04-12T12:56:16.101073Z",
     "iopub.status.busy": "2022-04-12T12:56:16.100771Z",
     "iopub.status.idle": "2022-04-12T12:56:16.513601Z",
     "shell.execute_reply": "2022-04-12T12:56:16.512449Z",
     "shell.execute_reply.started": "2022-04-12T12:56:16.101037Z"
    }
   },
   "outputs": [],
   "source": [
    "sns.catplot(x=\"AgentType\", hue=\"FraudFound_P\", kind=\"count\",\n",
    "            palette=\"pastel\", edgecolor=\".6\",\n",
    "            data=dataset).set(title = \"AgentType and Fraud\")\n",
    "plt.show()"
   ]
  },
  {
   "cell_type": "code",
   "execution_count": null,
   "metadata": {
    "execution": {
     "iopub.execute_input": "2022-04-12T12:56:16.515384Z",
     "iopub.status.busy": "2022-04-12T12:56:16.515058Z",
     "iopub.status.idle": "2022-04-12T12:56:16.934185Z",
     "shell.execute_reply": "2022-04-12T12:56:16.932946Z",
     "shell.execute_reply.started": "2022-04-12T12:56:16.515347Z"
    }
   },
   "outputs": [],
   "source": [
    "sns.catplot(x=\"PastNumberOfClaims\", hue=\"FraudFound_P\", kind=\"count\",\n",
    "            palette=\"pastel\", edgecolor=\".6\",\n",
    "            data=dataset).set(title = \"PastNumberOfClaims and Fraud\")\n",
    "plt.show()"
   ]
  },
  {
   "cell_type": "code",
   "execution_count": null,
   "metadata": {
    "execution": {
     "iopub.execute_input": "2022-04-12T12:56:16.936174Z",
     "iopub.status.busy": "2022-04-12T12:56:16.935685Z",
     "iopub.status.idle": "2022-04-12T12:56:17.345108Z",
     "shell.execute_reply": "2022-04-12T12:56:17.343990Z",
     "shell.execute_reply.started": "2022-04-12T12:56:16.936115Z"
    }
   },
   "outputs": [],
   "source": [
    "sns.catplot(x=\"PoliceReportFiled\", hue=\"FraudFound_P\", kind=\"count\",\n",
    "            palette=\"pastel\", edgecolor=\".6\",\n",
    "            data=dataset).set(title = \"PoliceReportFiled and Fraud\")\n",
    "plt.show()"
   ]
  },
  {
   "cell_type": "code",
   "execution_count": null,
   "metadata": {
    "execution": {
     "iopub.execute_input": "2022-04-12T12:56:17.347285Z",
     "iopub.status.busy": "2022-04-12T12:56:17.347017Z",
     "iopub.status.idle": "2022-04-12T12:56:17.355953Z",
     "shell.execute_reply": "2022-04-12T12:56:17.354914Z",
     "shell.execute_reply.started": "2022-04-12T12:56:17.347252Z"
    }
   },
   "outputs": [],
   "source": [
    "dataset.columns[~dataset.columns.isin([\"Age\", 'Month'])]"
   ]
  },
  {
   "cell_type": "markdown",
   "metadata": {},
   "source": [
    "### χ^2 test"
   ]
  },
  {
   "cell_type": "code",
   "execution_count": null,
   "metadata": {
    "execution": {
     "iopub.execute_input": "2022-04-12T12:56:17.357422Z",
     "iopub.status.busy": "2022-04-12T12:56:17.357189Z",
     "iopub.status.idle": "2022-04-12T13:01:57.259667Z",
     "shell.execute_reply": "2022-04-12T13:01:57.258705Z",
     "shell.execute_reply.started": "2022-04-12T12:56:17.357392Z"
    }
   },
   "outputs": [],
   "source": [
    "col_names = dataset.columns[~dataset.columns.isin(['Age', 'FraudFound_P'])]\n",
    "for i in dataset.columns[~dataset.columns.isin(['Age', 'FraudFound_P'])]:\n",
    "    col_names = col_names[col_names != i]\n",
    "    for j in col_names:\n",
    "        crosstab, test_results, expected = rp.crosstab(dataset[i], dataset[j],\n",
    "                                               test= \"chi-square\",\n",
    "                                               expected_freqs= True,\n",
    "                                               prop= \"cell\")\n",
    "        if test_results['results'][1] < 0.05:\n",
    "            print(i + ' ' + j + ':')\n",
    "            print(test_results)\n",
    "            print('\\n')\n",
    "    print('****** new ******')\n",
    "    "
   ]
  },
  {
   "cell_type": "code",
   "execution_count": null,
   "metadata": {
    "execution": {
     "iopub.execute_input": "2022-04-12T13:01:57.261437Z",
     "iopub.status.busy": "2022-04-12T13:01:57.261097Z",
     "iopub.status.idle": "2022-04-12T13:01:59.414245Z",
     "shell.execute_reply": "2022-04-12T13:01:59.413226Z",
     "shell.execute_reply.started": "2022-04-12T13:01:57.261388Z"
    }
   },
   "outputs": [],
   "source": [
    "for i in dataset.columns[~dataset.columns.isin(['Age', 'FraudFound_P'])]:\n",
    "    crosstab, test_results, expected = rp.crosstab(dataset[i], dataset['FraudFound_P'],\n",
    "                                               test= \"chi-square\",\n",
    "                                               expected_freqs= True,\n",
    "                                               prop= \"cell\")\n",
    "    if test_results['results'][1] < 0.05:\n",
    "        print(i + ':')\n",
    "        print(test_results)\n",
    "        print('\\n')\n",
    "\n",
    "    "
   ]
  },
  {
   "cell_type": "code",
   "execution_count": null,
   "metadata": {
    "execution": {
     "iopub.execute_input": "2022-04-12T13:01:59.416142Z",
     "iopub.status.busy": "2022-04-12T13:01:59.415546Z",
     "iopub.status.idle": "2022-04-12T13:02:01.524274Z",
     "shell.execute_reply": "2022-04-12T13:02:01.523231Z",
     "shell.execute_reply.started": "2022-04-12T13:01:59.416108Z"
    }
   },
   "outputs": [],
   "source": [
    "for i in dataset.columns[~dataset.columns.isin(['Age', 'FraudFound_P'])]:\n",
    "    crosstab, test_results, expected = rp.crosstab(dataset[i], dataset['FraudFound_P'],\n",
    "                                               test= \"chi-square\",\n",
    "                                               expected_freqs= True,\n",
    "                                               prop= \"cell\")\n",
    "    if test_results['results'][1] > 0.05:\n",
    "        print(i + ':')\n",
    "        print(test_results)\n",
    "        print('\\n')\n"
   ]
  },
  {
   "cell_type": "code",
   "execution_count": null,
   "metadata": {
    "execution": {
     "iopub.execute_input": "2022-04-12T13:41:24.410005Z",
     "iopub.status.busy": "2022-04-12T13:41:24.409474Z",
     "iopub.status.idle": "2022-04-12T13:41:24.436994Z",
     "shell.execute_reply": "2022-04-12T13:41:24.436326Z",
     "shell.execute_reply.started": "2022-04-12T13:41:24.409963Z"
    }
   },
   "outputs": [],
   "source": [
    "pd.crosstab(dataset.Sex, dataset.FraudFound_P)\n"
   ]
  },
  {
   "cell_type": "code",
   "execution_count": null,
   "metadata": {
    "execution": {
     "iopub.execute_input": "2022-04-12T13:35:56.152215Z",
     "iopub.status.busy": "2022-04-12T13:35:56.151225Z",
     "iopub.status.idle": "2022-04-12T13:35:56.177736Z",
     "shell.execute_reply": "2022-04-12T13:35:56.176766Z",
     "shell.execute_reply.started": "2022-04-12T13:35:56.152167Z"
    }
   },
   "outputs": [],
   "source": [
    "pd.crosstab(dataset.Sex, dataset.FraudFound_P, normalize = 'columns')"
   ]
  },
  {
   "cell_type": "code",
   "execution_count": null,
   "metadata": {
    "execution": {
     "iopub.execute_input": "2022-04-12T13:53:58.434344Z",
     "iopub.status.busy": "2022-04-12T13:53:58.434010Z",
     "iopub.status.idle": "2022-04-12T13:53:58.458069Z",
     "shell.execute_reply": "2022-04-12T13:53:58.456981Z",
     "shell.execute_reply.started": "2022-04-12T13:53:58.434309Z"
    }
   },
   "outputs": [],
   "source": [
    "pd.crosstab(dataset.AccidentArea, dataset.FraudFound_P)"
   ]
  },
  {
   "cell_type": "code",
   "execution_count": null,
   "metadata": {
    "execution": {
     "iopub.execute_input": "2022-04-12T13:54:40.106676Z",
     "iopub.status.busy": "2022-04-12T13:54:40.106414Z",
     "iopub.status.idle": "2022-04-12T13:54:40.130409Z",
     "shell.execute_reply": "2022-04-12T13:54:40.129564Z",
     "shell.execute_reply.started": "2022-04-12T13:54:40.106649Z"
    }
   },
   "outputs": [],
   "source": [
    "pd.crosstab(dataset.AccidentArea, dataset.FraudFound_P, normalize = 'columns')"
   ]
  },
  {
   "cell_type": "code",
   "execution_count": null,
   "metadata": {
    "execution": {
     "iopub.execute_input": "2022-04-12T14:20:44.962473Z",
     "iopub.status.busy": "2022-04-12T14:20:44.962082Z",
     "iopub.status.idle": "2022-04-12T14:20:44.991312Z",
     "shell.execute_reply": "2022-04-12T14:20:44.989744Z",
     "shell.execute_reply.started": "2022-04-12T14:20:44.962443Z"
    }
   },
   "outputs": [],
   "source": [
    "pd.crosstab(dataset.VehicleCategory, dataset.FraudFound_P)"
   ]
  },
  {
   "cell_type": "code",
   "execution_count": null,
   "metadata": {
    "execution": {
     "iopub.execute_input": "2022-04-12T14:20:51.185550Z",
     "iopub.status.busy": "2022-04-12T14:20:51.185284Z",
     "iopub.status.idle": "2022-04-12T14:20:51.211462Z",
     "shell.execute_reply": "2022-04-12T14:20:51.210831Z",
     "shell.execute_reply.started": "2022-04-12T14:20:51.185523Z"
    }
   },
   "outputs": [],
   "source": [
    "pd.crosstab(dataset.VehicleCategory, dataset.FraudFound_P, normalize = 'columns')"
   ]
  },
  {
   "cell_type": "code",
   "execution_count": null,
   "metadata": {},
   "outputs": [],
   "source": [
    "pd.crosstab(dataset.VehicleCategory, dataset.FraudFound_P, normalize = 'columns')"
   ]
  },
  {
   "cell_type": "code",
   "execution_count": null,
   "metadata": {
    "execution": {
     "iopub.execute_input": "2022-04-12T14:40:33.409259Z",
     "iopub.status.busy": "2022-04-12T14:40:33.408920Z",
     "iopub.status.idle": "2022-04-12T14:40:34.521489Z",
     "shell.execute_reply": "2022-04-12T14:40:34.520412Z",
     "shell.execute_reply.started": "2022-04-12T14:40:33.409224Z"
    }
   },
   "outputs": [],
   "source": [
    "for i in dataset.columns[~dataset.columns.isin(['Age', 'FraudFound_P'])]:\n",
    "    print(pd.crosstab(dataset[i], dataset.FraudFound_P))\n",
    "    print(pd.crosstab(dataset[i], dataset.FraudFound_P, normalize = 'columns'))\n",
    "   "
   ]
  },
  {
   "cell_type": "markdown",
   "metadata": {},
   "source": [
    "# (1) Data preproccesing "
   ]
  },
  {
   "cell_type": "markdown",
   "metadata": {},
   "source": [
    "#### changing the zero values to nan values in columns: Age, DayOfWeekClaimed, weekclaimed"
   ]
  },
  {
   "cell_type": "code",
   "execution_count": 3,
   "metadata": {
    "execution": {
     "iopub.execute_input": "2022-04-12T13:02:01.525912Z",
     "iopub.status.busy": "2022-04-12T13:02:01.525637Z",
     "iopub.status.idle": "2022-04-12T13:02:01.555007Z",
     "shell.execute_reply": "2022-04-12T13:02:01.553947Z",
     "shell.execute_reply.started": "2022-04-12T13:02:01.525881Z"
    }
   },
   "outputs": [
    {
     "name": "stdout",
     "output_type": "stream",
     "text": [
      "320\n",
      "['Tuesday' 'Monday' 'Thursday' 'Friday' 'Wednesday' 'Saturday' 'Sunday'\n",
      " '0']\n",
      "1\n"
     ]
    }
   ],
   "source": [
    "#Age\n",
    "print(sum(dataset['Age']  == 0))\n",
    "dataset.loc[dataset['Age'] == 0, 'Age'] = np.nan\n",
    "\n",
    "#DayOfWeekClaimed\n",
    "print(dataset['DayOfWeekClaimed'].unique())\n",
    "dataset[dataset['DayOfWeekClaimed'] == '0'] # obs 1516 has a \n",
    "dataset.loc[dataset['DayOfWeekClaimed'] == 0, 'DayOfWeekClaimed'] = np.nan\n",
    "\n",
    "#MonthClaimed\n",
    "print(sum(dataset['MonthClaimed']  == '0'))\n",
    "dataset.loc[dataset['MonthClaimed'] == '0', 'DayOfWeekClaimed'] = np.nan"
   ]
  },
  {
   "cell_type": "markdown",
   "metadata": {},
   "source": [
    "### function for dropping Irrelevant_colmuns - PolicyType, PolicyNumber\n"
   ]
  },
  {
   "cell_type": "code",
   "execution_count": 8,
   "metadata": {
    "execution": {
     "iopub.execute_input": "2022-04-12T13:02:01.573729Z",
     "iopub.status.busy": "2022-04-12T13:02:01.573485Z",
     "iopub.status.idle": "2022-04-12T13:02:01.631675Z",
     "shell.execute_reply": "2022-04-12T13:02:01.630819Z",
     "shell.execute_reply.started": "2022-04-12T13:02:01.573699Z"
    }
   },
   "outputs": [
    {
     "data": {
      "text/html": [
       "<div>\n",
       "<style scoped>\n",
       "    .dataframe tbody tr th:only-of-type {\n",
       "        vertical-align: middle;\n",
       "    }\n",
       "\n",
       "    .dataframe tbody tr th {\n",
       "        vertical-align: top;\n",
       "    }\n",
       "\n",
       "    .dataframe thead th {\n",
       "        text-align: right;\n",
       "    }\n",
       "</style>\n",
       "<table border=\"1\" class=\"dataframe\">\n",
       "  <thead>\n",
       "    <tr style=\"text-align: right;\">\n",
       "      <th></th>\n",
       "      <th>Month</th>\n",
       "      <th>WeekOfMonth</th>\n",
       "      <th>DayOfWeek</th>\n",
       "      <th>Make</th>\n",
       "      <th>AccidentArea</th>\n",
       "      <th>DayOfWeekClaimed</th>\n",
       "      <th>MonthClaimed</th>\n",
       "      <th>WeekOfMonthClaimed</th>\n",
       "      <th>Sex</th>\n",
       "      <th>MaritalStatus</th>\n",
       "      <th>...</th>\n",
       "      <th>AgeOfVehicle</th>\n",
       "      <th>AgeOfPolicyHolder</th>\n",
       "      <th>PoliceReportFiled</th>\n",
       "      <th>WitnessPresent</th>\n",
       "      <th>AgentType</th>\n",
       "      <th>NumberOfSuppliments</th>\n",
       "      <th>AddressChange_Claim</th>\n",
       "      <th>NumberOfCars</th>\n",
       "      <th>Year</th>\n",
       "      <th>BasePolicy</th>\n",
       "    </tr>\n",
       "  </thead>\n",
       "  <tbody>\n",
       "    <tr>\n",
       "      <th>0</th>\n",
       "      <td>Dec</td>\n",
       "      <td>5</td>\n",
       "      <td>Wednesday</td>\n",
       "      <td>Honda</td>\n",
       "      <td>Urban</td>\n",
       "      <td>Tuesday</td>\n",
       "      <td>Jan</td>\n",
       "      <td>1</td>\n",
       "      <td>Female</td>\n",
       "      <td>Single</td>\n",
       "      <td>...</td>\n",
       "      <td>3 years</td>\n",
       "      <td>26 to 30</td>\n",
       "      <td>No</td>\n",
       "      <td>No</td>\n",
       "      <td>External</td>\n",
       "      <td>none</td>\n",
       "      <td>1 year</td>\n",
       "      <td>3 to 4</td>\n",
       "      <td>1994</td>\n",
       "      <td>Liability</td>\n",
       "    </tr>\n",
       "    <tr>\n",
       "      <th>1</th>\n",
       "      <td>Jan</td>\n",
       "      <td>3</td>\n",
       "      <td>Wednesday</td>\n",
       "      <td>Honda</td>\n",
       "      <td>Urban</td>\n",
       "      <td>Monday</td>\n",
       "      <td>Jan</td>\n",
       "      <td>4</td>\n",
       "      <td>Male</td>\n",
       "      <td>Single</td>\n",
       "      <td>...</td>\n",
       "      <td>6 years</td>\n",
       "      <td>31 to 35</td>\n",
       "      <td>Yes</td>\n",
       "      <td>No</td>\n",
       "      <td>External</td>\n",
       "      <td>none</td>\n",
       "      <td>no change</td>\n",
       "      <td>1 vehicle</td>\n",
       "      <td>1994</td>\n",
       "      <td>Collision</td>\n",
       "    </tr>\n",
       "    <tr>\n",
       "      <th>2</th>\n",
       "      <td>Oct</td>\n",
       "      <td>5</td>\n",
       "      <td>Friday</td>\n",
       "      <td>Honda</td>\n",
       "      <td>Urban</td>\n",
       "      <td>Thursday</td>\n",
       "      <td>Nov</td>\n",
       "      <td>2</td>\n",
       "      <td>Male</td>\n",
       "      <td>Married</td>\n",
       "      <td>...</td>\n",
       "      <td>7 years</td>\n",
       "      <td>41 to 50</td>\n",
       "      <td>No</td>\n",
       "      <td>No</td>\n",
       "      <td>External</td>\n",
       "      <td>none</td>\n",
       "      <td>no change</td>\n",
       "      <td>1 vehicle</td>\n",
       "      <td>1994</td>\n",
       "      <td>Collision</td>\n",
       "    </tr>\n",
       "    <tr>\n",
       "      <th>3</th>\n",
       "      <td>Jun</td>\n",
       "      <td>2</td>\n",
       "      <td>Saturday</td>\n",
       "      <td>Toyota</td>\n",
       "      <td>Rural</td>\n",
       "      <td>Friday</td>\n",
       "      <td>Jul</td>\n",
       "      <td>1</td>\n",
       "      <td>Male</td>\n",
       "      <td>Married</td>\n",
       "      <td>...</td>\n",
       "      <td>more than 7</td>\n",
       "      <td>51 to 65</td>\n",
       "      <td>Yes</td>\n",
       "      <td>No</td>\n",
       "      <td>External</td>\n",
       "      <td>more than 5</td>\n",
       "      <td>no change</td>\n",
       "      <td>1 vehicle</td>\n",
       "      <td>1994</td>\n",
       "      <td>Liability</td>\n",
       "    </tr>\n",
       "    <tr>\n",
       "      <th>4</th>\n",
       "      <td>Jan</td>\n",
       "      <td>5</td>\n",
       "      <td>Monday</td>\n",
       "      <td>Honda</td>\n",
       "      <td>Urban</td>\n",
       "      <td>Tuesday</td>\n",
       "      <td>Feb</td>\n",
       "      <td>2</td>\n",
       "      <td>Female</td>\n",
       "      <td>Single</td>\n",
       "      <td>...</td>\n",
       "      <td>5 years</td>\n",
       "      <td>31 to 35</td>\n",
       "      <td>No</td>\n",
       "      <td>No</td>\n",
       "      <td>External</td>\n",
       "      <td>none</td>\n",
       "      <td>no change</td>\n",
       "      <td>1 vehicle</td>\n",
       "      <td>1994</td>\n",
       "      <td>Collision</td>\n",
       "    </tr>\n",
       "    <tr>\n",
       "      <th>...</th>\n",
       "      <td>...</td>\n",
       "      <td>...</td>\n",
       "      <td>...</td>\n",
       "      <td>...</td>\n",
       "      <td>...</td>\n",
       "      <td>...</td>\n",
       "      <td>...</td>\n",
       "      <td>...</td>\n",
       "      <td>...</td>\n",
       "      <td>...</td>\n",
       "      <td>...</td>\n",
       "      <td>...</td>\n",
       "      <td>...</td>\n",
       "      <td>...</td>\n",
       "      <td>...</td>\n",
       "      <td>...</td>\n",
       "      <td>...</td>\n",
       "      <td>...</td>\n",
       "      <td>...</td>\n",
       "      <td>...</td>\n",
       "      <td>...</td>\n",
       "    </tr>\n",
       "    <tr>\n",
       "      <th>15415</th>\n",
       "      <td>Nov</td>\n",
       "      <td>4</td>\n",
       "      <td>Friday</td>\n",
       "      <td>Toyota</td>\n",
       "      <td>Urban</td>\n",
       "      <td>Tuesday</td>\n",
       "      <td>Nov</td>\n",
       "      <td>5</td>\n",
       "      <td>Male</td>\n",
       "      <td>Married</td>\n",
       "      <td>...</td>\n",
       "      <td>6 years</td>\n",
       "      <td>31 to 35</td>\n",
       "      <td>No</td>\n",
       "      <td>No</td>\n",
       "      <td>External</td>\n",
       "      <td>none</td>\n",
       "      <td>no change</td>\n",
       "      <td>1 vehicle</td>\n",
       "      <td>1996</td>\n",
       "      <td>Collision</td>\n",
       "    </tr>\n",
       "    <tr>\n",
       "      <th>15416</th>\n",
       "      <td>Nov</td>\n",
       "      <td>5</td>\n",
       "      <td>Thursday</td>\n",
       "      <td>Pontiac</td>\n",
       "      <td>Urban</td>\n",
       "      <td>Friday</td>\n",
       "      <td>Dec</td>\n",
       "      <td>1</td>\n",
       "      <td>Male</td>\n",
       "      <td>Married</td>\n",
       "      <td>...</td>\n",
       "      <td>6 years</td>\n",
       "      <td>31 to 35</td>\n",
       "      <td>No</td>\n",
       "      <td>No</td>\n",
       "      <td>External</td>\n",
       "      <td>more than 5</td>\n",
       "      <td>no change</td>\n",
       "      <td>3 to 4</td>\n",
       "      <td>1996</td>\n",
       "      <td>Liability</td>\n",
       "    </tr>\n",
       "    <tr>\n",
       "      <th>15417</th>\n",
       "      <td>Nov</td>\n",
       "      <td>5</td>\n",
       "      <td>Thursday</td>\n",
       "      <td>Toyota</td>\n",
       "      <td>Rural</td>\n",
       "      <td>Friday</td>\n",
       "      <td>Dec</td>\n",
       "      <td>1</td>\n",
       "      <td>Male</td>\n",
       "      <td>Single</td>\n",
       "      <td>...</td>\n",
       "      <td>5 years</td>\n",
       "      <td>26 to 30</td>\n",
       "      <td>No</td>\n",
       "      <td>No</td>\n",
       "      <td>External</td>\n",
       "      <td>1 to 2</td>\n",
       "      <td>no change</td>\n",
       "      <td>1 vehicle</td>\n",
       "      <td>1996</td>\n",
       "      <td>Collision</td>\n",
       "    </tr>\n",
       "    <tr>\n",
       "      <th>15418</th>\n",
       "      <td>Dec</td>\n",
       "      <td>1</td>\n",
       "      <td>Monday</td>\n",
       "      <td>Toyota</td>\n",
       "      <td>Urban</td>\n",
       "      <td>Thursday</td>\n",
       "      <td>Dec</td>\n",
       "      <td>2</td>\n",
       "      <td>Female</td>\n",
       "      <td>Married</td>\n",
       "      <td>...</td>\n",
       "      <td>2 years</td>\n",
       "      <td>31 to 35</td>\n",
       "      <td>No</td>\n",
       "      <td>No</td>\n",
       "      <td>External</td>\n",
       "      <td>more than 5</td>\n",
       "      <td>no change</td>\n",
       "      <td>1 vehicle</td>\n",
       "      <td>1996</td>\n",
       "      <td>All Perils</td>\n",
       "    </tr>\n",
       "    <tr>\n",
       "      <th>15419</th>\n",
       "      <td>Dec</td>\n",
       "      <td>2</td>\n",
       "      <td>Wednesday</td>\n",
       "      <td>Toyota</td>\n",
       "      <td>Urban</td>\n",
       "      <td>Thursday</td>\n",
       "      <td>Dec</td>\n",
       "      <td>3</td>\n",
       "      <td>Male</td>\n",
       "      <td>Single</td>\n",
       "      <td>...</td>\n",
       "      <td>5 years</td>\n",
       "      <td>26 to 30</td>\n",
       "      <td>No</td>\n",
       "      <td>No</td>\n",
       "      <td>External</td>\n",
       "      <td>1 to 2</td>\n",
       "      <td>no change</td>\n",
       "      <td>1 vehicle</td>\n",
       "      <td>1996</td>\n",
       "      <td>Collision</td>\n",
       "    </tr>\n",
       "  </tbody>\n",
       "</table>\n",
       "<p>15420 rows × 31 columns</p>\n",
       "</div>"
      ],
      "text/plain": [
       "      Month  WeekOfMonth  DayOfWeek     Make AccidentArea DayOfWeekClaimed  \\\n",
       "0       Dec            5  Wednesday    Honda        Urban          Tuesday   \n",
       "1       Jan            3  Wednesday    Honda        Urban           Monday   \n",
       "2       Oct            5     Friday    Honda        Urban         Thursday   \n",
       "3       Jun            2   Saturday   Toyota        Rural           Friday   \n",
       "4       Jan            5     Monday    Honda        Urban          Tuesday   \n",
       "...     ...          ...        ...      ...          ...              ...   \n",
       "15415   Nov            4     Friday   Toyota        Urban          Tuesday   \n",
       "15416   Nov            5   Thursday  Pontiac        Urban           Friday   \n",
       "15417   Nov            5   Thursday   Toyota        Rural           Friday   \n",
       "15418   Dec            1     Monday   Toyota        Urban         Thursday   \n",
       "15419   Dec            2  Wednesday   Toyota        Urban         Thursday   \n",
       "\n",
       "      MonthClaimed  WeekOfMonthClaimed     Sex MaritalStatus  ...  \\\n",
       "0              Jan                   1  Female        Single  ...   \n",
       "1              Jan                   4    Male        Single  ...   \n",
       "2              Nov                   2    Male       Married  ...   \n",
       "3              Jul                   1    Male       Married  ...   \n",
       "4              Feb                   2  Female        Single  ...   \n",
       "...            ...                 ...     ...           ...  ...   \n",
       "15415          Nov                   5    Male       Married  ...   \n",
       "15416          Dec                   1    Male       Married  ...   \n",
       "15417          Dec                   1    Male        Single  ...   \n",
       "15418          Dec                   2  Female       Married  ...   \n",
       "15419          Dec                   3    Male        Single  ...   \n",
       "\n",
       "       AgeOfVehicle AgeOfPolicyHolder PoliceReportFiled WitnessPresent  \\\n",
       "0           3 years          26 to 30                No             No   \n",
       "1           6 years          31 to 35               Yes             No   \n",
       "2           7 years          41 to 50                No             No   \n",
       "3       more than 7          51 to 65               Yes             No   \n",
       "4           5 years          31 to 35                No             No   \n",
       "...             ...               ...               ...            ...   \n",
       "15415       6 years          31 to 35                No             No   \n",
       "15416       6 years          31 to 35                No             No   \n",
       "15417       5 years          26 to 30                No             No   \n",
       "15418       2 years          31 to 35                No             No   \n",
       "15419       5 years          26 to 30                No             No   \n",
       "\n",
       "       AgentType  NumberOfSuppliments  AddressChange_Claim  NumberOfCars  \\\n",
       "0       External                 none               1 year        3 to 4   \n",
       "1       External                 none            no change     1 vehicle   \n",
       "2       External                 none            no change     1 vehicle   \n",
       "3       External          more than 5            no change     1 vehicle   \n",
       "4       External                 none            no change     1 vehicle   \n",
       "...          ...                  ...                  ...           ...   \n",
       "15415   External                 none            no change     1 vehicle   \n",
       "15416   External          more than 5            no change        3 to 4   \n",
       "15417   External               1 to 2            no change     1 vehicle   \n",
       "15418   External          more than 5            no change     1 vehicle   \n",
       "15419   External               1 to 2            no change     1 vehicle   \n",
       "\n",
       "       Year  BasePolicy  \n",
       "0      1994   Liability  \n",
       "1      1994   Collision  \n",
       "2      1994   Collision  \n",
       "3      1994   Liability  \n",
       "4      1994   Collision  \n",
       "...     ...         ...  \n",
       "15415  1996   Collision  \n",
       "15416  1996   Liability  \n",
       "15417  1996   Collision  \n",
       "15418  1996  All Perils  \n",
       "15419  1996   Collision  \n",
       "\n",
       "[15420 rows x 31 columns]"
      ]
     },
     "execution_count": 8,
     "metadata": {},
     "output_type": "execute_result"
    }
   ],
   "source": [
    "def Irrelevant_col(df , drop):\n",
    "    df.drop(drop, axis=1, inplace=True)\n",
    "\n",
    "\n",
    "#drop in my data set    \n",
    "drop = [\"PolicyType\",\"PolicyNumber\"] \n",
    "dataset_new = dataset\n",
    "Irrelevant_col(dataset_new, drop)\n",
    "\n",
    "dataset_new"
   ]
  },
  {
   "cell_type": "markdown",
   "metadata": {},
   "source": [
    "### 1.(a) null values of age, day of week - replacing with mean"
   ]
  },
  {
   "cell_type": "code",
   "execution_count": 9,
   "metadata": {
    "execution": {
     "iopub.execute_input": "2022-04-12T13:02:01.637663Z",
     "iopub.status.busy": "2022-04-12T13:02:01.637401Z",
     "iopub.status.idle": "2022-04-12T13:02:01.685079Z",
     "shell.execute_reply": "2022-04-12T13:02:01.684245Z",
     "shell.execute_reply.started": "2022-04-12T13:02:01.637631Z"
    }
   },
   "outputs": [],
   "source": [
    "# removing rows\n",
    "dataset_new_rem = dataset_new.dropna(subset = ['Age'])\n",
    "dataset_new_rem = dataset_new_rem.dropna(subset =['MonthClaimed' ,'DayOfWeekClaimed'])\n",
    "#print(dataset_new_rem.isnull().sum())\n",
    "\n",
    "# avereging\n",
    "from sklearn.impute import SimpleImputer\n",
    "imputer = SimpleImputer(missing_values=np.NaN, strategy='mean') \n",
    "# We instantiated a SimpleImputer object looking for missing values that are represented\n",
    "#by np.NaN and asking Scikit-Learn to use the 'mean' as its strategy. \n",
    "#This means that any np.NaN values will be imputed by the columns mean.\n",
    "\n",
    "dataset_new_avg = dataset_new\n",
    "imputer=imputer.fit(dataset_new_avg[['Age']])\n",
    "dataset_new_avg[['Age']]=imputer.transform(dataset_new_avg[['Age']])\n",
    "dataset_new_avg = dataset_new_avg.dropna(subset =['MonthClaimed' ,'DayOfWeekClaimed'])\n",
    "#print(dataset_new_avg.isnull().sum())"
   ]
  },
  {
   "cell_type": "markdown",
   "metadata": {},
   "source": [
    "### 1.(b) dealing with categorials features"
   ]
  },
  {
   "cell_type": "code",
   "execution_count": null,
   "metadata": {
    "execution": {
     "iopub.execute_input": "2022-04-12T13:02:01.686871Z",
     "iopub.status.busy": "2022-04-12T13:02:01.686242Z",
     "iopub.status.idle": "2022-04-12T13:02:01.694757Z",
     "shell.execute_reply": "2022-04-12T13:02:01.693614Z",
     "shell.execute_reply.started": "2022-04-12T13:02:01.686834Z"
    }
   },
   "outputs": [],
   "source": [
    "dataset_new.dtypes"
   ]
  },
  {
   "cell_type": "code",
   "execution_count": 10,
   "metadata": {
    "execution": {
     "iopub.execute_input": "2022-04-12T13:02:01.696567Z",
     "iopub.status.busy": "2022-04-12T13:02:01.696136Z",
     "iopub.status.idle": "2022-04-12T13:02:01.717601Z",
     "shell.execute_reply": "2022-04-12T13:02:01.716820Z",
     "shell.execute_reply.started": "2022-04-12T13:02:01.696529Z"
    }
   },
   "outputs": [],
   "source": [
    "y =  dataset_new.FraudFound_P.copy()\n",
    "X = dataset_new.drop('FraudFound_P', axis = 1, inplace=False ).copy()"
   ]
  },
  {
   "cell_type": "markdown",
   "metadata": {},
   "source": [
    "#### Binary variables zero one coding:"
   ]
  },
  {
   "cell_type": "code",
   "execution_count": 11,
   "metadata": {
    "execution": {
     "iopub.execute_input": "2022-04-12T13:02:01.719301Z",
     "iopub.status.busy": "2022-04-12T13:02:01.718648Z",
     "iopub.status.idle": "2022-04-12T13:02:01.832201Z",
     "shell.execute_reply": "2022-04-12T13:02:01.831473Z",
     "shell.execute_reply.started": "2022-04-12T13:02:01.719260Z"
    }
   },
   "outputs": [
    {
     "data": {
      "text/plain": [
       "Month                    object\n",
       "WeekOfMonth               int64\n",
       "DayOfWeek                object\n",
       "Make                     object\n",
       "AccidentArea              int32\n",
       "DayOfWeekClaimed         object\n",
       "MonthClaimed             object\n",
       "WeekOfMonthClaimed        int64\n",
       "Sex                       int32\n",
       "MaritalStatus            object\n",
       "Age                     float64\n",
       "Fault                     int32\n",
       "VehicleCategory          object\n",
       "VehiclePrice             object\n",
       "RepNumber                 int64\n",
       "Deductible                int64\n",
       "DriverRating              int64\n",
       "Days_Policy_Accident     object\n",
       "Days_Policy_Claim        object\n",
       "PastNumberOfClaims       object\n",
       "AgeOfVehicle             object\n",
       "AgeOfPolicyHolder        object\n",
       "PoliceReportFiled         int32\n",
       "WitnessPresent            int32\n",
       "AgentType                 int32\n",
       "NumberOfSuppliments      object\n",
       "AddressChange_Claim      object\n",
       "NumberOfCars             object\n",
       "Year                      int64\n",
       "BasePolicy               object\n",
       "dtype: object"
      ]
     },
     "execution_count": 11,
     "metadata": {},
     "output_type": "execute_result"
    }
   ],
   "source": [
    "cols = ['AccidentArea', 'Sex', 'Fault', 'PoliceReportFiled', 'WitnessPresent', 'AgentType']\n",
    "y_val = ['Urban','Female','Policy Holder', 'Yes', 'Yes','External']\n",
    "x_val = ['Rural', 'Male', 'Third Party', 'No', 'No', 'Internal']\n",
    "\n",
    "for i in range(len(cols)):\n",
    "    X_idx1 = X[cols[i]]==y_val[i]\n",
    "    X_idx2 = X[cols[i]]==x_val[i]\n",
    "\n",
    "    X.loc[list(X_idx1),cols[i]]=1\n",
    "    X.loc[list(X_idx2),cols[i]]=0\n",
    "\n",
    "for i in range(len(cols)):\n",
    "    X[cols[i]] = X[cols[i]].astype('int')\n",
    "    \n",
    "X.dtypes"
   ]
  },
  {
   "cell_type": "markdown",
   "metadata": {},
   "source": [
    "#### Ordianal categorial featurs:"
   ]
  },
  {
   "cell_type": "code",
   "execution_count": 12,
   "metadata": {
    "execution": {
     "iopub.execute_input": "2022-04-12T13:02:01.834439Z",
     "iopub.status.busy": "2022-04-12T13:02:01.834142Z",
     "iopub.status.idle": "2022-04-12T13:02:02.121329Z",
     "shell.execute_reply": "2022-04-12T13:02:02.120539Z",
     "shell.execute_reply.started": "2022-04-12T13:02:01.834399Z"
    }
   },
   "outputs": [],
   "source": [
    "col_ordering = [{'col':'Month','mapping':{'Jan':1,'Feb':2,'Mar':3,'Apr':4,'May':5,'Jun':6,'Jul':7,'Aug':8,'Sep':9,'Oct':10,'Nov':11,'Dec':12}},\n",
    "    {'col':'DayOfWeek','mapping':{'Monday':1,'Tuesday':2,'Wednesday':3,'Thursday':4,'Friday':5,'Saturday':6,'Sunday':7}},\n",
    "    {'col':'DayOfWeekClaimed','mapping':{'Monday':1,'Tuesday':2,'Wednesday':3,'Thursday':4,'Friday':5,'Saturday':6,'Sunday':7}},\n",
    "    {'col':'MonthClaimed','mapping':{'Jan':1,'Feb':2,'Mar':3,'Apr':4,'May':5,'Jun':6,'Jul':7,'Aug':8,'Sep':9,'Oct':10,'Nov':11,'Dec':12}},\n",
    "    {'col':'PastNumberOfClaims','mapping':{'none':0 ,'1':1,'2 to 4':2,'more than 4':5 }},\n",
    "    {'col':'NumberOfSuppliments','mapping':{'none':0,'1 to 2':1,'3 to 5':3,'more than 5':6}}, \n",
    "    {'col':'VehiclePrice','mapping':{'more than 69000':69001,'20000 to 29000':24500,'30000 to 39000':34500,'less than 20000':19999,\n",
    "                                     '40000 to 59000':49500,'60000 to 69000':64500}},\n",
    "    {'col':'AgeOfVehicle','mapping':{'3 years':3,'6 years':6,'7 years':7,'more than 7':8,'5 years':5,'new':0,'4 years':4,'2 years':2}},\n",
    "]\n",
    "ord_encoder = OrdinalEncoder(mapping = col_ordering, return_df=True)\n",
    "X2 = ord_encoder.fit_transform(X)\n",
    "X2.loc[X2[\"DayOfWeekClaimed\"] == -1.0,\"DayOfWeekClaimed\"] = 0\n",
    "X2.loc[X2[\"MonthClaimed\"] == -1.0,\"MonthClaimed\"] = 0"
   ]
  },
  {
   "cell_type": "markdown",
   "metadata": {},
   "source": [
    "#### ordianal categorial featurs - taking the avg for each category \n"
   ]
  },
  {
   "cell_type": "code",
   "execution_count": 13,
   "metadata": {
    "execution": {
     "iopub.execute_input": "2022-04-12T13:02:02.123100Z",
     "iopub.status.busy": "2022-04-12T13:02:02.122436Z",
     "iopub.status.idle": "2022-04-12T13:02:02.213891Z",
     "shell.execute_reply": "2022-04-12T13:02:02.212889Z",
     "shell.execute_reply.started": "2022-04-12T13:02:02.123053Z"
    }
   },
   "outputs": [
    {
     "data": {
      "text/plain": [
       "Month                     int32\n",
       "WeekOfMonth               int64\n",
       "DayOfWeek                 int32\n",
       "Make                     object\n",
       "AccidentArea              int32\n",
       "DayOfWeekClaimed        float64\n",
       "MonthClaimed            float64\n",
       "WeekOfMonthClaimed        int64\n",
       "Sex                       int32\n",
       "MaritalStatus            object\n",
       "Age                     float64\n",
       "Fault                     int32\n",
       "VehicleCategory          object\n",
       "VehiclePrice              int32\n",
       "RepNumber                 int64\n",
       "Deductible                int64\n",
       "DriverRating              int64\n",
       "Days_Policy_Accident    float64\n",
       "Days_Policy_Claim       float64\n",
       "PastNumberOfClaims        int32\n",
       "AgeOfVehicle              int32\n",
       "AgeOfPolicyHolder       float64\n",
       "PoliceReportFiled         int32\n",
       "WitnessPresent            int32\n",
       "AgentType                 int32\n",
       "NumberOfSuppliments       int32\n",
       "AddressChange_Claim     float64\n",
       "NumberOfCars            float64\n",
       "Year                      int64\n",
       "BasePolicy               object\n",
       "dtype: object"
      ]
     },
     "execution_count": 13,
     "metadata": {},
     "output_type": "execute_result"
    }
   ],
   "source": [
    "col_map = [{'Days_Policy_Accident':{'more than 30': 31,'15 to 30': 22.5,'none': 0,'1 to 7': 4,'8 to 15': 11.5}},\n",
    "    {'Days_Policy_Claim':{'more than 30': 31,'15 to 30': 22.5,'8 to 15': 11.5,'none': 0}},\n",
    "    {'AgeOfPolicyHolder':{'26 to 30':28,'31 to 35':33,'41 to 50':45.5,'51 to 65':58,'21 to 25':23,'36 to 40':38,'16 to 17':16.5,\n",
    "                                          'over 65':66,'18 to 20':19}},\n",
    "    {'AddressChange_Claim':{'1 year':1,'no change':0,'4 to 8 years':6,'2 to 3 years':2.5,'under 6 months':0.5}},\n",
    "    {'NumberOfCars':{'3 to 4':3.5,'1 vehicle':1,'2 vehicles':2,'5 to 8':6.5,'more than 8':9}},\n",
    "]\n",
    "\n",
    "X3 = X2.copy()\n",
    "for i in range(len(col_map)):\n",
    "    X3.replace(col_map[i], inplace=True)\n",
    "\n",
    "X3.dtypes"
   ]
  },
  {
   "cell_type": "markdown",
   "metadata": {},
   "source": [
    "#### One hot endoder for the categorial features"
   ]
  },
  {
   "cell_type": "code",
   "execution_count": 14,
   "metadata": {
    "execution": {
     "iopub.execute_input": "2022-04-12T13:02:02.215464Z",
     "iopub.status.busy": "2022-04-12T13:02:02.215219Z",
     "iopub.status.idle": "2022-04-12T13:02:02.351756Z",
     "shell.execute_reply": "2022-04-12T13:02:02.350991Z",
     "shell.execute_reply.started": "2022-04-12T13:02:02.215432Z"
    }
   },
   "outputs": [
    {
     "data": {
      "text/plain": [
       "Month                        int32\n",
       "WeekOfMonth                  int64\n",
       "DayOfWeek                    int32\n",
       "Make_Honda                   int64\n",
       "Make_Toyota                  int64\n",
       "Make_Ford                    int64\n",
       "Make_Mazda                   int64\n",
       "Make_Chevrolet               int64\n",
       "Make_Pontiac                 int64\n",
       "Make_Accura                  int64\n",
       "Make_Dodge                   int64\n",
       "Make_Mercury                 int64\n",
       "Make_Jaguar                  int64\n",
       "Make_Nisson                  int64\n",
       "Make_VW                      int64\n",
       "Make_Saab                    int64\n",
       "Make_Saturn                  int64\n",
       "Make_Porche                  int64\n",
       "Make_BMW                     int64\n",
       "Make_Mecedes                 int64\n",
       "Make_Ferrari                 int64\n",
       "Make_Lexus                   int64\n",
       "AccidentArea                 int32\n",
       "DayOfWeekClaimed           float64\n",
       "MonthClaimed               float64\n",
       "WeekOfMonthClaimed           int64\n",
       "Sex                          int32\n",
       "MaritalStatus_Single         int64\n",
       "MaritalStatus_Married        int64\n",
       "MaritalStatus_Widow          int64\n",
       "MaritalStatus_Divorced       int64\n",
       "Age                        float64\n",
       "Fault                        int32\n",
       "VehicleCategory_Sport        int64\n",
       "VehicleCategory_Utility      int64\n",
       "VehicleCategory_Sedan        int64\n",
       "VehiclePrice                 int32\n",
       "RepNumber                    int64\n",
       "Deductible                   int64\n",
       "DriverRating                 int64\n",
       "Days_Policy_Accident       float64\n",
       "Days_Policy_Claim          float64\n",
       "PastNumberOfClaims           int32\n",
       "AgeOfVehicle                 int32\n",
       "AgeOfPolicyHolder          float64\n",
       "PoliceReportFiled            int32\n",
       "WitnessPresent               int32\n",
       "AgentType                    int32\n",
       "NumberOfSuppliments          int32\n",
       "AddressChange_Claim        float64\n",
       "NumberOfCars               float64\n",
       "Year                         int64\n",
       "BasePolicy_Liability         int64\n",
       "BasePolicy_Collision         int64\n",
       "BasePolicy_All Perils        int64\n",
       "dtype: object"
      ]
     },
     "execution_count": 14,
     "metadata": {},
     "output_type": "execute_result"
    }
   ],
   "source": [
    "from category_encoders.ordinal import OrdinalEncoder\n",
    "from category_encoders.binary import BinaryEncoder\n",
    "from category_encoders.one_hot import OneHotEncoder\n",
    "\n",
    "#implementing one-hot encoding\n",
    "one_hot_encoder = OneHotEncoder(cols = ['Make','MaritalStatus','VehicleCategory','BasePolicy'],use_cat_names=True, return_df=True) \n",
    "\n",
    "#implementing label encoding, with random assignment of integers to each label\n",
    "# assumes no natrual underlying order to the feature labels\n",
    "ord_encoder1 = OrdinalEncoder(cols = ['Make','MaritalStatus','VehicleCategory','BasePolicy'],return_df=True)\n",
    "\n",
    "#implementing binary encoding\n",
    "#represents the data \n",
    "bi_encoder = BinaryEncoder(cols = ['Make','MaritalStatus','VehicleCategory','BasePolicy'], return_df=True)\n",
    "\n",
    "#implimented a simple switch to change how I wanted to encode the variables\n",
    "#Allowed for a updating the independet variables quickly and not missing a code box\n",
    "\n",
    "switch_val = 0\n",
    "if switch_val ==0:\n",
    "    X4 = one_hot_encoder.fit_transform(X3)\n",
    "elif switch_val==1:\n",
    "    X4 = ord_encoder1.fit_transform(X3)\n",
    "else:\n",
    "    X4 = bi_encoder.fit_transform(X3)\n",
    "    \n",
    "X4.dtypes\n"
   ]
  },
  {
   "cell_type": "code",
   "execution_count": 121,
   "metadata": {},
   "outputs": [
    {
     "name": "stdout",
     "output_type": "stream",
     "text": [
      "(0.9586188883272508, 0.0)\n",
      "(0.8335242937029941, 0.0)\n",
      "(0.9444321895996501, 0.0)\n"
     ]
    }
   ],
   "source": [
    "from scipy.stats import pearsonr\n",
    "print(pearsonr(X4.Age, X4.AgeOfPolicyHolder))\n",
    "print(pearsonr(X4.MonthClaimed, X4.Month))\n",
    "print(pearsonr(X4.BasePolicy_Liability,X4.VehicleCategory_Sport))"
   ]
  },
  {
   "cell_type": "code",
   "execution_count": null,
   "metadata": {},
   "outputs": [],
   "source": [
    "X4.corr()"
   ]
  },
  {
   "cell_type": "markdown",
   "metadata": {},
   "source": [
    "### drop"
   ]
  },
  {
   "cell_type": "code",
   "execution_count": 132,
   "metadata": {},
   "outputs": [],
   "source": [
    "drop = ['Make_Honda', 'Make_Toyota','Make_Toyota', 'Make_Ford','Make_Mazda','Make_Chevrolet','Make_Pontiac',\n",
    "        'Make_Accura', 'Make_Accura','Make_Dodge', 'Make_Mercury', 'Make_Jaguar','Make_Nisson','Make_VW','Make_Saab',\n",
    "        'Make_Saturn','Make_Porche','Make_BMW','Make_BMW','Make_Mecedes','Make_Ferrari','Make_Lexus',\n",
    "        'AgeOfPolicyHolder']\n",
    "X5 = X4.copy()                 \n",
    "Irrelevant_col(X5, drop)"
   ]
  },
  {
   "cell_type": "markdown",
   "metadata": {},
   "source": [
    "# (3)splitting our data to train, validation and test sets\n"
   ]
  },
  {
   "cell_type": "code",
   "execution_count": 22,
   "metadata": {
    "execution": {
     "iopub.execute_input": "2022-04-12T13:02:02.353315Z",
     "iopub.status.busy": "2022-04-12T13:02:02.353055Z",
     "iopub.status.idle": "2022-04-12T13:02:02.381292Z",
     "shell.execute_reply": "2022-04-12T13:02:02.380431Z",
     "shell.execute_reply.started": "2022-04-12T13:02:02.353283Z"
    }
   },
   "outputs": [],
   "source": [
    "\n",
    "def train_val_test_split(X, y, train_ratio, validation_ratio, test_ratio):\n",
    "    X_train, X_test, y_train, y_test = train_test_split(X, y, test_size=test_ratio, random_state = 3)\n",
    "    X_train, X_valid, y_train, y_valid = train_test_split(X_train, y_train,\n",
    "                                                          test_size= validation_ratio/(train_ratio+validation_ratio), random_state =3)\n",
    "    return X_train, y_train, X_valid, y_valid,  X_test, y_test"
   ]
  },
  {
   "cell_type": "code",
   "execution_count": 23,
   "metadata": {},
   "outputs": [
    {
     "name": "stdout",
     "output_type": "stream",
     "text": [
      "(10793, 55)\n",
      "(1542, 55)\n",
      "(3085, 55)\n",
      "(10793,)\n",
      "(1542,)\n",
      "(3085,)\n",
      "0.20006485084306097\n"
     ]
    }
   ],
   "source": [
    "random.seed(10)\n",
    "X_train, y_train, X_valid, y_valid,  X_test, y_test = train_val_test_split(X= X4, y = y, train_ratio= 0.7, validation_ratio= 0.2, test_ratio = 0.1)\n",
    "\n",
    "print(X_train.shape)\n",
    "print(X_test.shape)\n",
    "print(X_valid.shape)\n",
    "print(y_train.shape)\n",
    "print(y_test.shape)\n",
    "print(y_valid.shape)\n",
    "print(len(y_valid)/len(y))"
   ]
  },
  {
   "cell_type": "code",
   "execution_count": 123,
   "metadata": {},
   "outputs": [
    {
     "name": "stdout",
     "output_type": "stream",
     "text": [
      "(10793, 35)\n",
      "(1542, 35)\n",
      "(3085, 35)\n",
      "(10793,)\n",
      "(1542,)\n",
      "(3085,)\n",
      "0.20006485084306097\n"
     ]
    }
   ],
   "source": [
    "X_train1, y_train1, X_valid1, y_valid1,  X_test1, y_test1 = train_val_test_split(X= X5, y = y, train_ratio= 0.7, validation_ratio= 0.2, test_ratio = 0.1)\n",
    "\n",
    "print(X_train1.shape)\n",
    "print(X_test1.shape)\n",
    "print(X_valid1.shape)\n",
    "print(y_train1.shape)\n",
    "print(y_test1.shape)\n",
    "print(y_valid1.shape)\n",
    "print(len(y_valid1)/len(y))"
   ]
  },
  {
   "cell_type": "markdown",
   "metadata": {},
   "source": [
    "# (5) **Oversamling** , **undersampling**, **cost-sensativity**"
   ]
  },
  {
   "cell_type": "markdown",
   "metadata": {},
   "source": [
    "#### (5.1) oversampling"
   ]
  },
  {
   "cell_type": "code",
   "execution_count": 25,
   "metadata": {
    "execution": {
     "iopub.execute_input": "2022-04-12T13:02:03.274489Z",
     "iopub.status.busy": "2022-04-12T13:02:03.273797Z",
     "iopub.status.idle": "2022-04-12T13:02:03.366723Z",
     "shell.execute_reply": "2022-04-12T13:02:03.365827Z",
     "shell.execute_reply.started": "2022-04-12T13:02:03.274437Z"
    }
   },
   "outputs": [
    {
     "name": "stdout",
     "output_type": "stream",
     "text": [
      "Original traim shape Counter({0: 10143, 1: 650})\n",
      "Resampled train shape Counter({0: 10143, 1: 10143})\n"
     ]
    }
   ],
   "source": [
    "\n",
    "print('Original traim shape %s' % Counter(y_train))\n",
    "sm = SMOTE(random_state=2022)\n",
    "X_res, y_res = sm.fit_resample(X_train, y_train)\n",
    "print('Resampled train shape %s' % Counter(y_res))\n"
   ]
  },
  {
   "cell_type": "code",
   "execution_count": 133,
   "metadata": {},
   "outputs": [
    {
     "name": "stdout",
     "output_type": "stream",
     "text": [
      "Original traim shape Counter({0: 10143, 1: 650})\n",
      "Resampled train shape Counter({0: 10143, 1: 10143})\n"
     ]
    }
   ],
   "source": [
    "print('Original traim shape %s' % Counter(y_train1))\n",
    "sm = SMOTE(random_state=2022)\n",
    "X_res1, y_res1 = sm.fit_resample(X_train1, y_train1)\n",
    "print('Resampled train shape %s' % Counter(y_res1))"
   ]
  },
  {
   "cell_type": "markdown",
   "metadata": {},
   "source": [
    "#### (5.1) undersampling"
   ]
  },
  {
   "cell_type": "code",
   "execution_count": 27,
   "metadata": {},
   "outputs": [
    {
     "name": "stdout",
     "output_type": "stream",
     "text": [
      "Resampled train shape Counter({0: 650, 1: 650})\n"
     ]
    }
   ],
   "source": [
    "undersample = NearMiss(version=1, n_neighbors=3)\n",
    "# transform the dataset\n",
    "X_under, y_under = undersample.fit_resample(X_train, y_train)\n",
    "# summarize the new class distribution\n",
    "print('Resampled train shape %s' % Counter(y_under))"
   ]
  },
  {
   "cell_type": "code",
   "execution_count": 45,
   "metadata": {},
   "outputs": [
    {
     "name": "stdout",
     "output_type": "stream",
     "text": [
      "Resampled train shape Counter({0: 650, 1: 650})\n"
     ]
    }
   ],
   "source": [
    "undersample = NearMiss(version=1, n_neighbors=3)\n",
    "# transform the dataset\n",
    "X_under1, y_under1 = undersample.fit_resample(X_train1, y_train1)\n",
    "# summarize the new class distribution\n",
    "print('Resampled train shape %s' % Counter(y_under1))"
   ]
  },
  {
   "cell_type": "markdown",
   "metadata": {},
   "source": [
    "#### (5.2) classifiers"
   ]
  },
  {
   "cell_type": "markdown",
   "metadata": {},
   "source": [
    "###### RF"
   ]
  },
  {
   "cell_type": "code",
   "execution_count": 29,
   "metadata": {},
   "outputs": [],
   "source": [
    "# Random forest\n",
    "rf = RandomForestClassifier(n_estimators = 100, max_features ='sqrt', random_state = 3, max_depth =5)\n",
    "rf.fit(X_train, y_train)\n",
    "rf_pred = rf.predict(X_valid)\n"
   ]
  },
  {
   "cell_type": "markdown",
   "metadata": {},
   "source": [
    "###### RF - SMOTH"
   ]
  },
  {
   "cell_type": "code",
   "execution_count": 30,
   "metadata": {
    "execution": {
     "iopub.execute_input": "2022-04-12T13:02:03.368535Z",
     "iopub.status.busy": "2022-04-12T13:02:03.368131Z",
     "iopub.status.idle": "2022-04-12T13:02:04.545532Z",
     "shell.execute_reply": "2022-04-12T13:02:04.544568Z",
     "shell.execute_reply.started": "2022-04-12T13:02:03.368486Z"
    }
   },
   "outputs": [],
   "source": [
    "rf_smoth = RandomForestClassifier(n_estimators = 100, max_features ='sqrt', random_state = 2022, max_depth =5)\n",
    "rf_smoth.fit(X_res, y_res)\n",
    "rf_smoth_pred = rf_smoth.predict(X_valid)"
   ]
  },
  {
   "cell_type": "code",
   "execution_count": 134,
   "metadata": {},
   "outputs": [],
   "source": [
    "rf_smoth1 = RandomForestClassifier(n_estimators = 100, max_features ='sqrt', random_state = 2022, max_depth =5)\n",
    "rf_smoth1.fit(X_res1, y_res1)\n",
    "rf_smoth1_pred = rf_smoth1.predict(X_valid1)"
   ]
  },
  {
   "cell_type": "markdown",
   "metadata": {},
   "source": [
    "###### RF-NearMiss"
   ]
  },
  {
   "cell_type": "code",
   "execution_count": 43,
   "metadata": {},
   "outputs": [],
   "source": [
    "rf_nearmiss = RandomForestClassifier(n_estimators = 100, max_features ='sqrt', random_state = 2022, max_depth =5)\n",
    "rf_nearmiss.fit(X_under, y_under)\n",
    "rf_nearmiss_pred = rf_nearmiss.predict(X_valid)"
   ]
  },
  {
   "cell_type": "code",
   "execution_count": 46,
   "metadata": {},
   "outputs": [],
   "source": [
    "rf_nearmiss1 = RandomForestClassifier(n_estimators = 100, max_features ='sqrt', random_state = 2022, max_depth =5)\n",
    "rf_nearmiss1.fit(X_under1, y_under1)\n",
    "rf_nearmiss1_pred = rf_nearmiss1.predict(X_valid1)"
   ]
  },
  {
   "cell_type": "markdown",
   "metadata": {},
   "source": [
    "###### RF- CS"
   ]
  },
  {
   "cell_type": "code",
   "execution_count": 53,
   "metadata": {},
   "outputs": [],
   "source": [
    "rf_cs = RandomForestClassifier(n_estimators = 100, max_features ='sqrt', random_state = 2022, max_depth =5, \n",
    "                                       class_weight={0: 1 ,1:16})\n",
    "rf_cs.fit(X_train, y_train)\n",
    "rf_cs_pred = rf_cs.predict(X_valid)"
   ]
  },
  {
   "cell_type": "code",
   "execution_count": 135,
   "metadata": {},
   "outputs": [],
   "source": [
    "rf_cs1 = RandomForestClassifier(n_estimators = 100, max_features ='sqrt', random_state = 2022, max_depth =5, \n",
    "                                       class_weight={0: 1 ,1:16})\n",
    "rf_cs1.fit(X_train1, y_train1)\n",
    "rf_cs1_pred = rf_cs1.predict(X_valid1)"
   ]
  },
  {
   "cell_type": "markdown",
   "metadata": {},
   "source": [
    "### feature importance"
   ]
  },
  {
   "cell_type": "code",
   "execution_count": 128,
   "metadata": {},
   "outputs": [
    {
     "data": {
      "image/png": "[encoded data removed]",
      "text/plain": [
       "<Figure size 432x288 with 1 Axes>"
      ]
     },
     "metadata": {
      "needs_background": "light"
     },
     "output_type": "display_data"
    }
   ],
   "source": [
    "feature_names = [f\"feature {i}\" for i in range(X_res.shape[1])]\n",
    "importances = rf_smoth.feature_importances_\n",
    "std = np.std([tree.feature_importances_ for tree in rf_smoth.estimators_], axis=0)\n",
    "std = pd.Series(std, index = X_res.columns)\n",
    "forest_importances = pd.Series(importances, index=X_res.columns)\n",
    "forest_importances = forest_importances.sort_values(ascending=False)\n",
    "std = std[forest_importances.index[0:10]]\n",
    "fig, ax = plt.subplots()\n",
    "ax.barh(forest_importances.index[0:10], forest_importances[0:10], xerr=std, align='center')\n",
    "ax.invert_yaxis()  # labels read top-to-bottom\n",
    "ax.set_title(\"Feature importances using MDI\")\n",
    "ax.set_xlabel(\"Mean decrease in impurity\")\n",
    "plt.xlim(0,0.4)\n",
    "fig.tight_layout()"
   ]
  },
  {
   "cell_type": "code",
   "execution_count": 136,
   "metadata": {},
   "outputs": [
    {
     "data": {
      "image/png": "[encoded data removed]",
      "text/plain": [
       "<Figure size 432x288 with 1 Axes>"
      ]
     },
     "metadata": {
      "needs_background": "light"
     },
     "output_type": "display_data"
    }
   ],
   "source": [
    "feature_names = [f\"feature {i}\" for i in range(X_res1.shape[1])]\n",
    "importances = rf_smoth1.feature_importances_\n",
    "std = np.std([tree.feature_importances_ for tree in rf_smoth1.estimators_], axis=0)\n",
    "std = pd.Series(std, index = X_res1.columns)\n",
    "forest_importances = pd.Series(importances, index=X_res1.columns)\n",
    "forest_importances = forest_importances.sort_values(ascending=False)\n",
    "std = std[forest_importances.index[0:10]]\n",
    "fig, ax = plt.subplots()\n",
    "ax.barh(forest_importances.index[0:10], forest_importances[0:10], xerr=std, align='center')\n",
    "ax.invert_yaxis()  # labels read top-to-bottom\n",
    "ax.set_title(\"Feature importances using MDI\")\n",
    "ax.set_xlabel(\"Mean decrease in impurity\")\n",
    "plt.xlim(0,0.4)\n",
    "fig.tight_layout()"
   ]
  },
  {
   "cell_type": "code",
   "execution_count": 48,
   "metadata": {},
   "outputs": [
    {
     "data": {
      "image/png": "[encoded data removed]",
      "text/plain": [
       "<Figure size 432x288 with 1 Axes>"
      ]
     },
     "metadata": {
      "needs_background": "light"
     },
     "output_type": "display_data"
    }
   ],
   "source": [
    "feature_names = [f\"feature {i}\" for i in range(X_under.shape[1])]\n",
    "importances = rf_nearmiss.feature_importances_\n",
    "std = np.std([tree.feature_importances_ for tree in rf_nearmiss.estimators_], axis=0)\n",
    "std = pd.Series(std, index = X_under.columns)\n",
    "forest_importances = pd.Series(importances, index=X_under.columns)\n",
    "forest_importances = forest_importances.sort_values(ascending=False)\n",
    "std = std[forest_importances.index[0:10]]\n",
    "fig, ax = plt.subplots()\n",
    "ax.barh(forest_importances.index[0:10], forest_importances[0:10], xerr=std, align='center')\n",
    "ax.invert_yaxis()  # labels read top-to-bottom\n",
    "ax.set_title(\"Feature importances using MDI\")\n",
    "ax.set_xlabel(\"Mean decrease in impurity\")\n",
    "plt.xlim(0,0.3)\n",
    "fig.tight_layout()"
   ]
  },
  {
   "cell_type": "code",
   "execution_count": 47,
   "metadata": {},
   "outputs": [
    {
     "data": {
      "image/png": "[encoded data removed]",
      "text/plain": [
       "<Figure size 432x288 with 1 Axes>"
      ]
     },
     "metadata": {
      "needs_background": "light"
     },
     "output_type": "display_data"
    }
   ],
   "source": [
    "feature_names = [f\"feature {i}\" for i in range(X_under1.shape[1])]\n",
    "importances = rf_nearmiss1.feature_importances_\n",
    "std = np.std([tree.feature_importances_ for tree in rf_nearmiss1.estimators_], axis=0)\n",
    "std = pd.Series(std, index = X_under1.columns)\n",
    "forest_importances = pd.Series(importances, index=X_under1.columns)\n",
    "forest_importances = forest_importances.sort_values(ascending=False)\n",
    "std = std[forest_importances.index[0:10]]\n",
    "fig, ax = plt.subplots()\n",
    "ax.barh(forest_importances.index[0:10], forest_importances[0:10], xerr=std, align='center')\n",
    "ax.invert_yaxis()  # labels read top-to-bottom\n",
    "ax.set_title(\"Feature importances using MDI\")\n",
    "ax.set_xlabel(\"Mean decrease in impurity\")\n",
    "plt.xlim(0,0.3)\n",
    "fig.tight_layout()"
   ]
  },
  {
   "cell_type": "code",
   "execution_count": 56,
   "metadata": {},
   "outputs": [
    {
     "data": {
      "image/png": "[encoded data removed]",
      "text/plain": [
       "<Figure size 432x288 with 1 Axes>"
      ]
     },
     "metadata": {
      "needs_background": "light"
     },
     "output_type": "display_data"
    }
   ],
   "source": [
    "feature_names = [f\"feature {i}\" for i in range(X_train.shape[1])]\n",
    "importances = rf_cs.feature_importances_\n",
    "std = np.std([tree.feature_importances_ for tree in rf_cs.estimators_], axis=0)\n",
    "std = pd.Series(std, index = X_train.columns)\n",
    "forest_importances = pd.Series(importances, index=X_train.columns)\n",
    "forest_importances = forest_importances.sort_values(ascending=False)\n",
    "std = std[forest_importances.index[0:10]]\n",
    "fig, ax = plt.subplots()\n",
    "ax.barh(forest_importances.index[0:10], forest_importances[0:10], xerr=std, align='center')\n",
    "ax.invert_yaxis()  # labels read top-to-bottom\n",
    "ax.set_title(\"Feature importances using MDI\")\n",
    "ax.set_xlabel(\"Mean decrease in impurity\")\n",
    "plt.xlim(0,0.3)\n",
    "fig.tight_layout()"
   ]
  },
  {
   "cell_type": "code",
   "execution_count": 137,
   "metadata": {},
   "outputs": [
    {
     "data": {
      "image/png": "[encoded data removed]",
      "text/plain": [
       "<Figure size 432x288 with 1 Axes>"
      ]
     },
     "metadata": {
      "needs_background": "light"
     },
     "output_type": "display_data"
    }
   ],
   "source": [
    "feature_names = [f\"feature {i}\" for i in range(X_train1.shape[1])]\n",
    "importances = rf_cs1.feature_importances_\n",
    "std = np.std([tree.feature_importances_ for tree in rf_cs1.estimators_], axis=0)\n",
    "std = pd.Series(std, index = X_train1.columns)\n",
    "forest_importances = pd.Series(importances, index=X_train1.columns)\n",
    "forest_importances = forest_importances.sort_values(ascending=False)\n",
    "std = std[forest_importances.index[0:10]]\n",
    "fig, ax = plt.subplots()\n",
    "ax.barh(forest_importances.index[0:10], forest_importances[0:10], xerr=std, align='center')\n",
    "ax.invert_yaxis()  # labels read top-to-bottom\n",
    "ax.set_title(\"Feature importances using MDI\")\n",
    "ax.set_xlabel(\"Mean decrease in impurity\")\n",
    "plt.xlim(0,0.3)\n",
    "fig.tight_layout()"
   ]
  },
  {
   "cell_type": "markdown",
   "metadata": {},
   "source": [
    "##### NB- SMOTH"
   ]
  },
  {
   "cell_type": "code",
   "execution_count": 78,
   "metadata": {
    "execution": {
     "iopub.execute_input": "2022-04-12T13:02:05.655132Z",
     "iopub.status.busy": "2022-04-12T13:02:05.654726Z",
     "iopub.status.idle": "2022-04-12T13:02:05.780032Z",
     "shell.execute_reply": "2022-04-12T13:02:05.779003Z",
     "shell.execute_reply.started": "2022-04-12T13:02:05.655085Z"
    }
   },
   "outputs": [
    {
     "data": {
      "text/plain": [
       "array(['DayOfWeekClaimed', 'MonthClaimed', 'Age', 'Fault',\n",
       "       'VehicleCategory_Sport', 'PastNumberOfClaims', 'AgeOfPolicyHolder',\n",
       "       'NumberOfSuppliments', 'AddressChange_Claim', 'NumberOfCars',\n",
       "       'BasePolicy_Liability'], dtype=object)"
      ]
     },
     "execution_count": 78,
     "metadata": {},
     "output_type": "execute_result"
    }
   ],
   "source": [
    "mutual_filter = SelectKBest(mutual_info_classif, k=11)\n",
    "naiv_b = BernoulliNB(alpha=1)\n",
    "nb_smoth = make_pipeline(mutual_filter, StandardScaler(), naiv_b)\n",
    "nb_smoth.fit(X_res, y_res)\n",
    "nb_smoth_pred = nb_smoth.predict(X_valid)\n",
    "mutual_filter.feature_names_in_[mutual_filter.get_support(indices=True)]"
   ]
  },
  {
   "cell_type": "code",
   "execution_count": 109,
   "metadata": {},
   "outputs": [
    {
     "data": {
      "text/plain": [
       "array(['DayOfWeekClaimed', 'MonthClaimed', 'Age', 'Fault',\n",
       "       'VehicleCategory_Sport', 'PastNumberOfClaims', 'AgeOfPolicyHolder',\n",
       "       'NumberOfSuppliments', 'AddressChange_Claim', 'NumberOfCars',\n",
       "       'BasePolicy_Liability'], dtype=object)"
      ]
     },
     "execution_count": 109,
     "metadata": {},
     "output_type": "execute_result"
    }
   ],
   "source": [
    "mutual_filter = SelectKBest(mutual_info_classif, k=11)\n",
    "naiv_b = BernoulliNB(alpha=1)\n",
    "nb_smoth1 = make_pipeline(mutual_filter, StandardScaler(), naiv_b)\n",
    "nb_smoth1.fit(X_res1, y_res1)\n",
    "nb_smoth1_pred = nb_smoth1.predict(X_valid1)\n",
    "mutual_filter.feature_names_in_[mutual_filter.get_support(indices=True)]"
   ]
  },
  {
   "cell_type": "markdown",
   "metadata": {},
   "source": [
    "##### NB- NearMiss"
   ]
  },
  {
   "cell_type": "code",
   "execution_count": null,
   "metadata": {},
   "outputs": [],
   "source": []
  },
  {
   "cell_type": "markdown",
   "metadata": {},
   "source": [
    "##### NB- CS"
   ]
  },
  {
   "cell_type": "markdown",
   "metadata": {},
   "source": [
    "#### SVM - SMOTH"
   ]
  },
  {
   "cell_type": "code",
   "execution_count": 60,
   "metadata": {},
   "outputs": [
    {
     "data": {
      "text/plain": [
       "array(['DayOfWeekClaimed', 'MonthClaimed', 'Sex', 'Age', 'Fault',\n",
       "       'VehicleCategory_Sport', 'PastNumberOfClaims', 'AgeOfPolicyHolder',\n",
       "       'NumberOfSuppliments', 'AddressChange_Claim', 'NumberOfCars',\n",
       "       'BasePolicy_Liability'], dtype=object)"
      ]
     },
     "execution_count": 60,
     "metadata": {},
     "output_type": "execute_result"
    }
   ],
   "source": [
    "mutual_filter = SelectKBest(mutual_info_classif, k=12)\n",
    "svm = SVC(gamma='auto')\n",
    "svm_smoth = make_pipeline(mutual_filter, StandardScaler(), svm)\n",
    "svm_smoth.fit(X_res, y_res)\n",
    "svm_smoth_pred = svm_smoth.predict(X_valid)\n",
    "mutual_filter.feature_names_in_[mutual_filter.get_support(indices=True)]"
   ]
  },
  {
   "cell_type": "code",
   "execution_count": 107,
   "metadata": {},
   "outputs": [
    {
     "data": {
      "text/plain": [
       "array(['DayOfWeekClaimed', 'MonthClaimed', 'Age', 'Fault',\n",
       "       'VehicleCategory_Sport', 'PastNumberOfClaims', 'AgeOfPolicyHolder',\n",
       "       'NumberOfSuppliments', 'AddressChange_Claim', 'NumberOfCars',\n",
       "       'Year', 'BasePolicy_Liability'], dtype=object)"
      ]
     },
     "execution_count": 107,
     "metadata": {},
     "output_type": "execute_result"
    }
   ],
   "source": [
    "mutual_filter = SelectKBest(mutual_info_classif, k=12)\n",
    "svm = SVC(gamma='auto')\n",
    "svm_smoth1 = make_pipeline(mutual_filter, StandardScaler(), svm)\n",
    "svm_smoth1.fit(X_res1, y_res1)\n",
    "svm_smoth1_pred = svm_smoth1.predict(X_valid1)\n",
    "mutual_filter.feature_names_in_[mutual_filter.get_support(indices=True)]"
   ]
  },
  {
   "cell_type": "markdown",
   "metadata": {},
   "source": [
    "#### SVM - NearMiss"
   ]
  },
  {
   "cell_type": "code",
   "execution_count": 65,
   "metadata": {},
   "outputs": [
    {
     "data": {
      "text/plain": [
       "array(['DayOfWeek', 'MonthClaimed', 'WeekOfMonthClaimed', 'Age', 'Fault',\n",
       "       'VehicleCategory_Sport', 'VehiclePrice', 'Deductible',\n",
       "       'PastNumberOfClaims', 'AgeOfVehicle', 'AgeOfPolicyHolder',\n",
       "       'NumberOfSuppliments', 'AddressChange_Claim',\n",
       "       'BasePolicy_Liability'], dtype=object)"
      ]
     },
     "execution_count": 65,
     "metadata": {},
     "output_type": "execute_result"
    }
   ],
   "source": [
    "mutual_filter = SelectKBest(mutual_info_classif, k=14)\n",
    "svm = SVC(gamma='auto')\n",
    "svm_nearmiss = make_pipeline(mutual_filter, StandardScaler(), svm)\n",
    "svm_nearmiss.fit(X_under, y_under)\n",
    "svm_nearmiss_pred = svm_nearmiss.predict(X_valid)\n",
    "mutual_filter.feature_names_in_[mutual_filter.get_support(indices=True)]"
   ]
  },
  {
   "cell_type": "code",
   "execution_count": 68,
   "metadata": {},
   "outputs": [
    {
     "data": {
      "text/plain": [
       "array(['DayOfWeek', 'MaritalStatus_Divorced', 'Age', 'Fault',\n",
       "       'VehicleCategory_Sport', 'VehicleCategory_Sedan', 'VehiclePrice',\n",
       "       'Deductible', 'PastNumberOfClaims', 'AgeOfVehicle',\n",
       "       'WitnessPresent', 'NumberOfSuppliments', 'AddressChange_Claim',\n",
       "       'BasePolicy_Liability'], dtype=object)"
      ]
     },
     "execution_count": 68,
     "metadata": {},
     "output_type": "execute_result"
    }
   ],
   "source": [
    "mutual_filter = SelectKBest(mutual_info_classif, k=14)\n",
    "svm = SVC(gamma='auto')\n",
    "svm_nearmiss1 = make_pipeline(mutual_filter, StandardScaler(), svm)\n",
    "svm_nearmiss1.fit(X_under1, y_under1)\n",
    "svm_nearmiss1_pred = svm_nearmiss1.predict(X_valid1)\n",
    "mutual_filter.feature_names_in_[mutual_filter.get_support(indices=True)]"
   ]
  },
  {
   "cell_type": "markdown",
   "metadata": {},
   "source": [
    "#### SVM - CS"
   ]
  },
  {
   "cell_type": "code",
   "execution_count": 72,
   "metadata": {},
   "outputs": [
    {
     "data": {
      "text/plain": [
       "array(['Month', 'Make_Mercury', 'Make_Lexus', 'DayOfWeekClaimed', 'Sex',\n",
       "       'Fault', 'VehicleCategory_Sport', 'VehicleCategory_Sedan',\n",
       "       'Deductible', 'DriverRating', 'PastNumberOfClaims',\n",
       "       'AgeOfPolicyHolder', 'BasePolicy_Liability',\n",
       "       'BasePolicy_All Perils'], dtype=object)"
      ]
     },
     "execution_count": 72,
     "metadata": {},
     "output_type": "execute_result"
    }
   ],
   "source": [
    "mutual_filter = SelectKBest(mutual_info_classif, k=14)\n",
    "svm = SVC(gamma='auto', class_weight = {0:1 , 1:20})\n",
    "svm_cs = make_pipeline(mutual_filter, StandardScaler(), svm)\n",
    "svm_cs.fit(X_train, y_train)\n",
    "svm_cs_pred = svm_cs.predict(X_valid)\n",
    "mutual_filter.feature_names_in_[mutual_filter.get_support(indices=True)]"
   ]
  },
  {
   "cell_type": "code",
   "execution_count": 108,
   "metadata": {},
   "outputs": [
    {
     "data": {
      "text/plain": [
       "array(['Month', 'Sex', 'Fault', 'VehicleCategory_Sport',\n",
       "       'VehicleCategory_Sedan', 'Deductible', 'Days_Policy_Accident',\n",
       "       'AgentType', 'AddressChange_Claim', 'NumberOfCars', 'Year',\n",
       "       'BasePolicy_Liability', 'BasePolicy_Collision',\n",
       "       'BasePolicy_All Perils'], dtype=object)"
      ]
     },
     "execution_count": 108,
     "metadata": {},
     "output_type": "execute_result"
    }
   ],
   "source": [
    "mutual_filter = SelectKBest(mutual_info_classif, k=14)\n",
    "svm = SVC(gamma='auto', class_weight = {0:1 , 1:20})\n",
    "svm_cs1 = make_pipeline(mutual_filter, StandardScaler(), svm)\n",
    "svm_cs1.fit(X_train1, y_train1)\n",
    "svm_cs1_pred = svm_cs1.predict(X_valid1)\n",
    "mutual_filter.feature_names_in_[mutual_filter.get_support(indices=True)]\n"
   ]
  },
  {
   "cell_type": "markdown",
   "metadata": {},
   "source": [
    "#### (5.2) measures"
   ]
  },
  {
   "cell_type": "code",
   "execution_count": 39,
   "metadata": {},
   "outputs": [],
   "source": [
    "def eval_pref(pred, y, classifier, model):\n",
    "    precision, recall, thresholds = precision_recall_curve(y, pred)\n",
    "    auc1 = auc(recall, precision)\n",
    "    print(model,':')\n",
    "    print('Accuarcy: ', accuracy_score(y,pred))\n",
    "    print('Roc_Auc: ', roc_auc_score(y,pred))\n",
    "    print('G-mean: ', geometric_mean_score(y,pred))\n",
    "    print('F1-score: ', f1_score(y,pred))\n",
    "    print('F2-score: ', fbeta_score(y, pred, beta=0.5))\n",
    "    print('AUC-PR: ', auc1)\n",
    "    cm = confusion_matrix(y, pred, labels=classifier.classes_)\n",
    "    disp = ConfusionMatrixDisplay(confusion_matrix=cm,\n",
    "                              display_labels=['Not Fraud', 'Fraud'])\n",
    "    disp.plot()"
   ]
  },
  {
   "cell_type": "code",
   "execution_count": 71,
   "metadata": {},
   "outputs": [
    {
     "name": "stdout",
     "output_type": "stream",
     "text": [
      "RF :\n",
      "Accuarcy:  0.9410048622366288\n",
      "Roc_Auc:  0.5\n",
      "G-mean:  0.0\n",
      "F1-score:  0.0\n",
      "F2-score:  0.0\n",
      "AUC-PR:  0.5294975688816855\n"
     ]
    },
    {
     "data": {
      "image/png": "[encoded data removed]",
      "text/plain": [
       "<Figure size 432x288 with 2 Axes>"
      ]
     },
     "metadata": {
      "needs_background": "light"
     },
     "output_type": "display_data"
    }
   ],
   "source": [
    "eval_pref(rf_pred, y_valid, rf, 'RF')"
   ]
  },
  {
   "cell_type": "code",
   "execution_count": 40,
   "metadata": {},
   "outputs": [
    {
     "name": "stdout",
     "output_type": "stream",
     "text": [
      "RF-SMOTH :\n",
      "Accuarcy:  0.7251215559157212\n",
      "Roc_Auc:  0.673692996634781\n",
      "G-mean:  0.6711649472303634\n",
      "F1-score:  0.20895522388059704\n",
      "F2-score:  0.14965259219668625\n",
      "AUC-PR:  0.38195887480756274\n"
     ]
    },
    {
     "data": {
      "image/png": "[encoded data removed]",
      "text/plain": [
       "<Figure size 432x288 with 2 Axes>"
      ]
     },
     "metadata": {
      "needs_background": "light"
     },
     "output_type": "display_data"
    }
   ],
   "source": [
    "eval_pref(rf_smoth_pred, y_valid, rf_smoth, 'RF-SMOTH')"
   ]
  },
  {
   "cell_type": "code",
   "execution_count": 138,
   "metadata": {},
   "outputs": [
    {
     "name": "stdout",
     "output_type": "stream",
     "text": [
      "RF-SMOTH1 :\n",
      "Accuarcy:  0.7306320907617504\n",
      "Roc_Auc:  0.6843460535331014\n",
      "G-mean:  0.6823309964555735\n",
      "F1-score:  0.2167766258246937\n",
      "F2-score:  0.15548945375878853\n",
      "AUC-PR:  0.39220830566796133\n"
     ]
    },
    {
     "data": {
      "image/png": "[encoded data removed]",
      "text/plain": [
       "<Figure size 432x288 with 2 Axes>"
      ]
     },
     "metadata": {
      "needs_background": "light"
     },
     "output_type": "display_data"
    }
   ],
   "source": [
    "eval_pref(rf_smoth1_pred, y_valid1, rf_smoth1, 'RF-SMOTH1')"
   ]
  },
  {
   "cell_type": "code",
   "execution_count": 50,
   "metadata": {},
   "outputs": [
    {
     "name": "stdout",
     "output_type": "stream",
     "text": [
      "RF-NearMiss :\n",
      "Accuarcy:  0.506320907617504\n",
      "Roc_Auc:  0.6578596222929671\n",
      "G-mean:  0.635027844644576\n",
      "F1-score:  0.16547945205479453\n",
      "F2-score:  0.11178560852827954\n",
      "AUC-PR:  0.46581200188562505\n"
     ]
    },
    {
     "data": {
      "image/png": "[encoded data removed]",
      "text/plain": [
       "<Figure size 432x288 with 2 Axes>"
      ]
     },
     "metadata": {
      "needs_background": "light"
     },
     "output_type": "display_data"
    }
   ],
   "source": [
    "eval_pref(rf_nearmiss_pred, y_valid, rf_nearmiss, 'RF-NearMiss')"
   ]
  },
  {
   "cell_type": "code",
   "execution_count": 52,
   "metadata": {},
   "outputs": [
    {
     "name": "stdout",
     "output_type": "stream",
     "text": [
      "RF-NearMiss1 :\n",
      "Accuarcy:  0.4392220421393841\n",
      "Roc_Auc:  0.6119067807838046\n",
      "G-mean:  0.5797395413652228\n",
      "F1-score:  0.14525691699604742\n",
      "F2-score:  0.09735099337748343\n",
      "AUC-PR:  0.4494210433767712\n"
     ]
    },
    {
     "data": {
      "image/png": "[encoded data removed]",
      "text/plain": [
       "<Figure size 432x288 with 2 Axes>"
      ]
     },
     "metadata": {
      "needs_background": "light"
     },
     "output_type": "display_data"
    }
   ],
   "source": [
    "eval_pref(rf_nearmiss1_pred, y_valid1, rf_nearmiss1, 'RF-NearMiss1')"
   ]
  },
  {
   "cell_type": "code",
   "execution_count": 139,
   "metadata": {},
   "outputs": [
    {
     "name": "stdout",
     "output_type": "stream",
     "text": [
      "RF-CS :\n",
      "Accuarcy:  0.5889789303079417\n",
      "Roc_Auc:  0.7532800475446013\n",
      "G-mean:  0.7298838575960032\n",
      "F1-score:  0.2124223602484472\n",
      "F2-score:  0.14506277570410586\n",
      "AUC-PR:  0.5314369894572964\n"
     ]
    },
    {
     "data": {
      "image/png": "[encoded data removed]",
      "text/plain": [
       "<Figure size 432x288 with 2 Axes>"
      ]
     },
     "metadata": {
      "needs_background": "light"
     },
     "output_type": "display_data"
    }
   ],
   "source": [
    "eval_pref(rf_cs_pred, y_valid, rf_cs, 'RF-CS')"
   ]
  },
  {
   "cell_type": "code",
   "execution_count": 140,
   "metadata": {},
   "outputs": [
    {
     "name": "stdout",
     "output_type": "stream",
     "text": [
      "RF-CS :\n",
      "Accuarcy:  0.5893030794165316\n",
      "Roc_Auc:  0.7534522831629273\n",
      "G-mean:  0.7301055383475372\n",
      "F1-score:  0.21255438160348045\n",
      "F2-score:  0.14516129032258063\n",
      "AUC-PR:  0.5314789473757126\n"
     ]
    },
    {
     "data": {
      "image/png": "[encoded data removed]",
      "text/plain": [
       "<Figure size 432x288 with 2 Axes>"
      ]
     },
     "metadata": {
      "needs_background": "light"
     },
     "output_type": "display_data"
    }
   ],
   "source": [
    "eval_pref(rf_cs1_pred, y_valid1, rf_cs1, 'RF-CS')"
   ]
  },
  {
   "cell_type": "code",
   "execution_count": 63,
   "metadata": {},
   "outputs": [
    {
     "name": "stdout",
     "output_type": "stream",
     "text": [
      "SVM-SMOTH :\n",
      "Accuarcy:  0.6897893030794165\n",
      "Roc_Auc:  0.72186975958936\n",
      "G-mean:  0.7209528608193676\n",
      "F1-score:  0.22384428223844283\n",
      "F2-score:  0.1573187414500684\n",
      "AUC-PR:  0.451903919738212\n"
     ]
    },
    {
     "data": {
      "image/png": "[encoded data removed]",
      "text/plain": [
       "<Figure size 432x288 with 2 Axes>"
      ]
     },
     "metadata": {
      "needs_background": "light"
     },
     "output_type": "display_data"
    }
   ],
   "source": [
    "eval_pref(svm_smoth_pred, y_valid, svm_smoth, 'SVM-SMOTH')"
   ]
  },
  {
   "cell_type": "code",
   "execution_count": 112,
   "metadata": {},
   "outputs": [
    {
     "name": "stdout",
     "output_type": "stream",
     "text": [
      "SVM-SMOTH1 :\n",
      "Accuarcy:  0.7027552674230146\n",
      "Roc_Auc:  0.7210341329356141\n",
      "G-mean:  0.7207362431373359\n",
      "F1-score:  0.22746419545071608\n",
      "F2-score:  0.16063779152784385\n",
      "AUC-PR:  0.4456608040354623\n"
     ]
    },
    {
     "data": {
      "image/png": "[encoded data removed]",
      "text/plain": [
       "<Figure size 432x288 with 2 Axes>"
      ]
     },
     "metadata": {
      "needs_background": "light"
     },
     "output_type": "display_data"
    }
   ],
   "source": [
    "eval_pref(svm_smoth1_pred, y_valid1, svm_smoth1, 'SVM-SMOTH1')"
   ]
  },
  {
   "cell_type": "code",
   "execution_count": 69,
   "metadata": {},
   "outputs": [
    {
     "name": "stdout",
     "output_type": "stream",
     "text": [
      "SVM-NearMiss :\n",
      "Accuarcy:  0.4392220421393841\n",
      "Roc_Auc:  0.5655564724631208\n",
      "G-mean:  0.5471178427486639\n",
      "F1-score:  0.12977867203219315\n",
      "F2-score:  0.08709154739400483\n",
      "AUC-PR:  0.39869984148752385\n"
     ]
    },
    {
     "data": {
      "image/png": "[encoded data removed]",
      "text/plain": [
       "<Figure size 432x288 with 2 Axes>"
      ]
     },
     "metadata": {
      "needs_background": "light"
     },
     "output_type": "display_data"
    }
   ],
   "source": [
    "eval_pref(svm_nearmiss_pred, y_valid, svm_nearmiss, 'SVM-NearMiss')"
   ]
  },
  {
   "cell_type": "code",
   "execution_count": 70,
   "metadata": {},
   "outputs": [
    {
     "name": "stdout",
     "output_type": "stream",
     "text": [
      "SVM-NearMiss1 :\n",
      "Accuarcy:  0.5066450567260941\n",
      "Roc_Auc:  0.5679062583988522\n",
      "G-mean:  0.5636429097840432\n",
      "F1-score:  0.13226909920182442\n",
      "F2-score:  0.08964451313755796\n",
      "AUC-PR:  0.3662739135650415\n"
     ]
    },
    {
     "data": {
      "image/png": "[encoded data removed]",
      "text/plain": [
       "<Figure size 432x288 with 2 Axes>"
      ]
     },
     "metadata": {
      "needs_background": "light"
     },
     "output_type": "display_data"
    }
   ],
   "source": [
    "eval_pref(svm_nearmiss1_pred, y_valid1, svm_nearmiss1, 'SVM-NearMiss1')"
   ]
  },
  {
   "cell_type": "code",
   "execution_count": 75,
   "metadata": {},
   "outputs": [
    {
     "name": "stdout",
     "output_type": "stream",
     "text": [
      "SVM-CS :\n",
      "Accuarcy:  0.6022690437601297\n",
      "Roc_Auc:  0.7371665537356202\n",
      "G-mean:  0.7211261081150494\n",
      "F1-score:  0.20889748549323015\n",
      "F2-score:  0.14316012725344648\n",
      "AUC-PR:  0.5074637115243362\n"
     ]
    },
    {
     "data": {
      "image/png": "[encoded data removed]",
      "text/plain": [
       "<Figure size 432x288 with 2 Axes>"
      ]
     },
     "metadata": {
      "needs_background": "light"
     },
     "output_type": "display_data"
    }
   ],
   "source": [
    "eval_pref(svm_cs_pred, y_valid, svm_cs, 'SVM-CS')"
   ]
  },
  {
   "cell_type": "code",
   "execution_count": 113,
   "metadata": {},
   "outputs": [
    {
     "name": "stdout",
     "output_type": "stream",
     "text": [
      "SVM-CS1 :\n",
      "Accuarcy:  0.6084278768233388\n",
      "Roc_Auc:  0.7507390989995192\n",
      "G-mean:  0.7331955777837021\n",
      "F1-score:  0.2155844155844156\n",
      "F2-score:  0.14784467402921267\n",
      "AUC-PR:  0.5197564419907317\n"
     ]
    },
    {
     "data": {
      "image/png": "[encoded data removed]",
      "text/plain": [
       "<Figure size 432x288 with 2 Axes>"
      ]
     },
     "metadata": {
      "needs_background": "light"
     },
     "output_type": "display_data"
    }
   ],
   "source": [
    "eval_pref(svm_cs1_pred, y_valid1, svm_cs1, 'SVM-CS1')"
   ]
  },
  {
   "cell_type": "code",
   "execution_count": 100,
   "metadata": {},
   "outputs": [
    {
     "name": "stdout",
     "output_type": "stream",
     "text": [
      "NB-SMOTH :\n",
      "Accuarcy:  0.6197730956239871\n",
      "Roc_Auc:  0.7052670030623871\n",
      "G-mean:  0.6985742378499017\n",
      "F1-score:  0.1993174061433447\n",
      "F2-score:  0.13737297704177645\n",
      "AUC-PR:  0.46383148061080787\n"
     ]
    },
    {
     "data": {
      "image/png": "[encoded data removed]",
      "text/plain": [
       "<Figure size 432x288 with 2 Axes>"
      ]
     },
     "metadata": {
      "needs_background": "light"
     },
     "output_type": "display_data"
    }
   ],
   "source": [
    "eval_pref(nb_smoth_pred, y_valid, nb_smoth, 'NB-SMOTH')"
   ]
  },
  {
   "cell_type": "code",
   "execution_count": 114,
   "metadata": {},
   "outputs": [
    {
     "name": "stdout",
     "output_type": "stream",
     "text": [
      "NB-SMOTH1 :\n",
      "Accuarcy:  0.6204213938411669\n",
      "Roc_Auc:  0.7056114742990389\n",
      "G-mean:  0.6989696945687244\n",
      "F1-score:  0.1995898838004101\n",
      "F2-score:  0.13758009800226156\n",
      "AUC-PR:  0.4639203141713969\n"
     ]
    },
    {
     "data": {
      "image/png": "[encoded data removed]",
      "text/plain": [
       "<Figure size 432x288 with 2 Axes>"
      ]
     },
     "metadata": {
      "needs_background": "light"
     },
     "output_type": "display_data"
    }
   ],
   "source": [
    "eval_pref(nb_smoth1_pred, y_valid1, nb_smoth1, 'NB-SMOTH1')"
   ]
  }
 ],
 "metadata": {
  "kernelspec": {
   "display_name": "Python 3 (ipykernel)",
   "language": "python",
   "name": "python3"
  },
  "language_info": {
   "codemirror_mode": {
    "name": "ipython",
    "version": 3
   },
   "file_extension": ".py",
   "mimetype": "text/x-python",
   "name": "python",
   "nbconvert_exporter": "python",
   "pygments_lexer": "ipython3",
   "version": "3.9.7"
  }
 },
 "nbformat": 4,
 "nbformat_minor": 4
}
